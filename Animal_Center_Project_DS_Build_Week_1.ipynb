{
  "nbformat": 4,
  "nbformat_minor": 0,
  "metadata": {
    "colab": {
      "name": "Animal Center Project - DS Build Week 1 ",
      "provenance": [],
      "collapsed_sections": [
        "BdWQzvenXwLB",
        "UmOBPIl9M_wL",
        "agEkn7bPLiVH",
        "876e49XoP9aR",
        "mVFmuUoSPSkm",
        "3T23aEhCjJdX",
        "wmmac6Gt8fmw",
        "WppAm0L48Alw",
        "MwTeHd5sNcs8",
        "6y4-b9VQaccQ",
        "fTVOmV5Aj3ml",
        "5MUpJ3Gh8m3V",
        "UIVNbY3y_nuW",
        "BSqP4acVdZeM"
      ],
      "authorship_tag": "ABX9TyP1P29CT247T85x4pIpdz7i",
      "include_colab_link": true
    },
    "kernelspec": {
      "name": "python3",
      "display_name": "Python 3"
    }
  },
  "cells": [
    {
      "cell_type": "markdown",
      "metadata": {
        "id": "view-in-github",
        "colab_type": "text"
      },
      "source": [
        "<a href=\"https://colab.research.google.com/github/duellal/DS-Unit-1-Build/blob/duellal-patch-1/Animal_Center_Project_DS_Build_Week_1.ipynb\" target=\"_parent\"><img src=\"https://colab.research.google.com/assets/colab-badge.svg\" alt=\"Open In Colab\"/></a>"
      ]
    },
    {
      "cell_type": "markdown",
      "metadata": {
        "id": "xly7urYqXYlX"
      },
      "source": [
        "###Research Question:\n",
        "\n",
        "In the United States, animal shelters are known to euthanize animals based on behavior and/or signs of aggression. By looking at the Austin, Texas Animal Center's data, I will analyze why certain animals are euthanized, the timeline to when the Center euthanizes the animals, and if the animal center is true to their statement that 90% of animals are not euthanized. "
      ]
    },
    {
      "cell_type": "markdown",
      "metadata": {
        "id": "XDMBdj6OLH3u"
      },
      "source": [
        "# About the Data:\n",
        "\n",
        "***Intakes:***\n",
        "\n",
        "Animal Center Intakes from Oct, 1st 2013 to present. Intakes represent the status of animals as they arrive at the Animal Center. All animals receive a unique Animal ID during intake. Annually over 90% of animals entering the center, are adopted, transferred to rescue or returned to their owners.\n",
        "\n",
        "***Outcomes:***\n",
        "\n",
        "Animal Center Outcomes from Oct, 1st 2013 to present. Outcomes represent the status of animals as they leave the Animal Center. All animals receive a unique Animal ID during intake. Annually over 90% of animals entering the center, are adopted, transferred to rescue or returned to their owners. The Outcomes data set reflects that Austin, TX. is the largest \"No Kill\" city in the country."
      ]
    },
    {
      "cell_type": "markdown",
      "metadata": {
        "id": "BdWQzvenXwLB"
      },
      "source": [
        "## Importing Data and Creating One Dataframe"
      ]
    },
    {
      "cell_type": "code",
      "metadata": {
        "id": "sw4rS1HpLtbp"
      },
      "source": [
        "#importing packages that I will need\n",
        "import pandas as pd\n",
        "import numpy as np\n",
        "import matplotlib as plt\n",
        "from matplotlib.pyplot import hist\n",
        "from matplotlib import pyplot as plt \n",
        "from matplotlib.lines import Line2D\n",
        "from datetime import datetime\n",
        "import plotly.graph_objects as go\n",
        "import plotly.figure_factory as ff"
      ],
      "execution_count": 233,
      "outputs": []
    },
    {
      "cell_type": "code",
      "metadata": {
        "colab": {
          "base_uri": "https://localhost:8080/",
          "height": 323
        },
        "id": "zEDOsk9tUWxj",
        "outputId": "63045810-4bfa-4301-d59a-e3b01c2c009f"
      },
      "source": [
        "intake_headers = ['Animal ID', 'Name Intake', 'Intake DateTime', 'Intake MonthYear','Found Location', 'Intake Type', 'Intake Condition', 'Animal Type',\n",
        "                  'Sex Upon Intake', 'Age Upon Intake', 'Breed', 'Color']\n",
        "intake = pd.read_csv('https://raw.githubusercontent.com/duellal/Datasets/main/Austin_Animal_Center_Intakes.csv', header=1, names=intake_headers)\n",
        "intake.head(5)"
      ],
      "execution_count": 3,
      "outputs": [
        {
          "output_type": "execute_result",
          "data": {
            "text/html": [
              "<div>\n",
              "<style scoped>\n",
              "    .dataframe tbody tr th:only-of-type {\n",
              "        vertical-align: middle;\n",
              "    }\n",
              "\n",
              "    .dataframe tbody tr th {\n",
              "        vertical-align: top;\n",
              "    }\n",
              "\n",
              "    .dataframe thead th {\n",
              "        text-align: right;\n",
              "    }\n",
              "</style>\n",
              "<table border=\"1\" class=\"dataframe\">\n",
              "  <thead>\n",
              "    <tr style=\"text-align: right;\">\n",
              "      <th></th>\n",
              "      <th>Animal ID</th>\n",
              "      <th>Name Intake</th>\n",
              "      <th>Intake DateTime</th>\n",
              "      <th>Intake MonthYear</th>\n",
              "      <th>Found Location</th>\n",
              "      <th>Intake Type</th>\n",
              "      <th>Intake Condition</th>\n",
              "      <th>Animal Type</th>\n",
              "      <th>Sex Upon Intake</th>\n",
              "      <th>Age Upon Intake</th>\n",
              "      <th>Breed</th>\n",
              "      <th>Color</th>\n",
              "    </tr>\n",
              "  </thead>\n",
              "  <tbody>\n",
              "    <tr>\n",
              "      <th>0</th>\n",
              "      <td>A706918</td>\n",
              "      <td>Belle</td>\n",
              "      <td>07/05/2015 12:59:00 PM</td>\n",
              "      <td>07/05/2015 12:59:00 PM</td>\n",
              "      <td>9409 Bluegrass Dr in Austin (TX)</td>\n",
              "      <td>Stray</td>\n",
              "      <td>Normal</td>\n",
              "      <td>Dog</td>\n",
              "      <td>Spayed Female</td>\n",
              "      <td>8 years</td>\n",
              "      <td>English Springer Spaniel</td>\n",
              "      <td>White/Liver</td>\n",
              "    </tr>\n",
              "    <tr>\n",
              "      <th>1</th>\n",
              "      <td>A724273</td>\n",
              "      <td>Runster</td>\n",
              "      <td>04/14/2016 06:43:00 PM</td>\n",
              "      <td>04/14/2016 06:43:00 PM</td>\n",
              "      <td>2818 Palomino Trail in Austin (TX)</td>\n",
              "      <td>Stray</td>\n",
              "      <td>Normal</td>\n",
              "      <td>Dog</td>\n",
              "      <td>Intact Male</td>\n",
              "      <td>11 months</td>\n",
              "      <td>Basenji Mix</td>\n",
              "      <td>Sable/White</td>\n",
              "    </tr>\n",
              "    <tr>\n",
              "      <th>2</th>\n",
              "      <td>A665644</td>\n",
              "      <td>NaN</td>\n",
              "      <td>10/21/2013 07:59:00 AM</td>\n",
              "      <td>10/21/2013 07:59:00 AM</td>\n",
              "      <td>Austin (TX)</td>\n",
              "      <td>Stray</td>\n",
              "      <td>Sick</td>\n",
              "      <td>Cat</td>\n",
              "      <td>Intact Female</td>\n",
              "      <td>4 weeks</td>\n",
              "      <td>Domestic Shorthair Mix</td>\n",
              "      <td>Calico</td>\n",
              "    </tr>\n",
              "    <tr>\n",
              "      <th>3</th>\n",
              "      <td>A682524</td>\n",
              "      <td>Rio</td>\n",
              "      <td>06/29/2014 10:38:00 AM</td>\n",
              "      <td>06/29/2014 10:38:00 AM</td>\n",
              "      <td>800 Grove Blvd in Austin (TX)</td>\n",
              "      <td>Stray</td>\n",
              "      <td>Normal</td>\n",
              "      <td>Dog</td>\n",
              "      <td>Neutered Male</td>\n",
              "      <td>4 years</td>\n",
              "      <td>Doberman Pinsch/Australian Cattle Dog</td>\n",
              "      <td>Tan/Gray</td>\n",
              "    </tr>\n",
              "    <tr>\n",
              "      <th>4</th>\n",
              "      <td>A743852</td>\n",
              "      <td>Odin</td>\n",
              "      <td>02/18/2017 12:46:00 PM</td>\n",
              "      <td>02/18/2017 12:46:00 PM</td>\n",
              "      <td>Austin (TX)</td>\n",
              "      <td>Owner Surrender</td>\n",
              "      <td>Normal</td>\n",
              "      <td>Dog</td>\n",
              "      <td>Neutered Male</td>\n",
              "      <td>2 years</td>\n",
              "      <td>Labrador Retriever Mix</td>\n",
              "      <td>Chocolate</td>\n",
              "    </tr>\n",
              "  </tbody>\n",
              "</table>\n",
              "</div>"
            ],
            "text/plain": [
              "  Animal ID Name Intake  ...                                  Breed        Color\n",
              "0   A706918       Belle  ...               English Springer Spaniel  White/Liver\n",
              "1   A724273     Runster  ...                            Basenji Mix  Sable/White\n",
              "2   A665644         NaN  ...                 Domestic Shorthair Mix       Calico\n",
              "3   A682524         Rio  ...  Doberman Pinsch/Australian Cattle Dog     Tan/Gray\n",
              "4   A743852        Odin  ...                 Labrador Retriever Mix    Chocolate\n",
              "\n",
              "[5 rows x 12 columns]"
            ]
          },
          "metadata": {
            "tags": []
          },
          "execution_count": 3
        }
      ]
    },
    {
      "cell_type": "code",
      "metadata": {
        "colab": {
          "base_uri": "https://localhost:8080/",
          "height": 306
        },
        "id": "Ke5aE5uSVF_l",
        "outputId": "1ec3355a-43fd-4168-cebc-4cabcd647c7b"
      },
      "source": [
        "outcome_headers = ['Animal ID', 'Name Outcome', 'Outcome DateTime', 'Outcome MonthYear','Date of Birth', 'Outcome Type', 'Outcome Subtype', \n",
        "                   'Animal Type', 'Sex Upon Outcome', 'Age Upon Outcome', 'Breed', 'Color']\n",
        "outcome = pd.read_csv('https://raw.githubusercontent.com/duellal/Datasets/main/Austin_Animal_Center_Outcomes.csv', header=1, names=outcome_headers)\n",
        "outcome.head(5)"
      ],
      "execution_count": 4,
      "outputs": [
        {
          "output_type": "execute_result",
          "data": {
            "text/html": [
              "<div>\n",
              "<style scoped>\n",
              "    .dataframe tbody tr th:only-of-type {\n",
              "        vertical-align: middle;\n",
              "    }\n",
              "\n",
              "    .dataframe tbody tr th {\n",
              "        vertical-align: top;\n",
              "    }\n",
              "\n",
              "    .dataframe thead th {\n",
              "        text-align: right;\n",
              "    }\n",
              "</style>\n",
              "<table border=\"1\" class=\"dataframe\">\n",
              "  <thead>\n",
              "    <tr style=\"text-align: right;\">\n",
              "      <th></th>\n",
              "      <th>Animal ID</th>\n",
              "      <th>Name Outcome</th>\n",
              "      <th>Outcome DateTime</th>\n",
              "      <th>Outcome MonthYear</th>\n",
              "      <th>Date of Birth</th>\n",
              "      <th>Outcome Type</th>\n",
              "      <th>Outcome Subtype</th>\n",
              "      <th>Animal Type</th>\n",
              "      <th>Sex Upon Outcome</th>\n",
              "      <th>Age Upon Outcome</th>\n",
              "      <th>Breed</th>\n",
              "      <th>Color</th>\n",
              "    </tr>\n",
              "  </thead>\n",
              "  <tbody>\n",
              "    <tr>\n",
              "      <th>0</th>\n",
              "      <td>A776359</td>\n",
              "      <td>Gizmo</td>\n",
              "      <td>07/18/2018 04:02:00 PM</td>\n",
              "      <td>07/18/2018 04:02:00 PM</td>\n",
              "      <td>07/12/2017</td>\n",
              "      <td>Adoption</td>\n",
              "      <td>NaN</td>\n",
              "      <td>Dog</td>\n",
              "      <td>Neutered Male</td>\n",
              "      <td>1 year</td>\n",
              "      <td>Chihuahua Shorthair Mix</td>\n",
              "      <td>White/Brown</td>\n",
              "    </tr>\n",
              "    <tr>\n",
              "      <th>1</th>\n",
              "      <td>A821648</td>\n",
              "      <td>NaN</td>\n",
              "      <td>08/16/2020 11:38:00 AM</td>\n",
              "      <td>08/16/2020 11:38:00 AM</td>\n",
              "      <td>08/16/2019</td>\n",
              "      <td>Euthanasia</td>\n",
              "      <td>NaN</td>\n",
              "      <td>Other</td>\n",
              "      <td>Unknown</td>\n",
              "      <td>1 year</td>\n",
              "      <td>Raccoon</td>\n",
              "      <td>Gray</td>\n",
              "    </tr>\n",
              "    <tr>\n",
              "      <th>2</th>\n",
              "      <td>A720371</td>\n",
              "      <td>Moose</td>\n",
              "      <td>02/13/2016 05:59:00 PM</td>\n",
              "      <td>02/13/2016 05:59:00 PM</td>\n",
              "      <td>10/08/2015</td>\n",
              "      <td>Adoption</td>\n",
              "      <td>NaN</td>\n",
              "      <td>Dog</td>\n",
              "      <td>Neutered Male</td>\n",
              "      <td>4 months</td>\n",
              "      <td>Anatol Shepherd/Labrador Retriever</td>\n",
              "      <td>Buff</td>\n",
              "    </tr>\n",
              "    <tr>\n",
              "      <th>3</th>\n",
              "      <td>A674754</td>\n",
              "      <td>NaN</td>\n",
              "      <td>03/18/2014 11:47:00 AM</td>\n",
              "      <td>03/18/2014 11:47:00 AM</td>\n",
              "      <td>03/12/2014</td>\n",
              "      <td>Transfer</td>\n",
              "      <td>Partner</td>\n",
              "      <td>Cat</td>\n",
              "      <td>Intact Male</td>\n",
              "      <td>6 days</td>\n",
              "      <td>Domestic Shorthair Mix</td>\n",
              "      <td>Orange Tabby</td>\n",
              "    </tr>\n",
              "    <tr>\n",
              "      <th>4</th>\n",
              "      <td>A659412</td>\n",
              "      <td>Princess</td>\n",
              "      <td>10/05/2020 02:37:00 PM</td>\n",
              "      <td>10/05/2020 02:37:00 PM</td>\n",
              "      <td>03/24/2013</td>\n",
              "      <td>Adoption</td>\n",
              "      <td>NaN</td>\n",
              "      <td>Dog</td>\n",
              "      <td>Spayed Female</td>\n",
              "      <td>7 years</td>\n",
              "      <td>Chihuahua Shorthair Mix</td>\n",
              "      <td>Brown</td>\n",
              "    </tr>\n",
              "  </tbody>\n",
              "</table>\n",
              "</div>"
            ],
            "text/plain": [
              "  Animal ID Name Outcome  ...                               Breed         Color\n",
              "0   A776359        Gizmo  ...             Chihuahua Shorthair Mix   White/Brown\n",
              "1   A821648          NaN  ...                             Raccoon          Gray\n",
              "2   A720371        Moose  ...  Anatol Shepherd/Labrador Retriever          Buff\n",
              "3   A674754          NaN  ...              Domestic Shorthair Mix  Orange Tabby\n",
              "4   A659412     Princess  ...             Chihuahua Shorthair Mix         Brown\n",
              "\n",
              "[5 rows x 12 columns]"
            ]
          },
          "metadata": {
            "tags": []
          },
          "execution_count": 4
        }
      ]
    },
    {
      "cell_type": "code",
      "metadata": {
        "colab": {
          "base_uri": "https://localhost:8080/"
        },
        "id": "4e6B2lujXW08",
        "outputId": "d0ca40c6-d0f7-4634-ea5d-ded4cd7b2a08"
      },
      "source": [
        "print('Intakes:', intake.shape)\n",
        "print(\"Outcomes:\", outcome.shape)"
      ],
      "execution_count": 5,
      "outputs": [
        {
          "output_type": "stream",
          "text": [
            "Intakes: (123365, 12)\n",
            "Outcomes: (123672, 12)\n"
          ],
          "name": "stdout"
        }
      ]
    },
    {
      "cell_type": "code",
      "metadata": {
        "colab": {
          "base_uri": "https://localhost:8080/",
          "height": 513
        },
        "id": "Q86mftInrpaq",
        "outputId": "daf3fc94-d160-49d6-e6d8-7b0fee25fc44"
      },
      "source": [
        "animal_shelter = pd.merge(intake, outcome, how='inner', on=['Animal ID'])\n",
        "animal_shelter.head()"
      ],
      "execution_count": 6,
      "outputs": [
        {
          "output_type": "execute_result",
          "data": {
            "text/html": [
              "<div>\n",
              "<style scoped>\n",
              "    .dataframe tbody tr th:only-of-type {\n",
              "        vertical-align: middle;\n",
              "    }\n",
              "\n",
              "    .dataframe tbody tr th {\n",
              "        vertical-align: top;\n",
              "    }\n",
              "\n",
              "    .dataframe thead th {\n",
              "        text-align: right;\n",
              "    }\n",
              "</style>\n",
              "<table border=\"1\" class=\"dataframe\">\n",
              "  <thead>\n",
              "    <tr style=\"text-align: right;\">\n",
              "      <th></th>\n",
              "      <th>Animal ID</th>\n",
              "      <th>Name Intake</th>\n",
              "      <th>Intake DateTime</th>\n",
              "      <th>Intake MonthYear</th>\n",
              "      <th>Found Location</th>\n",
              "      <th>Intake Type</th>\n",
              "      <th>Intake Condition</th>\n",
              "      <th>Animal Type_x</th>\n",
              "      <th>Sex Upon Intake</th>\n",
              "      <th>Age Upon Intake</th>\n",
              "      <th>Breed_x</th>\n",
              "      <th>Color_x</th>\n",
              "      <th>Name Outcome</th>\n",
              "      <th>Outcome DateTime</th>\n",
              "      <th>Outcome MonthYear</th>\n",
              "      <th>Date of Birth</th>\n",
              "      <th>Outcome Type</th>\n",
              "      <th>Outcome Subtype</th>\n",
              "      <th>Animal Type_y</th>\n",
              "      <th>Sex Upon Outcome</th>\n",
              "      <th>Age Upon Outcome</th>\n",
              "      <th>Breed_y</th>\n",
              "      <th>Color_y</th>\n",
              "    </tr>\n",
              "  </thead>\n",
              "  <tbody>\n",
              "    <tr>\n",
              "      <th>0</th>\n",
              "      <td>A706918</td>\n",
              "      <td>Belle</td>\n",
              "      <td>07/05/2015 12:59:00 PM</td>\n",
              "      <td>07/05/2015 12:59:00 PM</td>\n",
              "      <td>9409 Bluegrass Dr in Austin (TX)</td>\n",
              "      <td>Stray</td>\n",
              "      <td>Normal</td>\n",
              "      <td>Dog</td>\n",
              "      <td>Spayed Female</td>\n",
              "      <td>8 years</td>\n",
              "      <td>English Springer Spaniel</td>\n",
              "      <td>White/Liver</td>\n",
              "      <td>Belle</td>\n",
              "      <td>07/05/2015 03:13:00 PM</td>\n",
              "      <td>07/05/2015 03:13:00 PM</td>\n",
              "      <td>07/05/2007</td>\n",
              "      <td>Return to Owner</td>\n",
              "      <td>NaN</td>\n",
              "      <td>Dog</td>\n",
              "      <td>Spayed Female</td>\n",
              "      <td>8 years</td>\n",
              "      <td>English Springer Spaniel</td>\n",
              "      <td>White/Liver</td>\n",
              "    </tr>\n",
              "    <tr>\n",
              "      <th>1</th>\n",
              "      <td>A724273</td>\n",
              "      <td>Runster</td>\n",
              "      <td>04/14/2016 06:43:00 PM</td>\n",
              "      <td>04/14/2016 06:43:00 PM</td>\n",
              "      <td>2818 Palomino Trail in Austin (TX)</td>\n",
              "      <td>Stray</td>\n",
              "      <td>Normal</td>\n",
              "      <td>Dog</td>\n",
              "      <td>Intact Male</td>\n",
              "      <td>11 months</td>\n",
              "      <td>Basenji Mix</td>\n",
              "      <td>Sable/White</td>\n",
              "      <td>Runster</td>\n",
              "      <td>04/21/2016 05:17:00 PM</td>\n",
              "      <td>04/21/2016 05:17:00 PM</td>\n",
              "      <td>04/17/2015</td>\n",
              "      <td>Return to Owner</td>\n",
              "      <td>NaN</td>\n",
              "      <td>Dog</td>\n",
              "      <td>Neutered Male</td>\n",
              "      <td>1 year</td>\n",
              "      <td>Basenji Mix</td>\n",
              "      <td>Sable/White</td>\n",
              "    </tr>\n",
              "    <tr>\n",
              "      <th>2</th>\n",
              "      <td>A665644</td>\n",
              "      <td>NaN</td>\n",
              "      <td>10/21/2013 07:59:00 AM</td>\n",
              "      <td>10/21/2013 07:59:00 AM</td>\n",
              "      <td>Austin (TX)</td>\n",
              "      <td>Stray</td>\n",
              "      <td>Sick</td>\n",
              "      <td>Cat</td>\n",
              "      <td>Intact Female</td>\n",
              "      <td>4 weeks</td>\n",
              "      <td>Domestic Shorthair Mix</td>\n",
              "      <td>Calico</td>\n",
              "      <td>NaN</td>\n",
              "      <td>10/21/2013 11:39:00 AM</td>\n",
              "      <td>10/21/2013 11:39:00 AM</td>\n",
              "      <td>09/21/2013</td>\n",
              "      <td>Transfer</td>\n",
              "      <td>Partner</td>\n",
              "      <td>Cat</td>\n",
              "      <td>Intact Female</td>\n",
              "      <td>4 weeks</td>\n",
              "      <td>Domestic Shorthair Mix</td>\n",
              "      <td>Calico</td>\n",
              "    </tr>\n",
              "    <tr>\n",
              "      <th>3</th>\n",
              "      <td>A682524</td>\n",
              "      <td>Rio</td>\n",
              "      <td>06/29/2014 10:38:00 AM</td>\n",
              "      <td>06/29/2014 10:38:00 AM</td>\n",
              "      <td>800 Grove Blvd in Austin (TX)</td>\n",
              "      <td>Stray</td>\n",
              "      <td>Normal</td>\n",
              "      <td>Dog</td>\n",
              "      <td>Neutered Male</td>\n",
              "      <td>4 years</td>\n",
              "      <td>Doberman Pinsch/Australian Cattle Dog</td>\n",
              "      <td>Tan/Gray</td>\n",
              "      <td>Rio</td>\n",
              "      <td>07/02/2014 02:16:00 PM</td>\n",
              "      <td>07/02/2014 02:16:00 PM</td>\n",
              "      <td>06/29/2010</td>\n",
              "      <td>Return to Owner</td>\n",
              "      <td>NaN</td>\n",
              "      <td>Dog</td>\n",
              "      <td>Neutered Male</td>\n",
              "      <td>4 years</td>\n",
              "      <td>Doberman Pinsch/Australian Cattle Dog</td>\n",
              "      <td>Tan/Gray</td>\n",
              "    </tr>\n",
              "    <tr>\n",
              "      <th>4</th>\n",
              "      <td>A743852</td>\n",
              "      <td>Odin</td>\n",
              "      <td>02/18/2017 12:46:00 PM</td>\n",
              "      <td>02/18/2017 12:46:00 PM</td>\n",
              "      <td>Austin (TX)</td>\n",
              "      <td>Owner Surrender</td>\n",
              "      <td>Normal</td>\n",
              "      <td>Dog</td>\n",
              "      <td>Neutered Male</td>\n",
              "      <td>2 years</td>\n",
              "      <td>Labrador Retriever Mix</td>\n",
              "      <td>Chocolate</td>\n",
              "      <td>Odin</td>\n",
              "      <td>02/21/2017 05:44:00 PM</td>\n",
              "      <td>02/21/2017 05:44:00 PM</td>\n",
              "      <td>02/18/2015</td>\n",
              "      <td>Return to Owner</td>\n",
              "      <td>NaN</td>\n",
              "      <td>Dog</td>\n",
              "      <td>Neutered Male</td>\n",
              "      <td>2 years</td>\n",
              "      <td>Labrador Retriever Mix</td>\n",
              "      <td>Chocolate</td>\n",
              "    </tr>\n",
              "  </tbody>\n",
              "</table>\n",
              "</div>"
            ],
            "text/plain": [
              "  Animal ID Name Intake  ...                                Breed_y      Color_y\n",
              "0   A706918       Belle  ...               English Springer Spaniel  White/Liver\n",
              "1   A724273     Runster  ...                            Basenji Mix  Sable/White\n",
              "2   A665644         NaN  ...                 Domestic Shorthair Mix       Calico\n",
              "3   A682524         Rio  ...  Doberman Pinsch/Australian Cattle Dog     Tan/Gray\n",
              "4   A743852        Odin  ...                 Labrador Retriever Mix    Chocolate\n",
              "\n",
              "[5 rows x 23 columns]"
            ]
          },
          "metadata": {
            "tags": []
          },
          "execution_count": 6
        }
      ]
    },
    {
      "cell_type": "code",
      "metadata": {
        "colab": {
          "base_uri": "https://localhost:8080/"
        },
        "id": "G_5xzar3sWTT",
        "outputId": "86705004-f7f1-44bc-8e97-3a849263392b"
      },
      "source": [
        "#Based on how many animal outcomes do not have an animal intake, I decided to look at the Animal ID intake to see if there were duplicates\n",
        "intake['Animal ID'].value_counts()"
      ],
      "execution_count": 7,
      "outputs": [
        {
          "output_type": "execute_result",
          "data": {
            "text/plain": [
              "A721033    33\n",
              "A718223    14\n",
              "A718877    12\n",
              "A706536    11\n",
              "A716018     9\n",
              "           ..\n",
              "A740047     1\n",
              "A761025     1\n",
              "A775724     1\n",
              "A774038     1\n",
              "A736185     1\n",
              "Name: Animal ID, Length: 110292, dtype: int64"
            ]
          },
          "metadata": {
            "tags": []
          },
          "execution_count": 7
        }
      ]
    },
    {
      "cell_type": "code",
      "metadata": {
        "colab": {
          "base_uri": "https://localhost:8080/"
        },
        "id": "c-KCyKRT_wsm",
        "outputId": "13344948-c093-45b0-8323-b0227ed6335d"
      },
      "source": [
        "#Based on how many animal outcomes do not have an animal intake, I decided to look at the Animal ID intake to see if there were duplicates\n",
        "outcome['Animal ID'].value_counts()"
      ],
      "execution_count": 8,
      "outputs": [
        {
          "output_type": "execute_result",
          "data": {
            "text/plain": [
              "A721033    33\n",
              "A718223    14\n",
              "A718877    12\n",
              "A706536    11\n",
              "A616444     9\n",
              "           ..\n",
              "A719110     1\n",
              "A702751     1\n",
              "A724882     1\n",
              "A742464     1\n",
              "A736185     1\n",
              "Name: Animal ID, Length: 110607, dtype: int64"
            ]
          },
          "metadata": {
            "tags": []
          },
          "execution_count": 8
        }
      ]
    },
    {
      "cell_type": "markdown",
      "metadata": {
        "id": "UmOBPIl9M_wL"
      },
      "source": [
        "##Cleaning Up the Dataframe created"
      ]
    },
    {
      "cell_type": "code",
      "metadata": {
        "colab": {
          "base_uri": "https://localhost:8080/",
          "height": 0
        },
        "id": "As2CvrfxfNkW",
        "outputId": "ee673a4b-0066-4c44-be5f-c2e0cb328a96"
      },
      "source": [
        "#Now that I have gathered the dataframe for all animals with intakes and outcomes, I will clean up the dataframe by first dropping the columns not needed\n",
        "animal_shelter = animal_shelter.drop(['Intake MonthYear', 'Found Location', 'Outcome MonthYear', 'Breed_y', 'Color_y', 'Animal Type_y'], axis=1)\n",
        "animal_shelter"
      ],
      "execution_count": 9,
      "outputs": [
        {
          "output_type": "execute_result",
          "data": {
            "text/html": [
              "<div>\n",
              "<style scoped>\n",
              "    .dataframe tbody tr th:only-of-type {\n",
              "        vertical-align: middle;\n",
              "    }\n",
              "\n",
              "    .dataframe tbody tr th {\n",
              "        vertical-align: top;\n",
              "    }\n",
              "\n",
              "    .dataframe thead th {\n",
              "        text-align: right;\n",
              "    }\n",
              "</style>\n",
              "<table border=\"1\" class=\"dataframe\">\n",
              "  <thead>\n",
              "    <tr style=\"text-align: right;\">\n",
              "      <th></th>\n",
              "      <th>Animal ID</th>\n",
              "      <th>Name Intake</th>\n",
              "      <th>Intake DateTime</th>\n",
              "      <th>Intake Type</th>\n",
              "      <th>Intake Condition</th>\n",
              "      <th>Animal Type_x</th>\n",
              "      <th>Sex Upon Intake</th>\n",
              "      <th>Age Upon Intake</th>\n",
              "      <th>Breed_x</th>\n",
              "      <th>Color_x</th>\n",
              "      <th>Name Outcome</th>\n",
              "      <th>Outcome DateTime</th>\n",
              "      <th>Date of Birth</th>\n",
              "      <th>Outcome Type</th>\n",
              "      <th>Outcome Subtype</th>\n",
              "      <th>Sex Upon Outcome</th>\n",
              "      <th>Age Upon Outcome</th>\n",
              "    </tr>\n",
              "  </thead>\n",
              "  <tbody>\n",
              "    <tr>\n",
              "      <th>0</th>\n",
              "      <td>A706918</td>\n",
              "      <td>Belle</td>\n",
              "      <td>07/05/2015 12:59:00 PM</td>\n",
              "      <td>Stray</td>\n",
              "      <td>Normal</td>\n",
              "      <td>Dog</td>\n",
              "      <td>Spayed Female</td>\n",
              "      <td>8 years</td>\n",
              "      <td>English Springer Spaniel</td>\n",
              "      <td>White/Liver</td>\n",
              "      <td>Belle</td>\n",
              "      <td>07/05/2015 03:13:00 PM</td>\n",
              "      <td>07/05/2007</td>\n",
              "      <td>Return to Owner</td>\n",
              "      <td>NaN</td>\n",
              "      <td>Spayed Female</td>\n",
              "      <td>8 years</td>\n",
              "    </tr>\n",
              "    <tr>\n",
              "      <th>1</th>\n",
              "      <td>A724273</td>\n",
              "      <td>Runster</td>\n",
              "      <td>04/14/2016 06:43:00 PM</td>\n",
              "      <td>Stray</td>\n",
              "      <td>Normal</td>\n",
              "      <td>Dog</td>\n",
              "      <td>Intact Male</td>\n",
              "      <td>11 months</td>\n",
              "      <td>Basenji Mix</td>\n",
              "      <td>Sable/White</td>\n",
              "      <td>Runster</td>\n",
              "      <td>04/21/2016 05:17:00 PM</td>\n",
              "      <td>04/17/2015</td>\n",
              "      <td>Return to Owner</td>\n",
              "      <td>NaN</td>\n",
              "      <td>Neutered Male</td>\n",
              "      <td>1 year</td>\n",
              "    </tr>\n",
              "    <tr>\n",
              "      <th>2</th>\n",
              "      <td>A665644</td>\n",
              "      <td>NaN</td>\n",
              "      <td>10/21/2013 07:59:00 AM</td>\n",
              "      <td>Stray</td>\n",
              "      <td>Sick</td>\n",
              "      <td>Cat</td>\n",
              "      <td>Intact Female</td>\n",
              "      <td>4 weeks</td>\n",
              "      <td>Domestic Shorthair Mix</td>\n",
              "      <td>Calico</td>\n",
              "      <td>NaN</td>\n",
              "      <td>10/21/2013 11:39:00 AM</td>\n",
              "      <td>09/21/2013</td>\n",
              "      <td>Transfer</td>\n",
              "      <td>Partner</td>\n",
              "      <td>Intact Female</td>\n",
              "      <td>4 weeks</td>\n",
              "    </tr>\n",
              "    <tr>\n",
              "      <th>3</th>\n",
              "      <td>A682524</td>\n",
              "      <td>Rio</td>\n",
              "      <td>06/29/2014 10:38:00 AM</td>\n",
              "      <td>Stray</td>\n",
              "      <td>Normal</td>\n",
              "      <td>Dog</td>\n",
              "      <td>Neutered Male</td>\n",
              "      <td>4 years</td>\n",
              "      <td>Doberman Pinsch/Australian Cattle Dog</td>\n",
              "      <td>Tan/Gray</td>\n",
              "      <td>Rio</td>\n",
              "      <td>07/02/2014 02:16:00 PM</td>\n",
              "      <td>06/29/2010</td>\n",
              "      <td>Return to Owner</td>\n",
              "      <td>NaN</td>\n",
              "      <td>Neutered Male</td>\n",
              "      <td>4 years</td>\n",
              "    </tr>\n",
              "    <tr>\n",
              "      <th>4</th>\n",
              "      <td>A743852</td>\n",
              "      <td>Odin</td>\n",
              "      <td>02/18/2017 12:46:00 PM</td>\n",
              "      <td>Owner Surrender</td>\n",
              "      <td>Normal</td>\n",
              "      <td>Dog</td>\n",
              "      <td>Neutered Male</td>\n",
              "      <td>2 years</td>\n",
              "      <td>Labrador Retriever Mix</td>\n",
              "      <td>Chocolate</td>\n",
              "      <td>Odin</td>\n",
              "      <td>02/21/2017 05:44:00 PM</td>\n",
              "      <td>02/18/2015</td>\n",
              "      <td>Return to Owner</td>\n",
              "      <td>NaN</td>\n",
              "      <td>Neutered Male</td>\n",
              "      <td>2 years</td>\n",
              "    </tr>\n",
              "    <tr>\n",
              "      <th>...</th>\n",
              "      <td>...</td>\n",
              "      <td>...</td>\n",
              "      <td>...</td>\n",
              "      <td>...</td>\n",
              "      <td>...</td>\n",
              "      <td>...</td>\n",
              "      <td>...</td>\n",
              "      <td>...</td>\n",
              "      <td>...</td>\n",
              "      <td>...</td>\n",
              "      <td>...</td>\n",
              "      <td>...</td>\n",
              "      <td>...</td>\n",
              "      <td>...</td>\n",
              "      <td>...</td>\n",
              "      <td>...</td>\n",
              "      <td>...</td>\n",
              "    </tr>\n",
              "    <tr>\n",
              "      <th>159275</th>\n",
              "      <td>A828439</td>\n",
              "      <td>NaN</td>\n",
              "      <td>01/16/2021 01:30:00 PM</td>\n",
              "      <td>Owner Surrender</td>\n",
              "      <td>Injured</td>\n",
              "      <td>Dog</td>\n",
              "      <td>Intact Female</td>\n",
              "      <td>8 months</td>\n",
              "      <td>Great Pyrenees</td>\n",
              "      <td>White/Black</td>\n",
              "      <td>NaN</td>\n",
              "      <td>01/16/2021 04:40:00 PM</td>\n",
              "      <td>05/16/2020</td>\n",
              "      <td>Euthanasia</td>\n",
              "      <td>Suffering</td>\n",
              "      <td>Intact Female</td>\n",
              "      <td>8 months</td>\n",
              "    </tr>\n",
              "    <tr>\n",
              "      <th>159276</th>\n",
              "      <td>A828379</td>\n",
              "      <td>NaN</td>\n",
              "      <td>01/15/2021 08:57:00 AM</td>\n",
              "      <td>Wildlife</td>\n",
              "      <td>Sick</td>\n",
              "      <td>Other</td>\n",
              "      <td>Unknown</td>\n",
              "      <td>1 year</td>\n",
              "      <td>Skunk</td>\n",
              "      <td>Black/White</td>\n",
              "      <td>NaN</td>\n",
              "      <td>01/15/2021 09:36:00 AM</td>\n",
              "      <td>01/15/2020</td>\n",
              "      <td>Euthanasia</td>\n",
              "      <td>Rabies Risk</td>\n",
              "      <td>Unknown</td>\n",
              "      <td>1 year</td>\n",
              "    </tr>\n",
              "    <tr>\n",
              "      <th>159277</th>\n",
              "      <td>A828445</td>\n",
              "      <td>Blue</td>\n",
              "      <td>01/16/2021 04:15:00 PM</td>\n",
              "      <td>Stray</td>\n",
              "      <td>Normal</td>\n",
              "      <td>Dog</td>\n",
              "      <td>Intact Male</td>\n",
              "      <td>2 years</td>\n",
              "      <td>Boxer</td>\n",
              "      <td>Brown/White</td>\n",
              "      <td>Blue</td>\n",
              "      <td>01/17/2021 01:33:00 PM</td>\n",
              "      <td>01/16/2019</td>\n",
              "      <td>Return to Owner</td>\n",
              "      <td>NaN</td>\n",
              "      <td>Intact Male</td>\n",
              "      <td>2 years</td>\n",
              "    </tr>\n",
              "    <tr>\n",
              "      <th>159278</th>\n",
              "      <td>A828463</td>\n",
              "      <td>Ej</td>\n",
              "      <td>01/17/2021 11:27:00 AM</td>\n",
              "      <td>Owner Surrender</td>\n",
              "      <td>Injured</td>\n",
              "      <td>Cat</td>\n",
              "      <td>Spayed Female</td>\n",
              "      <td>6 years</td>\n",
              "      <td>Domestic Shorthair</td>\n",
              "      <td>Brown Tabby</td>\n",
              "      <td>Ej</td>\n",
              "      <td>01/17/2021 02:00:00 PM</td>\n",
              "      <td>01/17/2015</td>\n",
              "      <td>Transfer</td>\n",
              "      <td>Partner</td>\n",
              "      <td>Spayed Female</td>\n",
              "      <td>6 years</td>\n",
              "    </tr>\n",
              "    <tr>\n",
              "      <th>159279</th>\n",
              "      <td>A828492</td>\n",
              "      <td>NaN</td>\n",
              "      <td>01/18/2021 04:49:00 PM</td>\n",
              "      <td>Wildlife</td>\n",
              "      <td>Sick</td>\n",
              "      <td>Other</td>\n",
              "      <td>Unknown</td>\n",
              "      <td>2 years</td>\n",
              "      <td>Fox</td>\n",
              "      <td>Red</td>\n",
              "      <td>NaN</td>\n",
              "      <td>01/18/2021 05:07:00 PM</td>\n",
              "      <td>01/18/2019</td>\n",
              "      <td>Euthanasia</td>\n",
              "      <td>Suffering</td>\n",
              "      <td>Unknown</td>\n",
              "      <td>NaN</td>\n",
              "    </tr>\n",
              "  </tbody>\n",
              "</table>\n",
              "<p>159280 rows × 17 columns</p>\n",
              "</div>"
            ],
            "text/plain": [
              "       Animal ID Name Intake  ... Sex Upon Outcome Age Upon Outcome\n",
              "0        A706918       Belle  ...    Spayed Female          8 years\n",
              "1        A724273     Runster  ...    Neutered Male           1 year\n",
              "2        A665644         NaN  ...    Intact Female          4 weeks\n",
              "3        A682524         Rio  ...    Neutered Male          4 years\n",
              "4        A743852        Odin  ...    Neutered Male          2 years\n",
              "...          ...         ...  ...              ...              ...\n",
              "159275   A828439         NaN  ...    Intact Female         8 months\n",
              "159276   A828379         NaN  ...          Unknown           1 year\n",
              "159277   A828445        Blue  ...      Intact Male          2 years\n",
              "159278   A828463          Ej  ...    Spayed Female          6 years\n",
              "159279   A828492         NaN  ...          Unknown              NaN\n",
              "\n",
              "[159280 rows x 17 columns]"
            ]
          },
          "metadata": {
            "tags": []
          },
          "execution_count": 9
        }
      ]
    },
    {
      "cell_type": "code",
      "metadata": {
        "colab": {
          "base_uri": "https://localhost:8080/"
        },
        "id": "NpWOE1IhNDFl",
        "outputId": "4c13afc7-8681-4677-9e9e-0baf41d106b0"
      },
      "source": [
        "animal_shelter.isnull().sum()\n",
        "\n",
        "#The name NaNs should not effect the analysis. However, Outcome Subtype may effect it. If I use this section, I will have to address the NaNs"
      ],
      "execution_count": 10,
      "outputs": [
        {
          "output_type": "execute_result",
          "data": {
            "text/plain": [
              "Animal ID               0\n",
              "Name Intake         39651\n",
              "Intake DateTime         0\n",
              "Intake Type             0\n",
              "Intake Condition        0\n",
              "Animal Type_x           0\n",
              "Sex Upon Intake         1\n",
              "Age Upon Intake         0\n",
              "Breed_x                 0\n",
              "Color_x                 0\n",
              "Name Outcome        39651\n",
              "Outcome DateTime        0\n",
              "Date of Birth           0\n",
              "Outcome Type           16\n",
              "Outcome Subtype     97001\n",
              "Sex Upon Outcome        1\n",
              "Age Upon Outcome        8\n",
              "dtype: int64"
            ]
          },
          "metadata": {
            "tags": []
          },
          "execution_count": 10
        }
      ]
    },
    {
      "cell_type": "code",
      "metadata": {
        "colab": {
          "base_uri": "https://localhost:8080/"
        },
        "id": "4e5cKnStNYF4",
        "outputId": "2fa7e440-e09f-49f4-a23e-599693318d4d"
      },
      "source": [
        "#There are a lot of NaNs for names, however that is understandable since many animals in shelters are strays, or wildlife and may not have a name.\n",
        "#However, there seems to be a considerable amount of Outcome Subtype being NaN values, especially since only 16 Outcome Types are NaNs.\n",
        "#I will look to see why that is, first seeing what subtypes there are.\n",
        "\n",
        "animal_shelter['Outcome Type'].value_counts()\n",
        "\n",
        "#Need to figure out how to make a table with column A being Outcome Type and column B being the Outcome Subtypes. "
      ],
      "execution_count": 11,
      "outputs": [
        {
          "output_type": "execute_result",
          "data": {
            "text/plain": [
              "Adoption           71803\n",
              "Transfer           39824\n",
              "Return to Owner    35793\n",
              "Euthanasia          8668\n",
              "Rto-Adopt           1312\n",
              "Died                1187\n",
              "Disposal             566\n",
              "Missing               91\n",
              "Relocate              20\n",
              "Name: Outcome Type, dtype: int64"
            ]
          },
          "metadata": {
            "tags": []
          },
          "execution_count": 11
        }
      ]
    },
    {
      "cell_type": "code",
      "metadata": {
        "colab": {
          "base_uri": "https://localhost:8080/"
        },
        "id": "2IlLky1NZ2EL",
        "outputId": "18425327-9792-43ea-9287-ccc58ebe757b"
      },
      "source": [
        "animal_shelter.groupby('Outcome Type')['Outcome Subtype'].unique()\n",
        "\n",
        "#Looking at the subtype of the outcomes, we can see that all outcome types except Transfer have NaN values. "
      ],
      "execution_count": 12,
      "outputs": [
        {
          "output_type": "execute_result",
          "data": {
            "text/plain": [
              "Outcome Type\n",
              "Adoption                                [Foster, nan, Offsite, Barn]\n",
              "Died               [In Kennel, nan, In Surgery, At Vet, Enroute, ...\n",
              "Disposal                                                       [nan]\n",
              "Euthanasia         [Suffering, Rabies Risk, At Vet, Medical, nan,...\n",
              "Missing                  [In Foster, Possible Theft, nan, In Kennel]\n",
              "Relocate                                                       [nan]\n",
              "Return to Owner        [nan, Field, At Vet, Prc, Foster, Customer S]\n",
              "Rto-Adopt                                                      [nan]\n",
              "Transfer                            [Partner, SCRP, Snr, Barn, Emer]\n",
              "Name: Outcome Subtype, dtype: object"
            ]
          },
          "metadata": {
            "tags": []
          },
          "execution_count": 12
        }
      ]
    },
    {
      "cell_type": "code",
      "metadata": {
        "colab": {
          "base_uri": "https://localhost:8080/"
        },
        "id": "3R0R_ZwVZ6fl",
        "outputId": "a239269b-a369-44ba-bcb8-b53f2b626686"
      },
      "source": [
        "#I want to see what the other values in Died and Euthanasia are\n",
        "\n",
        "outcome_subtypes = animal_shelter.groupby('Outcome Type')['Outcome Subtype'].unique()\n",
        "print('Died Subtype:\\n', outcome_subtypes['Died'])\n",
        "print('Euthanasia Subtypes:\\n', outcome_subtypes['Euthanasia'])"
      ],
      "execution_count": 13,
      "outputs": [
        {
          "output_type": "stream",
          "text": [
            "Died Subtype:\n",
            " ['In Kennel' nan 'In Surgery' 'At Vet' 'Enroute' 'In Foster']\n",
            "Euthanasia Subtypes:\n",
            " ['Suffering' 'Rabies Risk' 'At Vet' 'Medical' nan 'Underage' 'Aggressive'\n",
            " 'Court/Investigation' 'Behavior']\n"
          ],
          "name": "stdout"
        }
      ]
    },
    {
      "cell_type": "markdown",
      "metadata": {
        "id": "agEkn7bPLiVH"
      },
      "source": [
        "##Outcomes for Animals who have Died or have been Euthanized\n",
        "\n",
        "This section will look at the different outcomes for the animals. I will make a visualization in order to accurately represent the data found about the outcomes."
      ]
    },
    {
      "cell_type": "code",
      "metadata": {
        "colab": {
          "base_uri": "https://localhost:8080/"
        },
        "id": "28AjLqODFLtx",
        "outputId": "45254947-3750-4e9d-ae4a-ac6089a28c4b"
      },
      "source": [
        "animal_shelter['Outcome Type'].value_counts()"
      ],
      "execution_count": 14,
      "outputs": [
        {
          "output_type": "execute_result",
          "data": {
            "text/plain": [
              "Adoption           71803\n",
              "Transfer           39824\n",
              "Return to Owner    35793\n",
              "Euthanasia          8668\n",
              "Rto-Adopt           1312\n",
              "Died                1187\n",
              "Disposal             566\n",
              "Missing               91\n",
              "Relocate              20\n",
              "Name: Outcome Type, dtype: int64"
            ]
          },
          "metadata": {
            "tags": []
          },
          "execution_count": 14
        }
      ]
    },
    {
      "cell_type": "code",
      "metadata": {
        "colab": {
          "base_uri": "https://localhost:8080/",
          "height": 373
        },
        "id": "5g8OpgLGg2r5",
        "outputId": "d59197c3-2cb0-405c-d716-29b310d13011"
      },
      "source": [
        "fig, ax = plt.subplots()\n",
        "\n",
        "plt.bar(x=['Adoption', 'Transfer', 'Return to Owner', 'Euthanize', 'RTO Adoption', 'Died', 'Disposal', 'Missing', 'Relocate'],\n",
        "        height=animal_shelter['Outcome Type'].value_counts())\n",
        "\n",
        "plt.xlabel('Outcome Type', fontweight=\"bold\", fontsize=14, labelpad=15)\n",
        "plt.ylabel('Number of Animals', fontweight=\"bold\", fontsize=14, labelpad=15)\n",
        "plt.title('AAC Outcomes for Animals\\nthat Entered Facility', fontweight='bold', fontsize=18, pad=15)\n",
        "\n",
        "ax.set_yticks([0, 10000, 20000, 30000, 40000, 50000, 60000, 70000])\n",
        "ax.set_yticks([5000, 15000, 25000, 35000, 45000, 55000, 65000], minor=True)\n",
        "\n",
        "ax.set_xticklabels(labels=['Adoption', 'Transfer', 'Return to Owner', 'Euthanize', 'RTO Adoption', 'Died', 'Disposal', 'Missing', 'Relocate'],\n",
        "                   fontsize=12)\n",
        "ax.set_yticklabels(labels=[0, 10000, 20000, 30000, 40000, 50000, 60000, 70000], fontsize=12)\n",
        "\n",
        "fig.autofmt_xdate()\n",
        "\n",
        "plt.show()"
      ],
      "execution_count": 15,
      "outputs": [
        {
          "output_type": "display_data",
          "data": {
            "image/png": "[encoded data removed]",
            "text/plain": [
              "<Figure size 432x288 with 1 Axes>"
            ]
          },
          "metadata": {
            "tags": [],
            "needs_background": "light"
          }
        }
      ]
    },
    {
      "cell_type": "code",
      "metadata": {
        "colab": {
          "base_uri": "https://localhost:8080/",
          "height": 365
        },
        "id": "rtP7vrpGx75L",
        "outputId": "b35fe834-c9c9-4b21-b492-32006ca56594"
      },
      "source": [
        "#Making a bar graph for the outcomes with a lower amount of animals\n",
        "fig, ax = plt.subplots()\n",
        "\n",
        "plt.bar(x=['RTO Adoption', 'Died', 'Disposal', 'Missing', 'Relocate'],\n",
        "        height=[1312, 1187, 566, 91, 20])\n",
        "\n",
        "plt.xlabel('Outcome Type', fontweight='bold', fontsize=14, labelpad=15)\n",
        "plt.ylabel('Number of Animals', fontweight='bold', fontsize=14, labelpad=10)\n",
        "plt.title('Austin Animal Center Outcomes for\\nAnimals that Entered Facility', fontweight='bold', fontsize=18, pad=15)\n",
        "\n",
        "ax.set_yticks([0, 200, 400, 600, 800, 1000, 1200, 1400])\n",
        "ax.set_yticks([100, 300, 500, 700, 900, 1100, 1300], minor=True)\n",
        "ax.set_xticklabels(labels=['RTO Adoption', 'Died', 'Disposal', 'Missing', 'Relocate'], fontsize=12)\n",
        "ax.set_yticklabels(labels=[0, 200, 400, 600, 800, 1000, 1200, 1400], fontsize=12)\n",
        "\n",
        "fig.autofmt_xdate()\n",
        "\n",
        "plt.show()"
      ],
      "execution_count": 16,
      "outputs": [
        {
          "output_type": "display_data",
          "data": {
            "image/png": "[encoded data removed]",
            "text/plain": [
              "<Figure size 432x288 with 1 Axes>"
            ]
          },
          "metadata": {
            "tags": [],
            "needs_background": "light"
          }
        }
      ]
    },
    {
      "cell_type": "code",
      "metadata": {
        "colab": {
          "base_uri": "https://localhost:8080/",
          "height": 142
        },
        "id": "xmq1NFyR-6Qr",
        "outputId": "aefdf8fa-99f5-4e6c-806d-721721fdbeb5"
      },
      "source": [
        "outcome = animal_shelter['Outcome Type'].reset_index()\n",
        "outcome.head(3)"
      ],
      "execution_count": 17,
      "outputs": [
        {
          "output_type": "execute_result",
          "data": {
            "text/html": [
              "<div>\n",
              "<style scoped>\n",
              "    .dataframe tbody tr th:only-of-type {\n",
              "        vertical-align: middle;\n",
              "    }\n",
              "\n",
              "    .dataframe tbody tr th {\n",
              "        vertical-align: top;\n",
              "    }\n",
              "\n",
              "    .dataframe thead th {\n",
              "        text-align: right;\n",
              "    }\n",
              "</style>\n",
              "<table border=\"1\" class=\"dataframe\">\n",
              "  <thead>\n",
              "    <tr style=\"text-align: right;\">\n",
              "      <th></th>\n",
              "      <th>index</th>\n",
              "      <th>Outcome Type</th>\n",
              "    </tr>\n",
              "  </thead>\n",
              "  <tbody>\n",
              "    <tr>\n",
              "      <th>0</th>\n",
              "      <td>0</td>\n",
              "      <td>Return to Owner</td>\n",
              "    </tr>\n",
              "    <tr>\n",
              "      <th>1</th>\n",
              "      <td>1</td>\n",
              "      <td>Return to Owner</td>\n",
              "    </tr>\n",
              "    <tr>\n",
              "      <th>2</th>\n",
              "      <td>2</td>\n",
              "      <td>Transfer</td>\n",
              "    </tr>\n",
              "  </tbody>\n",
              "</table>\n",
              "</div>"
            ],
            "text/plain": [
              "   index     Outcome Type\n",
              "0      0  Return to Owner\n",
              "1      1  Return to Owner\n",
              "2      2         Transfer"
            ]
          },
          "metadata": {
            "tags": []
          },
          "execution_count": 17
        }
      ]
    },
    {
      "cell_type": "code",
      "metadata": {
        "colab": {
          "base_uri": "https://localhost:8080/",
          "height": 142
        },
        "id": "nJknay6E_rXB",
        "outputId": "d19e62b1-7e08-4cec-b03e-b2d3eb91b9ec"
      },
      "source": [
        "outcome_sub = animal_shelter['Outcome Subtype'].reset_index()\n",
        "outcome_sub.head(3)"
      ],
      "execution_count": 18,
      "outputs": [
        {
          "output_type": "execute_result",
          "data": {
            "text/html": [
              "<div>\n",
              "<style scoped>\n",
              "    .dataframe tbody tr th:only-of-type {\n",
              "        vertical-align: middle;\n",
              "    }\n",
              "\n",
              "    .dataframe tbody tr th {\n",
              "        vertical-align: top;\n",
              "    }\n",
              "\n",
              "    .dataframe thead th {\n",
              "        text-align: right;\n",
              "    }\n",
              "</style>\n",
              "<table border=\"1\" class=\"dataframe\">\n",
              "  <thead>\n",
              "    <tr style=\"text-align: right;\">\n",
              "      <th></th>\n",
              "      <th>index</th>\n",
              "      <th>Outcome Subtype</th>\n",
              "    </tr>\n",
              "  </thead>\n",
              "  <tbody>\n",
              "    <tr>\n",
              "      <th>0</th>\n",
              "      <td>0</td>\n",
              "      <td>NaN</td>\n",
              "    </tr>\n",
              "    <tr>\n",
              "      <th>1</th>\n",
              "      <td>1</td>\n",
              "      <td>NaN</td>\n",
              "    </tr>\n",
              "    <tr>\n",
              "      <th>2</th>\n",
              "      <td>2</td>\n",
              "      <td>Partner</td>\n",
              "    </tr>\n",
              "  </tbody>\n",
              "</table>\n",
              "</div>"
            ],
            "text/plain": [
              "   index Outcome Subtype\n",
              "0      0             NaN\n",
              "1      1             NaN\n",
              "2      2         Partner"
            ]
          },
          "metadata": {
            "tags": []
          },
          "execution_count": 18
        }
      ]
    },
    {
      "cell_type": "code",
      "metadata": {
        "colab": {
          "base_uri": "https://localhost:8080/",
          "height": 142
        },
        "id": "ACgo3kfFNgby",
        "outputId": "bdd6eced-ceb0-496f-f11c-b18c792cc7c6"
      },
      "source": [
        "animal_type = animal_shelter['Animal Type_x'].reset_index()\n",
        "animal_type.head(3)"
      ],
      "execution_count": 19,
      "outputs": [
        {
          "output_type": "execute_result",
          "data": {
            "text/html": [
              "<div>\n",
              "<style scoped>\n",
              "    .dataframe tbody tr th:only-of-type {\n",
              "        vertical-align: middle;\n",
              "    }\n",
              "\n",
              "    .dataframe tbody tr th {\n",
              "        vertical-align: top;\n",
              "    }\n",
              "\n",
              "    .dataframe thead th {\n",
              "        text-align: right;\n",
              "    }\n",
              "</style>\n",
              "<table border=\"1\" class=\"dataframe\">\n",
              "  <thead>\n",
              "    <tr style=\"text-align: right;\">\n",
              "      <th></th>\n",
              "      <th>index</th>\n",
              "      <th>Animal Type_x</th>\n",
              "    </tr>\n",
              "  </thead>\n",
              "  <tbody>\n",
              "    <tr>\n",
              "      <th>0</th>\n",
              "      <td>0</td>\n",
              "      <td>Dog</td>\n",
              "    </tr>\n",
              "    <tr>\n",
              "      <th>1</th>\n",
              "      <td>1</td>\n",
              "      <td>Dog</td>\n",
              "    </tr>\n",
              "    <tr>\n",
              "      <th>2</th>\n",
              "      <td>2</td>\n",
              "      <td>Cat</td>\n",
              "    </tr>\n",
              "  </tbody>\n",
              "</table>\n",
              "</div>"
            ],
            "text/plain": [
              "   index Animal Type_x\n",
              "0      0           Dog\n",
              "1      1           Dog\n",
              "2      2           Cat"
            ]
          },
          "metadata": {
            "tags": []
          },
          "execution_count": 19
        }
      ]
    },
    {
      "cell_type": "code",
      "metadata": {
        "colab": {
          "base_uri": "https://localhost:8080/",
          "height": 142
        },
        "id": "-HkXsOReOGzM",
        "outputId": "8d570a4c-60d8-461a-9832-e3ece119651c"
      },
      "source": [
        "animal_breed = animal_shelter['Breed_x'].reset_index()\n",
        "animal_breed.head(3)"
      ],
      "execution_count": 20,
      "outputs": [
        {
          "output_type": "execute_result",
          "data": {
            "text/html": [
              "<div>\n",
              "<style scoped>\n",
              "    .dataframe tbody tr th:only-of-type {\n",
              "        vertical-align: middle;\n",
              "    }\n",
              "\n",
              "    .dataframe tbody tr th {\n",
              "        vertical-align: top;\n",
              "    }\n",
              "\n",
              "    .dataframe thead th {\n",
              "        text-align: right;\n",
              "    }\n",
              "</style>\n",
              "<table border=\"1\" class=\"dataframe\">\n",
              "  <thead>\n",
              "    <tr style=\"text-align: right;\">\n",
              "      <th></th>\n",
              "      <th>index</th>\n",
              "      <th>Breed_x</th>\n",
              "    </tr>\n",
              "  </thead>\n",
              "  <tbody>\n",
              "    <tr>\n",
              "      <th>0</th>\n",
              "      <td>0</td>\n",
              "      <td>English Springer Spaniel</td>\n",
              "    </tr>\n",
              "    <tr>\n",
              "      <th>1</th>\n",
              "      <td>1</td>\n",
              "      <td>Basenji Mix</td>\n",
              "    </tr>\n",
              "    <tr>\n",
              "      <th>2</th>\n",
              "      <td>2</td>\n",
              "      <td>Domestic Shorthair Mix</td>\n",
              "    </tr>\n",
              "  </tbody>\n",
              "</table>\n",
              "</div>"
            ],
            "text/plain": [
              "   index                   Breed_x\n",
              "0      0  English Springer Spaniel\n",
              "1      1               Basenji Mix\n",
              "2      2    Domestic Shorthair Mix"
            ]
          },
          "metadata": {
            "tags": []
          },
          "execution_count": 20
        }
      ]
    },
    {
      "cell_type": "code",
      "metadata": {
        "id": "vCGQDin3_FI6"
      },
      "source": [
        "outcome_subtype_no_nan = animal_shelter['Outcome Subtype'].dropna().reset_index()"
      ],
      "execution_count": 21,
      "outputs": []
    },
    {
      "cell_type": "code",
      "metadata": {
        "colab": {
          "base_uri": "https://localhost:8080/",
          "height": 142
        },
        "id": "-JBW0Lsu8uWd",
        "outputId": "783347a4-86c5-4d28-d0d3-770ca6d6385f"
      },
      "source": [
        "outcomes = pd.merge(outcome, outcome_sub, on='index')\n",
        "outcomes = pd.merge(outcomes, animal_type, on='index')\n",
        "outcomes = pd.merge(outcomes, animal_breed)\n",
        "outcomes.head(3)"
      ],
      "execution_count": 22,
      "outputs": [
        {
          "output_type": "execute_result",
          "data": {
            "text/html": [
              "<div>\n",
              "<style scoped>\n",
              "    .dataframe tbody tr th:only-of-type {\n",
              "        vertical-align: middle;\n",
              "    }\n",
              "\n",
              "    .dataframe tbody tr th {\n",
              "        vertical-align: top;\n",
              "    }\n",
              "\n",
              "    .dataframe thead th {\n",
              "        text-align: right;\n",
              "    }\n",
              "</style>\n",
              "<table border=\"1\" class=\"dataframe\">\n",
              "  <thead>\n",
              "    <tr style=\"text-align: right;\">\n",
              "      <th></th>\n",
              "      <th>index</th>\n",
              "      <th>Outcome Type</th>\n",
              "      <th>Outcome Subtype</th>\n",
              "      <th>Animal Type_x</th>\n",
              "      <th>Breed_x</th>\n",
              "    </tr>\n",
              "  </thead>\n",
              "  <tbody>\n",
              "    <tr>\n",
              "      <th>0</th>\n",
              "      <td>0</td>\n",
              "      <td>Return to Owner</td>\n",
              "      <td>NaN</td>\n",
              "      <td>Dog</td>\n",
              "      <td>English Springer Spaniel</td>\n",
              "    </tr>\n",
              "    <tr>\n",
              "      <th>1</th>\n",
              "      <td>1</td>\n",
              "      <td>Return to Owner</td>\n",
              "      <td>NaN</td>\n",
              "      <td>Dog</td>\n",
              "      <td>Basenji Mix</td>\n",
              "    </tr>\n",
              "    <tr>\n",
              "      <th>2</th>\n",
              "      <td>2</td>\n",
              "      <td>Transfer</td>\n",
              "      <td>Partner</td>\n",
              "      <td>Cat</td>\n",
              "      <td>Domestic Shorthair Mix</td>\n",
              "    </tr>\n",
              "  </tbody>\n",
              "</table>\n",
              "</div>"
            ],
            "text/plain": [
              "   index     Outcome Type  ... Animal Type_x                   Breed_x\n",
              "0      0  Return to Owner  ...           Dog  English Springer Spaniel\n",
              "1      1  Return to Owner  ...           Dog               Basenji Mix\n",
              "2      2         Transfer  ...           Cat    Domestic Shorthair Mix\n",
              "\n",
              "[3 rows x 5 columns]"
            ]
          },
          "metadata": {
            "tags": []
          },
          "execution_count": 22
        }
      ]
    },
    {
      "cell_type": "code",
      "metadata": {
        "colab": {
          "base_uri": "https://localhost:8080/",
          "height": 142
        },
        "id": "peRsA5xyAFb1",
        "outputId": "528cea36-6889-42cc-9305-3ba4f870fab2"
      },
      "source": [
        "outcomes_no_index = outcomes.drop('index', axis=1)\n",
        "outcomes_no_index.head(3)"
      ],
      "execution_count": 23,
      "outputs": [
        {
          "output_type": "execute_result",
          "data": {
            "text/html": [
              "<div>\n",
              "<style scoped>\n",
              "    .dataframe tbody tr th:only-of-type {\n",
              "        vertical-align: middle;\n",
              "    }\n",
              "\n",
              "    .dataframe tbody tr th {\n",
              "        vertical-align: top;\n",
              "    }\n",
              "\n",
              "    .dataframe thead th {\n",
              "        text-align: right;\n",
              "    }\n",
              "</style>\n",
              "<table border=\"1\" class=\"dataframe\">\n",
              "  <thead>\n",
              "    <tr style=\"text-align: right;\">\n",
              "      <th></th>\n",
              "      <th>Outcome Type</th>\n",
              "      <th>Outcome Subtype</th>\n",
              "      <th>Animal Type_x</th>\n",
              "      <th>Breed_x</th>\n",
              "    </tr>\n",
              "  </thead>\n",
              "  <tbody>\n",
              "    <tr>\n",
              "      <th>0</th>\n",
              "      <td>Return to Owner</td>\n",
              "      <td>NaN</td>\n",
              "      <td>Dog</td>\n",
              "      <td>English Springer Spaniel</td>\n",
              "    </tr>\n",
              "    <tr>\n",
              "      <th>1</th>\n",
              "      <td>Return to Owner</td>\n",
              "      <td>NaN</td>\n",
              "      <td>Dog</td>\n",
              "      <td>Basenji Mix</td>\n",
              "    </tr>\n",
              "    <tr>\n",
              "      <th>2</th>\n",
              "      <td>Transfer</td>\n",
              "      <td>Partner</td>\n",
              "      <td>Cat</td>\n",
              "      <td>Domestic Shorthair Mix</td>\n",
              "    </tr>\n",
              "  </tbody>\n",
              "</table>\n",
              "</div>"
            ],
            "text/plain": [
              "      Outcome Type Outcome Subtype Animal Type_x                   Breed_x\n",
              "0  Return to Owner             NaN           Dog  English Springer Spaniel\n",
              "1  Return to Owner             NaN           Dog               Basenji Mix\n",
              "2         Transfer         Partner           Cat    Domestic Shorthair Mix"
            ]
          },
          "metadata": {
            "tags": []
          },
          "execution_count": 23
        }
      ]
    },
    {
      "cell_type": "code",
      "metadata": {
        "colab": {
          "base_uri": "https://localhost:8080/",
          "height": 142
        },
        "id": "8kQq1InxCvGo",
        "outputId": "2c8fe3f6-5d74-4cbf-ce00-13ed405f528e"
      },
      "source": [
        "died_subtypes = outcomes_no_index[(outcomes_no_index['Outcome Type'] == 'Died')]\n",
        "died_subtypes.head(3)"
      ],
      "execution_count": 24,
      "outputs": [
        {
          "output_type": "execute_result",
          "data": {
            "text/html": [
              "<div>\n",
              "<style scoped>\n",
              "    .dataframe tbody tr th:only-of-type {\n",
              "        vertical-align: middle;\n",
              "    }\n",
              "\n",
              "    .dataframe tbody tr th {\n",
              "        vertical-align: top;\n",
              "    }\n",
              "\n",
              "    .dataframe thead th {\n",
              "        text-align: right;\n",
              "    }\n",
              "</style>\n",
              "<table border=\"1\" class=\"dataframe\">\n",
              "  <thead>\n",
              "    <tr style=\"text-align: right;\">\n",
              "      <th></th>\n",
              "      <th>Outcome Type</th>\n",
              "      <th>Outcome Subtype</th>\n",
              "      <th>Animal Type_x</th>\n",
              "      <th>Breed_x</th>\n",
              "    </tr>\n",
              "  </thead>\n",
              "  <tbody>\n",
              "    <tr>\n",
              "      <th>56</th>\n",
              "      <td>Died</td>\n",
              "      <td>In Kennel</td>\n",
              "      <td>Cat</td>\n",
              "      <td>Domestic Shorthair Mix</td>\n",
              "    </tr>\n",
              "    <tr>\n",
              "      <th>136</th>\n",
              "      <td>Died</td>\n",
              "      <td>NaN</td>\n",
              "      <td>Other</td>\n",
              "      <td>Bat</td>\n",
              "    </tr>\n",
              "    <tr>\n",
              "      <th>622</th>\n",
              "      <td>Died</td>\n",
              "      <td>In Surgery</td>\n",
              "      <td>Dog</td>\n",
              "      <td>Miniature Pinscher/Yorkshire Terrier</td>\n",
              "    </tr>\n",
              "  </tbody>\n",
              "</table>\n",
              "</div>"
            ],
            "text/plain": [
              "    Outcome Type  ...                               Breed_x\n",
              "56          Died  ...                Domestic Shorthair Mix\n",
              "136         Died  ...                                   Bat\n",
              "622         Died  ...  Miniature Pinscher/Yorkshire Terrier\n",
              "\n",
              "[3 rows x 4 columns]"
            ]
          },
          "metadata": {
            "tags": []
          },
          "execution_count": 24
        }
      ]
    },
    {
      "cell_type": "code",
      "metadata": {
        "colab": {
          "base_uri": "https://localhost:8080/"
        },
        "id": "sCL3yQcKCzpW",
        "outputId": "5e6de053-f8be-4d7f-a433-8c811955740c"
      },
      "source": [
        "died_subtypes.isnull().sum()"
      ],
      "execution_count": 25,
      "outputs": [
        {
          "output_type": "execute_result",
          "data": {
            "text/plain": [
              "Outcome Type         0\n",
              "Outcome Subtype    109\n",
              "Animal Type_x        0\n",
              "Breed_x              0\n",
              "dtype: int64"
            ]
          },
          "metadata": {
            "tags": []
          },
          "execution_count": 25
        }
      ]
    },
    {
      "cell_type": "code",
      "metadata": {
        "colab": {
          "base_uri": "https://localhost:8080/"
        },
        "id": "0Ljg3R4WDIzS",
        "outputId": "90f73a98-800b-4030-f699-899e46f12284"
      },
      "source": [
        "died_subtypes['Outcome Subtype'].value_counts()"
      ],
      "execution_count": 26,
      "outputs": [
        {
          "output_type": "execute_result",
          "data": {
            "text/plain": [
              "In Kennel     596\n",
              "In Foster     279\n",
              "At Vet         97\n",
              "Enroute        84\n",
              "In Surgery     22\n",
              "Name: Outcome Subtype, dtype: int64"
            ]
          },
          "metadata": {
            "tags": []
          },
          "execution_count": 26
        }
      ]
    },
    {
      "cell_type": "code",
      "metadata": {
        "colab": {
          "base_uri": "https://localhost:8080/",
          "height": 435
        },
        "id": "q7CG9YqMmnUQ",
        "outputId": "92a24b86-91fd-4baf-ce2c-bbc030b77bdf"
      },
      "source": [
        "#Making a pie chart for outcome subtypes for Died\n",
        "died_labels = (['In Kennel', 'In Foster', 'At Vet', 'Enroute', 'In Surgery', 'No Subtype'])\n",
        "died_sizes = (596, 279, 97, 84, 22, 109)\n",
        "\n",
        "fig, ax = plt.subplots()\n",
        "\n",
        "ax.pie(died_sizes, labels=died_labels, autopct='%1.1f%%', radius=2, startangle=90, explode=[0.05, 0.05, 0, 0, 0, 0],\n",
        "       textprops={'fontsize': 13})\n",
        "ax.set_title('Died Subtypes', fontweight='bold', y=1.45, fontsize=18)\n",
        "\n",
        "plt.show()"
      ],
      "execution_count": 165,
      "outputs": [
        {
          "output_type": "display_data",
          "data": {
            "image/png": "[encoded data removed]",
            "text/plain": [
              "<Figure size 432x288 with 1 Axes>"
            ]
          },
          "metadata": {
            "tags": []
          }
        }
      ]
    },
    {
      "cell_type": "code",
      "metadata": {
        "colab": {
          "base_uri": "https://localhost:8080/",
          "height": 142
        },
        "id": "5yjgrBiWAvWx",
        "outputId": "de0ded4e-12a6-4417-9e27-05c30dc544d8"
      },
      "source": [
        "euthanasia_subtypes = outcomes_no_index[(outcomes_no_index['Outcome Type'] == 'Euthanasia')]\n",
        "euthanasia_subtypes.head(3)"
      ],
      "execution_count": 28,
      "outputs": [
        {
          "output_type": "execute_result",
          "data": {
            "text/html": [
              "<div>\n",
              "<style scoped>\n",
              "    .dataframe tbody tr th:only-of-type {\n",
              "        vertical-align: middle;\n",
              "    }\n",
              "\n",
              "    .dataframe tbody tr th {\n",
              "        vertical-align: top;\n",
              "    }\n",
              "\n",
              "    .dataframe thead th {\n",
              "        text-align: right;\n",
              "    }\n",
              "</style>\n",
              "<table border=\"1\" class=\"dataframe\">\n",
              "  <thead>\n",
              "    <tr style=\"text-align: right;\">\n",
              "      <th></th>\n",
              "      <th>Outcome Type</th>\n",
              "      <th>Outcome Subtype</th>\n",
              "      <th>Animal Type_x</th>\n",
              "      <th>Breed_x</th>\n",
              "    </tr>\n",
              "  </thead>\n",
              "  <tbody>\n",
              "    <tr>\n",
              "      <th>17</th>\n",
              "      <td>Euthanasia</td>\n",
              "      <td>Suffering</td>\n",
              "      <td>Cat</td>\n",
              "      <td>Domestic Shorthair Mix</td>\n",
              "    </tr>\n",
              "    <tr>\n",
              "      <th>39</th>\n",
              "      <td>Euthanasia</td>\n",
              "      <td>Rabies Risk</td>\n",
              "      <td>Other</td>\n",
              "      <td>Bat Mix</td>\n",
              "    </tr>\n",
              "    <tr>\n",
              "      <th>49</th>\n",
              "      <td>Euthanasia</td>\n",
              "      <td>Suffering</td>\n",
              "      <td>Dog</td>\n",
              "      <td>Boxer Mix</td>\n",
              "    </tr>\n",
              "  </tbody>\n",
              "</table>\n",
              "</div>"
            ],
            "text/plain": [
              "   Outcome Type Outcome Subtype Animal Type_x                 Breed_x\n",
              "17   Euthanasia       Suffering           Cat  Domestic Shorthair Mix\n",
              "39   Euthanasia     Rabies Risk         Other                 Bat Mix\n",
              "49   Euthanasia       Suffering           Dog               Boxer Mix"
            ]
          },
          "metadata": {
            "tags": []
          },
          "execution_count": 28
        }
      ]
    },
    {
      "cell_type": "code",
      "metadata": {
        "colab": {
          "base_uri": "https://localhost:8080/"
        },
        "id": "3toUxYFjBzIG",
        "outputId": "6a7b33b2-3131-49bb-c3af-ed1fee0dbdc7"
      },
      "source": [
        "euthanasia_subtypes.isnull().sum()"
      ],
      "execution_count": 29,
      "outputs": [
        {
          "output_type": "execute_result",
          "data": {
            "text/plain": [
              "Outcome Type         0\n",
              "Outcome Subtype    227\n",
              "Animal Type_x        0\n",
              "Breed_x              0\n",
              "dtype: int64"
            ]
          },
          "metadata": {
            "tags": []
          },
          "execution_count": 29
        }
      ]
    },
    {
      "cell_type": "code",
      "metadata": {
        "colab": {
          "base_uri": "https://localhost:8080/"
        },
        "id": "1Rvxb-uOEiYB",
        "outputId": "49886fb8-fa1d-4b43-ee30-db8222a317ff"
      },
      "source": [
        "euthanasia_subtypes['Outcome Subtype'].value_counts()"
      ],
      "execution_count": 30,
      "outputs": [
        {
          "output_type": "execute_result",
          "data": {
            "text/plain": [
              "Rabies Risk            3683\n",
              "Suffering              3307\n",
              "Aggressive              688\n",
              "Medical                 313\n",
              "Behavior                183\n",
              "At Vet                  179\n",
              "Court/Investigation      52\n",
              "Underage                 36\n",
              "Name: Outcome Subtype, dtype: int64"
            ]
          },
          "metadata": {
            "tags": []
          },
          "execution_count": 30
        }
      ]
    },
    {
      "cell_type": "code",
      "metadata": {
        "id": "GHRhoC1Uqby_"
      },
      "source": [
        ""
      ],
      "execution_count": 30,
      "outputs": []
    },
    {
      "cell_type": "code",
      "metadata": {
        "colab": {
          "base_uri": "https://localhost:8080/",
          "height": 451
        },
        "id": "O8LmeI26rbK-",
        "outputId": "ea95c730-c4aa-444c-98cd-6c3ca2d10b87"
      },
      "source": [
        "#Making a pie chart for outcome subtypes for Euthanization\n",
        "euth_labels = ['Rabies Risk', 'Suffering', 'Underage', 'Aggressive', 'Medical', 'Behavior', 'At Vet', 'No Subtype', 'Court/Investigation']\n",
        "euth_sizes = (3683, 3307, 36, 688, 313, 183, 179, 227, 52)\n",
        "\n",
        "fig, ax = plt.subplots()\n",
        "\n",
        "ax.pie(euth_sizes, labels=euth_labels, radius=2, autopct='%1.1f%%', startangle=28, explode=[0.05, 0.05, 0, 0, 0, 0, 0, 0, 0],\n",
        "        colors=['royalblue', 'darkorange', 'teal', 'red', 'limegreen', 'gold', 'slateblue', 'grey', 'hotpink'], textprops={'fontsize': 13})\n",
        "\n",
        "ax.set_title('Euthanization Subtypes', fontweight='bold', y=1.45, pad=10, loc='center', fontsize=18)\n",
        "\n",
        "plt.show()"
      ],
      "execution_count": 164,
      "outputs": [
        {
          "output_type": "display_data",
          "data": {
            "image/png": "[encoded data removed]",
            "text/plain": [
              "<Figure size 432x288 with 1 Axes>"
            ]
          },
          "metadata": {
            "tags": []
          }
        }
      ]
    },
    {
      "cell_type": "markdown",
      "metadata": {
        "id": "876e49XoP9aR"
      },
      "source": [
        "##Animal Types at the Facility"
      ]
    },
    {
      "cell_type": "code",
      "metadata": {
        "colab": {
          "base_uri": "https://localhost:8080/"
        },
        "id": "H5jUZXtbMuv4",
        "outputId": "295c24a8-a23e-4b0d-cdc9-6de70b199e9e"
      },
      "source": [
        "outcomes_no_index['Animal Type_x'].value_counts()"
      ],
      "execution_count": 32,
      "outputs": [
        {
          "output_type": "execute_result",
          "data": {
            "text/plain": [
              "Dog          101323\n",
              "Cat           50753\n",
              "Other          6604\n",
              "Bird            581\n",
              "Livestock        19\n",
              "Name: Animal Type_x, dtype: int64"
            ]
          },
          "metadata": {
            "tags": []
          },
          "execution_count": 32
        }
      ]
    },
    {
      "cell_type": "code",
      "metadata": {
        "colab": {
          "base_uri": "https://localhost:8080/",
          "height": 326
        },
        "id": "lKTKoapQMm3Z",
        "outputId": "af68cb31-2732-4730-aafb-a50f93bd7603"
      },
      "source": [
        "fig, ax = plt.subplots()\n",
        "\n",
        "plt.bar(x=['Dog', 'Cat', 'Other', 'Bird', 'Livestock'], height=outcomes_no_index['Animal Type_x'].value_counts())\n",
        "\n",
        "ax.set_xlabel('Type of Animal', fontweight=\"bold\", fontsize=14, labelpad=15)\n",
        "ax.set_ylabel('Number of Animals', fontweight='bold', fontsize=14, labelpad=10)\n",
        "ax.set_title('Animal Types at AAC', fontweight='bold', fontsize=18, pad=15)\n",
        "ax.set_xticklabels(labels=['Dog', 'Cat', 'Other', 'Bird', 'Livestock'], fontsize=12)\n",
        "ax.set_yticklabels(labels=[0, 20000, 40000, 60000, 80000, 100000], fontsize=12)\n",
        "\n",
        "plt.show()"
      ],
      "execution_count": 33,
      "outputs": [
        {
          "output_type": "display_data",
          "data": {
            "image/png": "[encoded data removed]",
            "text/plain": [
              "<Figure size 432x288 with 1 Axes>"
            ]
          },
          "metadata": {
            "tags": [],
            "needs_background": "light"
          }
        }
      ]
    },
    {
      "cell_type": "code",
      "metadata": {
        "colab": {
          "base_uri": "https://localhost:8080/",
          "height": 80
        },
        "id": "vjwO4C_4bc0Z",
        "outputId": "8140d573-5cda-44be-df0c-f019312ffbf8"
      },
      "source": [
        "pd.DataFrame({'Dogs': [101323], 'Cats': [50753], 'Other':[6604] , 'Birds': [581], 'Livestock': [19]})"
      ],
      "execution_count": 177,
      "outputs": [
        {
          "output_type": "execute_result",
          "data": {
            "text/html": [
              "<div>\n",
              "<style scoped>\n",
              "    .dataframe tbody tr th:only-of-type {\n",
              "        vertical-align: middle;\n",
              "    }\n",
              "\n",
              "    .dataframe tbody tr th {\n",
              "        vertical-align: top;\n",
              "    }\n",
              "\n",
              "    .dataframe thead th {\n",
              "        text-align: right;\n",
              "    }\n",
              "</style>\n",
              "<table border=\"1\" class=\"dataframe\">\n",
              "  <thead>\n",
              "    <tr style=\"text-align: right;\">\n",
              "      <th></th>\n",
              "      <th>Dogs</th>\n",
              "      <th>Cats</th>\n",
              "      <th>Other</th>\n",
              "      <th>Birds</th>\n",
              "      <th>Livestock</th>\n",
              "    </tr>\n",
              "  </thead>\n",
              "  <tbody>\n",
              "    <tr>\n",
              "      <th>0</th>\n",
              "      <td>101323</td>\n",
              "      <td>50753</td>\n",
              "      <td>6604</td>\n",
              "      <td>581</td>\n",
              "      <td>19</td>\n",
              "    </tr>\n",
              "  </tbody>\n",
              "</table>\n",
              "</div>"
            ],
            "text/plain": [
              "     Dogs   Cats  Other  Birds  Livestock\n",
              "0  101323  50753   6604    581         19"
            ]
          },
          "metadata": {
            "tags": []
          },
          "execution_count": 177
        }
      ]
    },
    {
      "cell_type": "code",
      "metadata": {
        "colab": {
          "base_uri": "https://localhost:8080/",
          "height": 542
        },
        "id": "CbNEri4Vf2Qr",
        "outputId": "f404ae18-abe5-4be6-f737-e9878bf744b6"
      },
      "source": [
        "fig = go.Figure(data=[go.Table(header=dict(values=['Dogs', 'Cats', 'Birds', 'Livestock', 'Other']),\n",
        "                               cells=dict(values=[[101323], [50753], [581], [19], [6604]])), \n",
        "                     ])\n",
        "fig.update_layout(width=600, title='Animal Types at AAC')\n",
        "\n",
        "fig.show()"
      ],
      "execution_count": 204,
      "outputs": [
        {
          "output_type": "display_data",
          "data": {
            "text/html": [
              "<html>\n",
              "<head><meta charset=\"utf-8\" /></head>\n",
              "<body>\n",
              "    <div>\n",
              "            <script src=\"https://cdnjs.cloudflare.com/ajax/libs/mathjax/2.7.5/MathJax.js?config=TeX-AMS-MML_SVG\"></script><script type=\"text/javascript\">if (window.MathJax) {MathJax.Hub.Config({SVG: {font: \"STIX-Web\"}});}</script>\n",
              "                <script type=\"text/javascript\">window.PlotlyConfig = {MathJaxConfig: 'local'};</script>\n",
              "        <script src=\"https://cdn.plot.ly/plotly-latest.min.js\"></script>    \n",
              "            <div id=\"f43e52b5-5e9e-4058-b7dc-894114e3c58d\" class=\"plotly-graph-div\" style=\"height:525px; width:600px;\"></div>\n",
              "            <script type=\"text/javascript\">\n",
              "                \n",
              "                    window.PLOTLYENV=window.PLOTLYENV || {};\n",
              "                    \n",
              "                if (document.getElementById(\"f43e52b5-5e9e-4058-b7dc-894114e3c58d\")) {\n",
              "                    Plotly.newPlot(\n",
              "                        'f43e52b5-5e9e-4058-b7dc-894114e3c58d',\n",
              "                        [{\"cells\": {\"values\": [[101323], [50753], [581], [19], [6604]]}, \"header\": {\"values\": [\"Dogs\", \"Cats\", \"Birds\", \"Livestock\", \"Other\"]}, \"type\": \"table\"}],\n",
              "                        {\"template\": {\"data\": {\"bar\": [{\"error_x\": {\"color\": \"#2a3f5f\"}, \"error_y\": {\"color\": \"#2a3f5f\"}, \"marker\": {\"line\": {\"color\": \"#E5ECF6\", \"width\": 0.5}}, \"type\": \"bar\"}], \"barpolar\": [{\"marker\": {\"line\": {\"color\": \"#E5ECF6\", \"width\": 0.5}}, \"type\": \"barpolar\"}], \"carpet\": [{\"aaxis\": {\"endlinecolor\": \"#2a3f5f\", \"gridcolor\": \"white\", \"linecolor\": \"white\", \"minorgridcolor\": \"white\", \"startlinecolor\": \"#2a3f5f\"}, \"baxis\": {\"endlinecolor\": \"#2a3f5f\", \"gridcolor\": \"white\", \"linecolor\": \"white\", \"minorgridcolor\": \"white\", \"startlinecolor\": \"#2a3f5f\"}, \"type\": \"carpet\"}], \"choropleth\": [{\"colorbar\": {\"outlinewidth\": 0, \"ticks\": \"\"}, \"type\": \"choropleth\"}], \"contour\": [{\"colorbar\": {\"outlinewidth\": 0, \"ticks\": \"\"}, \"colorscale\": [[0.0, \"#0d0887\"], [0.1111111111111111, \"#46039f\"], [0.2222222222222222, \"#7201a8\"], [0.3333333333333333, \"#9c179e\"], [0.4444444444444444, \"#bd3786\"], [0.5555555555555556, \"#d8576b\"], [0.6666666666666666, \"#ed7953\"], [0.7777777777777778, \"#fb9f3a\"], [0.8888888888888888, \"#fdca26\"], [1.0, \"#f0f921\"]], \"type\": \"contour\"}], \"contourcarpet\": [{\"colorbar\": {\"outlinewidth\": 0, \"ticks\": \"\"}, \"type\": \"contourcarpet\"}], \"heatmap\": [{\"colorbar\": {\"outlinewidth\": 0, \"ticks\": \"\"}, \"colorscale\": [[0.0, \"#0d0887\"], [0.1111111111111111, \"#46039f\"], [0.2222222222222222, \"#7201a8\"], [0.3333333333333333, \"#9c179e\"], [0.4444444444444444, \"#bd3786\"], [0.5555555555555556, \"#d8576b\"], [0.6666666666666666, \"#ed7953\"], [0.7777777777777778, \"#fb9f3a\"], [0.8888888888888888, \"#fdca26\"], [1.0, \"#f0f921\"]], \"type\": \"heatmap\"}], \"heatmapgl\": [{\"colorbar\": {\"outlinewidth\": 0, \"ticks\": \"\"}, \"colorscale\": [[0.0, \"#0d0887\"], [0.1111111111111111, \"#46039f\"], [0.2222222222222222, \"#7201a8\"], [0.3333333333333333, \"#9c179e\"], [0.4444444444444444, \"#bd3786\"], [0.5555555555555556, \"#d8576b\"], [0.6666666666666666, \"#ed7953\"], [0.7777777777777778, \"#fb9f3a\"], [0.8888888888888888, \"#fdca26\"], [1.0, \"#f0f921\"]], \"type\": \"heatmapgl\"}], \"histogram\": [{\"marker\": {\"colorbar\": {\"outlinewidth\": 0, \"ticks\": \"\"}}, \"type\": \"histogram\"}], \"histogram2d\": [{\"colorbar\": {\"outlinewidth\": 0, \"ticks\": \"\"}, \"colorscale\": [[0.0, \"#0d0887\"], [0.1111111111111111, \"#46039f\"], [0.2222222222222222, \"#7201a8\"], [0.3333333333333333, \"#9c179e\"], [0.4444444444444444, \"#bd3786\"], [0.5555555555555556, \"#d8576b\"], [0.6666666666666666, \"#ed7953\"], [0.7777777777777778, \"#fb9f3a\"], [0.8888888888888888, \"#fdca26\"], [1.0, \"#f0f921\"]], \"type\": \"histogram2d\"}], \"histogram2dcontour\": [{\"colorbar\": {\"outlinewidth\": 0, \"ticks\": \"\"}, \"colorscale\": [[0.0, \"#0d0887\"], [0.1111111111111111, \"#46039f\"], [0.2222222222222222, \"#7201a8\"], [0.3333333333333333, \"#9c179e\"], [0.4444444444444444, \"#bd3786\"], [0.5555555555555556, \"#d8576b\"], [0.6666666666666666, \"#ed7953\"], [0.7777777777777778, \"#fb9f3a\"], [0.8888888888888888, \"#fdca26\"], [1.0, \"#f0f921\"]], \"type\": \"histogram2dcontour\"}], \"mesh3d\": [{\"colorbar\": {\"outlinewidth\": 0, \"ticks\": \"\"}, \"type\": \"mesh3d\"}], \"parcoords\": [{\"line\": {\"colorbar\": {\"outlinewidth\": 0, \"ticks\": \"\"}}, \"type\": \"parcoords\"}], \"pie\": [{\"automargin\": true, \"type\": \"pie\"}], \"scatter\": [{\"marker\": {\"colorbar\": {\"outlinewidth\": 0, \"ticks\": \"\"}}, \"type\": \"scatter\"}], \"scatter3d\": [{\"line\": {\"colorbar\": {\"outlinewidth\": 0, \"ticks\": \"\"}}, \"marker\": {\"colorbar\": {\"outlinewidth\": 0, \"ticks\": \"\"}}, \"type\": \"scatter3d\"}], \"scattercarpet\": [{\"marker\": {\"colorbar\": {\"outlinewidth\": 0, \"ticks\": \"\"}}, \"type\": \"scattercarpet\"}], \"scattergeo\": [{\"marker\": {\"colorbar\": {\"outlinewidth\": 0, \"ticks\": \"\"}}, \"type\": \"scattergeo\"}], \"scattergl\": [{\"marker\": {\"colorbar\": {\"outlinewidth\": 0, \"ticks\": \"\"}}, \"type\": \"scattergl\"}], \"scattermapbox\": [{\"marker\": {\"colorbar\": {\"outlinewidth\": 0, \"ticks\": \"\"}}, \"type\": \"scattermapbox\"}], \"scatterpolar\": [{\"marker\": {\"colorbar\": {\"outlinewidth\": 0, \"ticks\": \"\"}}, \"type\": \"scatterpolar\"}], \"scatterpolargl\": [{\"marker\": {\"colorbar\": {\"outlinewidth\": 0, \"ticks\": \"\"}}, \"type\": \"scatterpolargl\"}], \"scatterternary\": [{\"marker\": {\"colorbar\": {\"outlinewidth\": 0, \"ticks\": \"\"}}, \"type\": \"scatterternary\"}], \"surface\": [{\"colorbar\": {\"outlinewidth\": 0, \"ticks\": \"\"}, \"colorscale\": [[0.0, \"#0d0887\"], [0.1111111111111111, \"#46039f\"], [0.2222222222222222, \"#7201a8\"], [0.3333333333333333, \"#9c179e\"], [0.4444444444444444, \"#bd3786\"], [0.5555555555555556, \"#d8576b\"], [0.6666666666666666, \"#ed7953\"], [0.7777777777777778, \"#fb9f3a\"], [0.8888888888888888, \"#fdca26\"], [1.0, \"#f0f921\"]], \"type\": \"surface\"}], \"table\": [{\"cells\": {\"fill\": {\"color\": \"#EBF0F8\"}, \"line\": {\"color\": \"white\"}}, \"header\": {\"fill\": {\"color\": \"#C8D4E3\"}, \"line\": {\"color\": \"white\"}}, \"type\": \"table\"}]}, \"layout\": {\"annotationdefaults\": {\"arrowcolor\": \"#2a3f5f\", \"arrowhead\": 0, \"arrowwidth\": 1}, \"coloraxis\": {\"colorbar\": {\"outlinewidth\": 0, \"ticks\": \"\"}}, \"colorscale\": {\"diverging\": [[0, \"#8e0152\"], [0.1, \"#c51b7d\"], [0.2, \"#de77ae\"], [0.3, \"#f1b6da\"], [0.4, \"#fde0ef\"], [0.5, \"#f7f7f7\"], [0.6, \"#e6f5d0\"], [0.7, \"#b8e186\"], [0.8, \"#7fbc41\"], [0.9, \"#4d9221\"], [1, \"#276419\"]], \"sequential\": [[0.0, \"#0d0887\"], [0.1111111111111111, \"#46039f\"], [0.2222222222222222, \"#7201a8\"], [0.3333333333333333, \"#9c179e\"], [0.4444444444444444, \"#bd3786\"], [0.5555555555555556, \"#d8576b\"], [0.6666666666666666, \"#ed7953\"], [0.7777777777777778, \"#fb9f3a\"], [0.8888888888888888, \"#fdca26\"], [1.0, \"#f0f921\"]], \"sequentialminus\": [[0.0, \"#0d0887\"], [0.1111111111111111, \"#46039f\"], [0.2222222222222222, \"#7201a8\"], [0.3333333333333333, \"#9c179e\"], [0.4444444444444444, \"#bd3786\"], [0.5555555555555556, \"#d8576b\"], [0.6666666666666666, \"#ed7953\"], [0.7777777777777778, \"#fb9f3a\"], [0.8888888888888888, \"#fdca26\"], [1.0, \"#f0f921\"]]}, \"colorway\": [\"#636efa\", \"#EF553B\", \"#00cc96\", \"#ab63fa\", \"#FFA15A\", \"#19d3f3\", \"#FF6692\", \"#B6E880\", \"#FF97FF\", \"#FECB52\"], \"font\": {\"color\": \"#2a3f5f\"}, \"geo\": {\"bgcolor\": \"white\", \"lakecolor\": \"white\", \"landcolor\": \"#E5ECF6\", \"showlakes\": true, \"showland\": true, \"subunitcolor\": \"white\"}, \"hoverlabel\": {\"align\": \"left\"}, \"hovermode\": \"closest\", \"mapbox\": {\"style\": \"light\"}, \"paper_bgcolor\": \"white\", \"plot_bgcolor\": \"#E5ECF6\", \"polar\": {\"angularaxis\": {\"gridcolor\": \"white\", \"linecolor\": \"white\", \"ticks\": \"\"}, \"bgcolor\": \"#E5ECF6\", \"radialaxis\": {\"gridcolor\": \"white\", \"linecolor\": \"white\", \"ticks\": \"\"}}, \"scene\": {\"xaxis\": {\"backgroundcolor\": \"#E5ECF6\", \"gridcolor\": \"white\", \"gridwidth\": 2, \"linecolor\": \"white\", \"showbackground\": true, \"ticks\": \"\", \"zerolinecolor\": \"white\"}, \"yaxis\": {\"backgroundcolor\": \"#E5ECF6\", \"gridcolor\": \"white\", \"gridwidth\": 2, \"linecolor\": \"white\", \"showbackground\": true, \"ticks\": \"\", \"zerolinecolor\": \"white\"}, \"zaxis\": {\"backgroundcolor\": \"#E5ECF6\", \"gridcolor\": \"white\", \"gridwidth\": 2, \"linecolor\": \"white\", \"showbackground\": true, \"ticks\": \"\", \"zerolinecolor\": \"white\"}}, \"shapedefaults\": {\"line\": {\"color\": \"#2a3f5f\"}}, \"ternary\": {\"aaxis\": {\"gridcolor\": \"white\", \"linecolor\": \"white\", \"ticks\": \"\"}, \"baxis\": {\"gridcolor\": \"white\", \"linecolor\": \"white\", \"ticks\": \"\"}, \"bgcolor\": \"#E5ECF6\", \"caxis\": {\"gridcolor\": \"white\", \"linecolor\": \"white\", \"ticks\": \"\"}}, \"title\": {\"x\": 0.05}, \"xaxis\": {\"automargin\": true, \"gridcolor\": \"white\", \"linecolor\": \"white\", \"ticks\": \"\", \"title\": {\"standoff\": 15}, \"zerolinecolor\": \"white\", \"zerolinewidth\": 2}, \"yaxis\": {\"automargin\": true, \"gridcolor\": \"white\", \"linecolor\": \"white\", \"ticks\": \"\", \"title\": {\"standoff\": 15}, \"zerolinecolor\": \"white\", \"zerolinewidth\": 2}}}, \"title\": {\"text\": \"Animal Types at AAC\"}, \"width\": 600},\n",
              "                        {\"responsive\": true}\n",
              "                    ).then(function(){\n",
              "                            \n",
              "var gd = document.getElementById('f43e52b5-5e9e-4058-b7dc-894114e3c58d');\n",
              "var x = new MutationObserver(function (mutations, observer) {{\n",
              "        var display = window.getComputedStyle(gd).display;\n",
              "        if (!display || display === 'none') {{\n",
              "            console.log([gd, 'removed!']);\n",
              "            Plotly.purge(gd);\n",
              "            observer.disconnect();\n",
              "        }}\n",
              "}});\n",
              "\n",
              "// Listen for the removal of the full notebook cells\n",
              "var notebookContainer = gd.closest('#notebook-container');\n",
              "if (notebookContainer) {{\n",
              "    x.observe(notebookContainer, {childList: true});\n",
              "}}\n",
              "\n",
              "// Listen for the clearing of the current output cell\n",
              "var outputEl = gd.closest('.output');\n",
              "if (outputEl) {{\n",
              "    x.observe(outputEl, {childList: true});\n",
              "}}\n",
              "\n",
              "                        })\n",
              "                };\n",
              "                \n",
              "            </script>\n",
              "        </div>\n",
              "</body>\n",
              "</html>"
            ]
          },
          "metadata": {
            "tags": []
          }
        }
      ]
    },
    {
      "cell_type": "code",
      "metadata": {
        "colab": {
          "base_uri": "https://localhost:8080/",
          "height": 347
        },
        "id": "SV55nF-1PFDl",
        "outputId": "beca2630-e72a-4e22-cd9c-8d9e8579140f"
      },
      "source": [
        "fig, ax = plt.subplots()\n",
        "\n",
        "plt.bar(x=['Other', 'Bird', 'Livestock'], height=[6604, 581, 19])\n",
        "\n",
        "ax.set_xlabel('Type of Animal', fontweight=\"bold\", fontsize=14, labelpad=15)\n",
        "ax.set_ylabel('Number of Animals', fontweight=\"bold\", fontsize=14, labelpad=10)\n",
        "ax.set_title('Lowest Number of\\nAnimal Types at AAC', fontweight='bold', fontsize=18, pad=15)\n",
        "ax.set_xticklabels(labels=['Other', 'Bird', 'Livestock'], fontsize=12)\n",
        "ax.set_yticklabels(labels=[0, 1000, 2000, 3000, 4000, 5000, 6000], fontsize=12)\n",
        "\n",
        "plt.show()"
      ],
      "execution_count": 34,
      "outputs": [
        {
          "output_type": "display_data",
          "data": {
            "image/png": "[encoded data removed]",
            "text/plain": [
              "<Figure size 432x288 with 1 Axes>"
            ]
          },
          "metadata": {
            "tags": [],
            "needs_background": "light"
          }
        }
      ]
    },
    {
      "cell_type": "code",
      "metadata": {
        "colab": {
          "base_uri": "https://localhost:8080/",
          "height": 142
        },
        "id": "_qG66r_JTTMT",
        "outputId": "19ddab9a-b4e5-4b95-88a6-c07e057cb6a5"
      },
      "source": [
        "other_animals = outcomes[(outcomes['Animal Type_x'] == 'Other')]\n",
        "other_animals.head(3)"
      ],
      "execution_count": 35,
      "outputs": [
        {
          "output_type": "execute_result",
          "data": {
            "text/html": [
              "<div>\n",
              "<style scoped>\n",
              "    .dataframe tbody tr th:only-of-type {\n",
              "        vertical-align: middle;\n",
              "    }\n",
              "\n",
              "    .dataframe tbody tr th {\n",
              "        vertical-align: top;\n",
              "    }\n",
              "\n",
              "    .dataframe thead th {\n",
              "        text-align: right;\n",
              "    }\n",
              "</style>\n",
              "<table border=\"1\" class=\"dataframe\">\n",
              "  <thead>\n",
              "    <tr style=\"text-align: right;\">\n",
              "      <th></th>\n",
              "      <th>index</th>\n",
              "      <th>Outcome Type</th>\n",
              "      <th>Outcome Subtype</th>\n",
              "      <th>Animal Type_x</th>\n",
              "      <th>Breed_x</th>\n",
              "    </tr>\n",
              "  </thead>\n",
              "  <tbody>\n",
              "    <tr>\n",
              "      <th>34</th>\n",
              "      <td>34</td>\n",
              "      <td>Disposal</td>\n",
              "      <td>NaN</td>\n",
              "      <td>Other</td>\n",
              "      <td>Bat</td>\n",
              "    </tr>\n",
              "    <tr>\n",
              "      <th>39</th>\n",
              "      <td>39</td>\n",
              "      <td>Euthanasia</td>\n",
              "      <td>Rabies Risk</td>\n",
              "      <td>Other</td>\n",
              "      <td>Bat Mix</td>\n",
              "    </tr>\n",
              "    <tr>\n",
              "      <th>107</th>\n",
              "      <td>107</td>\n",
              "      <td>Euthanasia</td>\n",
              "      <td>Suffering</td>\n",
              "      <td>Other</td>\n",
              "      <td>Hamster Mix</td>\n",
              "    </tr>\n",
              "  </tbody>\n",
              "</table>\n",
              "</div>"
            ],
            "text/plain": [
              "     index Outcome Type Outcome Subtype Animal Type_x      Breed_x\n",
              "34      34     Disposal             NaN         Other          Bat\n",
              "39      39   Euthanasia     Rabies Risk         Other      Bat Mix\n",
              "107    107   Euthanasia       Suffering         Other  Hamster Mix"
            ]
          },
          "metadata": {
            "tags": []
          },
          "execution_count": 35
        }
      ]
    },
    {
      "cell_type": "code",
      "metadata": {
        "colab": {
          "base_uri": "https://localhost:8080/"
        },
        "id": "11SjbXhAUsrk",
        "outputId": "9189dced-8607-4d08-c296-c1bb55d98a6c"
      },
      "source": [
        "other_animals['Breed_x'].value_counts()"
      ],
      "execution_count": 36,
      "outputs": [
        {
          "output_type": "execute_result",
          "data": {
            "text/plain": [
              "Bat Mix                 1760\n",
              "Bat                     1455\n",
              "Raccoon Mix              539\n",
              "Raccoon                  411\n",
              "Rabbit Sh Mix            343\n",
              "                        ... \n",
              "Hotot                      1\n",
              "Prairie Dog Mix            1\n",
              "Tropical Mix               1\n",
              "Chinchilla-Amer            1\n",
              "Rex-Mini/Lop-English       1\n",
              "Name: Breed_x, Length: 120, dtype: int64"
            ]
          },
          "metadata": {
            "tags": []
          },
          "execution_count": 36
        }
      ]
    },
    {
      "cell_type": "markdown",
      "metadata": {
        "id": "tsni-9TgQAkX"
      },
      "source": [
        "###Animal Types at the Facility Whom were Euthanized"
      ]
    },
    {
      "cell_type": "code",
      "metadata": {
        "colab": {
          "base_uri": "https://localhost:8080/"
        },
        "id": "u2695BBWQQMT",
        "outputId": "3ba82cee-16cc-493c-e1e8-7e81645f6ae9"
      },
      "source": [
        "euthanasia_subtypes['Animal Type_x'].value_counts()"
      ],
      "execution_count": 37,
      "outputs": [
        {
          "output_type": "execute_result",
          "data": {
            "text/plain": [
              "Other        4493\n",
              "Dog          2079\n",
              "Cat          1978\n",
              "Bird          117\n",
              "Livestock       1\n",
              "Name: Animal Type_x, dtype: int64"
            ]
          },
          "metadata": {
            "tags": []
          },
          "execution_count": 37
        }
      ]
    },
    {
      "cell_type": "code",
      "metadata": {
        "colab": {
          "base_uri": "https://localhost:8080/",
          "height": 347
        },
        "id": "Ph2YR2kDQFHx",
        "outputId": "460a566e-35c1-4584-ae01-66849d8f0d48"
      },
      "source": [
        "fig, ax = plt.subplots()\n",
        "\n",
        "plt.bar(x=['Other', 'Dog', 'Cat', 'Bird', 'Livestock'], height=euthanasia_subtypes['Animal Type_x'].value_counts())\n",
        "\n",
        "ax.set_xlabel('Type of Animal', fontweight=\"bold\", fontsize=14, labelpad=15)\n",
        "ax.set_ylabel('Number of Animals', fontweight=\"bold\", fontsize=14, labelpad=10)\n",
        "ax.set_title('Animal Types at the\\nFacility Euthanized', fontweight=\"bold\", fontsize=18, pad=15)\n",
        "ax.set_xticklabels(labels=['Other', 'Dog', 'Cat', 'Bird', 'Livestock'], fontsize=12)\n",
        "ax.set_yticklabels(labels=[0, 1000, 2000, 3000, 4000], fontsize=12)\n",
        "\n",
        "plt.show()"
      ],
      "execution_count": 39,
      "outputs": [
        {
          "output_type": "display_data",
          "data": {
            "image/png": "[encoded data removed]",
            "text/plain": [
              "<Figure size 432x288 with 1 Axes>"
            ]
          },
          "metadata": {
            "tags": [],
            "needs_background": "light"
          }
        }
      ]
    },
    {
      "cell_type": "code",
      "metadata": {
        "colab": {
          "base_uri": "https://localhost:8080/",
          "height": 80
        },
        "id": "sNNd2lF6eUi0",
        "outputId": "ebed8782-00c4-49b1-c12d-077d0b504027"
      },
      "source": [
        "pd.DataFrame({'Dogs': [2079], 'Cats': [1978], 'Other':[4493] , 'Birds': [117], 'Livestock': [1]}, )"
      ],
      "execution_count": 178,
      "outputs": [
        {
          "output_type": "execute_result",
          "data": {
            "text/html": [
              "<div>\n",
              "<style scoped>\n",
              "    .dataframe tbody tr th:only-of-type {\n",
              "        vertical-align: middle;\n",
              "    }\n",
              "\n",
              "    .dataframe tbody tr th {\n",
              "        vertical-align: top;\n",
              "    }\n",
              "\n",
              "    .dataframe thead th {\n",
              "        text-align: right;\n",
              "    }\n",
              "</style>\n",
              "<table border=\"1\" class=\"dataframe\">\n",
              "  <thead>\n",
              "    <tr style=\"text-align: right;\">\n",
              "      <th></th>\n",
              "      <th>Dogs</th>\n",
              "      <th>Cats</th>\n",
              "      <th>Other</th>\n",
              "      <th>Birds</th>\n",
              "      <th>Livestock</th>\n",
              "    </tr>\n",
              "  </thead>\n",
              "  <tbody>\n",
              "    <tr>\n",
              "      <th>0</th>\n",
              "      <td>2079</td>\n",
              "      <td>1978</td>\n",
              "      <td>4493</td>\n",
              "      <td>117</td>\n",
              "      <td>1</td>\n",
              "    </tr>\n",
              "  </tbody>\n",
              "</table>\n",
              "</div>"
            ],
            "text/plain": [
              "   Dogs  Cats  Other  Birds  Livestock\n",
              "0  2079  1978   4493    117          1"
            ]
          },
          "metadata": {
            "tags": []
          },
          "execution_count": 178
        }
      ]
    },
    {
      "cell_type": "code",
      "metadata": {
        "colab": {
          "base_uri": "https://localhost:8080/",
          "height": 542
        },
        "id": "8W1FT_4xjDIO",
        "outputId": "70985a55-db49-40fc-9abf-445ffb4c64a0"
      },
      "source": [
        "fig = go.Figure(data=[go.Table(header=dict(values=['Dogs', 'Cats', 'Birds', 'Livestock', 'Other']),\n",
        "                               cells=dict(values=[[2079], [1978], [117], [1], [4493]])), \n",
        "                     ])\n",
        "fig.update_layout(width=600, title='Animal Types at the Facility Euthanized')\n",
        "\n",
        "fig.show()"
      ],
      "execution_count": 207,
      "outputs": [
        {
          "output_type": "display_data",
          "data": {
            "text/html": [
              "<html>\n",
              "<head><meta charset=\"utf-8\" /></head>\n",
              "<body>\n",
              "    <div>\n",
              "            <script src=\"https://cdnjs.cloudflare.com/ajax/libs/mathjax/2.7.5/MathJax.js?config=TeX-AMS-MML_SVG\"></script><script type=\"text/javascript\">if (window.MathJax) {MathJax.Hub.Config({SVG: {font: \"STIX-Web\"}});}</script>\n",
              "                <script type=\"text/javascript\">window.PlotlyConfig = {MathJaxConfig: 'local'};</script>\n",
              "        <script src=\"https://cdn.plot.ly/plotly-latest.min.js\"></script>    \n",
              "            <div id=\"7bbd67c0-41d1-435b-b3e5-5e682afd2e44\" class=\"plotly-graph-div\" style=\"height:525px; width:600px;\"></div>\n",
              "            <script type=\"text/javascript\">\n",
              "                \n",
              "                    window.PLOTLYENV=window.PLOTLYENV || {};\n",
              "                    \n",
              "                if (document.getElementById(\"7bbd67c0-41d1-435b-b3e5-5e682afd2e44\")) {\n",
              "                    Plotly.newPlot(\n",
              "                        '7bbd67c0-41d1-435b-b3e5-5e682afd2e44',\n",
              "                        [{\"cells\": {\"values\": [[2079], [1978], [117], [1], [4493]]}, \"header\": {\"values\": [\"Dogs\", \"Cats\", \"Birds\", \"Livestock\", \"Other\"]}, \"type\": \"table\"}],\n",
              "                        {\"template\": {\"data\": {\"bar\": [{\"error_x\": {\"color\": \"#2a3f5f\"}, \"error_y\": {\"color\": \"#2a3f5f\"}, \"marker\": {\"line\": {\"color\": \"#E5ECF6\", \"width\": 0.5}}, \"type\": \"bar\"}], \"barpolar\": [{\"marker\": {\"line\": {\"color\": \"#E5ECF6\", \"width\": 0.5}}, \"type\": \"barpolar\"}], \"carpet\": [{\"aaxis\": {\"endlinecolor\": \"#2a3f5f\", \"gridcolor\": \"white\", \"linecolor\": \"white\", \"minorgridcolor\": \"white\", \"startlinecolor\": \"#2a3f5f\"}, \"baxis\": {\"endlinecolor\": \"#2a3f5f\", \"gridcolor\": \"white\", \"linecolor\": \"white\", \"minorgridcolor\": \"white\", \"startlinecolor\": \"#2a3f5f\"}, \"type\": \"carpet\"}], \"choropleth\": [{\"colorbar\": {\"outlinewidth\": 0, \"ticks\": \"\"}, \"type\": \"choropleth\"}], \"contour\": [{\"colorbar\": {\"outlinewidth\": 0, \"ticks\": \"\"}, \"colorscale\": [[0.0, \"#0d0887\"], [0.1111111111111111, \"#46039f\"], [0.2222222222222222, \"#7201a8\"], [0.3333333333333333, \"#9c179e\"], [0.4444444444444444, \"#bd3786\"], [0.5555555555555556, \"#d8576b\"], [0.6666666666666666, \"#ed7953\"], [0.7777777777777778, \"#fb9f3a\"], [0.8888888888888888, \"#fdca26\"], [1.0, \"#f0f921\"]], \"type\": \"contour\"}], \"contourcarpet\": [{\"colorbar\": {\"outlinewidth\": 0, \"ticks\": \"\"}, \"type\": \"contourcarpet\"}], \"heatmap\": [{\"colorbar\": {\"outlinewidth\": 0, \"ticks\": \"\"}, \"colorscale\": [[0.0, \"#0d0887\"], [0.1111111111111111, \"#46039f\"], [0.2222222222222222, \"#7201a8\"], [0.3333333333333333, \"#9c179e\"], [0.4444444444444444, \"#bd3786\"], [0.5555555555555556, \"#d8576b\"], [0.6666666666666666, \"#ed7953\"], [0.7777777777777778, \"#fb9f3a\"], [0.8888888888888888, \"#fdca26\"], [1.0, \"#f0f921\"]], \"type\": \"heatmap\"}], \"heatmapgl\": [{\"colorbar\": {\"outlinewidth\": 0, \"ticks\": \"\"}, \"colorscale\": [[0.0, \"#0d0887\"], [0.1111111111111111, \"#46039f\"], [0.2222222222222222, \"#7201a8\"], [0.3333333333333333, \"#9c179e\"], [0.4444444444444444, \"#bd3786\"], [0.5555555555555556, \"#d8576b\"], [0.6666666666666666, \"#ed7953\"], [0.7777777777777778, \"#fb9f3a\"], [0.8888888888888888, \"#fdca26\"], [1.0, \"#f0f921\"]], \"type\": \"heatmapgl\"}], \"histogram\": [{\"marker\": {\"colorbar\": {\"outlinewidth\": 0, \"ticks\": \"\"}}, \"type\": \"histogram\"}], \"histogram2d\": [{\"colorbar\": {\"outlinewidth\": 0, \"ticks\": \"\"}, \"colorscale\": [[0.0, \"#0d0887\"], [0.1111111111111111, \"#46039f\"], [0.2222222222222222, \"#7201a8\"], [0.3333333333333333, \"#9c179e\"], [0.4444444444444444, \"#bd3786\"], [0.5555555555555556, \"#d8576b\"], [0.6666666666666666, \"#ed7953\"], [0.7777777777777778, \"#fb9f3a\"], [0.8888888888888888, \"#fdca26\"], [1.0, \"#f0f921\"]], \"type\": \"histogram2d\"}], \"histogram2dcontour\": [{\"colorbar\": {\"outlinewidth\": 0, \"ticks\": \"\"}, \"colorscale\": [[0.0, \"#0d0887\"], [0.1111111111111111, \"#46039f\"], [0.2222222222222222, \"#7201a8\"], [0.3333333333333333, \"#9c179e\"], [0.4444444444444444, \"#bd3786\"], [0.5555555555555556, \"#d8576b\"], [0.6666666666666666, \"#ed7953\"], [0.7777777777777778, \"#fb9f3a\"], [0.8888888888888888, \"#fdca26\"], [1.0, \"#f0f921\"]], \"type\": \"histogram2dcontour\"}], \"mesh3d\": [{\"colorbar\": {\"outlinewidth\": 0, \"ticks\": \"\"}, \"type\": \"mesh3d\"}], \"parcoords\": [{\"line\": {\"colorbar\": {\"outlinewidth\": 0, \"ticks\": \"\"}}, \"type\": \"parcoords\"}], \"pie\": [{\"automargin\": true, \"type\": \"pie\"}], \"scatter\": [{\"marker\": {\"colorbar\": {\"outlinewidth\": 0, \"ticks\": \"\"}}, \"type\": \"scatter\"}], \"scatter3d\": [{\"line\": {\"colorbar\": {\"outlinewidth\": 0, \"ticks\": \"\"}}, \"marker\": {\"colorbar\": {\"outlinewidth\": 0, \"ticks\": \"\"}}, \"type\": \"scatter3d\"}], \"scattercarpet\": [{\"marker\": {\"colorbar\": {\"outlinewidth\": 0, \"ticks\": \"\"}}, \"type\": \"scattercarpet\"}], \"scattergeo\": [{\"marker\": {\"colorbar\": {\"outlinewidth\": 0, \"ticks\": \"\"}}, \"type\": \"scattergeo\"}], \"scattergl\": [{\"marker\": {\"colorbar\": {\"outlinewidth\": 0, \"ticks\": \"\"}}, \"type\": \"scattergl\"}], \"scattermapbox\": [{\"marker\": {\"colorbar\": {\"outlinewidth\": 0, \"ticks\": \"\"}}, \"type\": \"scattermapbox\"}], \"scatterpolar\": [{\"marker\": {\"colorbar\": {\"outlinewidth\": 0, \"ticks\": \"\"}}, \"type\": \"scatterpolar\"}], \"scatterpolargl\": [{\"marker\": {\"colorbar\": {\"outlinewidth\": 0, \"ticks\": \"\"}}, \"type\": \"scatterpolargl\"}], \"scatterternary\": [{\"marker\": {\"colorbar\": {\"outlinewidth\": 0, \"ticks\": \"\"}}, \"type\": \"scatterternary\"}], \"surface\": [{\"colorbar\": {\"outlinewidth\": 0, \"ticks\": \"\"}, \"colorscale\": [[0.0, \"#0d0887\"], [0.1111111111111111, \"#46039f\"], [0.2222222222222222, \"#7201a8\"], [0.3333333333333333, \"#9c179e\"], [0.4444444444444444, \"#bd3786\"], [0.5555555555555556, \"#d8576b\"], [0.6666666666666666, \"#ed7953\"], [0.7777777777777778, \"#fb9f3a\"], [0.8888888888888888, \"#fdca26\"], [1.0, \"#f0f921\"]], \"type\": \"surface\"}], \"table\": [{\"cells\": {\"fill\": {\"color\": \"#EBF0F8\"}, \"line\": {\"color\": \"white\"}}, \"header\": {\"fill\": {\"color\": \"#C8D4E3\"}, \"line\": {\"color\": \"white\"}}, \"type\": \"table\"}]}, \"layout\": {\"annotationdefaults\": {\"arrowcolor\": \"#2a3f5f\", \"arrowhead\": 0, \"arrowwidth\": 1}, \"coloraxis\": {\"colorbar\": {\"outlinewidth\": 0, \"ticks\": \"\"}}, \"colorscale\": {\"diverging\": [[0, \"#8e0152\"], [0.1, \"#c51b7d\"], [0.2, \"#de77ae\"], [0.3, \"#f1b6da\"], [0.4, \"#fde0ef\"], [0.5, \"#f7f7f7\"], [0.6, \"#e6f5d0\"], [0.7, \"#b8e186\"], [0.8, \"#7fbc41\"], [0.9, \"#4d9221\"], [1, \"#276419\"]], \"sequential\": [[0.0, \"#0d0887\"], [0.1111111111111111, \"#46039f\"], [0.2222222222222222, \"#7201a8\"], [0.3333333333333333, \"#9c179e\"], [0.4444444444444444, \"#bd3786\"], [0.5555555555555556, \"#d8576b\"], [0.6666666666666666, \"#ed7953\"], [0.7777777777777778, \"#fb9f3a\"], [0.8888888888888888, \"#fdca26\"], [1.0, \"#f0f921\"]], \"sequentialminus\": [[0.0, \"#0d0887\"], [0.1111111111111111, \"#46039f\"], [0.2222222222222222, \"#7201a8\"], [0.3333333333333333, \"#9c179e\"], [0.4444444444444444, \"#bd3786\"], [0.5555555555555556, \"#d8576b\"], [0.6666666666666666, \"#ed7953\"], [0.7777777777777778, \"#fb9f3a\"], [0.8888888888888888, \"#fdca26\"], [1.0, \"#f0f921\"]]}, \"colorway\": [\"#636efa\", \"#EF553B\", \"#00cc96\", \"#ab63fa\", \"#FFA15A\", \"#19d3f3\", \"#FF6692\", \"#B6E880\", \"#FF97FF\", \"#FECB52\"], \"font\": {\"color\": \"#2a3f5f\"}, \"geo\": {\"bgcolor\": \"white\", \"lakecolor\": \"white\", \"landcolor\": \"#E5ECF6\", \"showlakes\": true, \"showland\": true, \"subunitcolor\": \"white\"}, \"hoverlabel\": {\"align\": \"left\"}, \"hovermode\": \"closest\", \"mapbox\": {\"style\": \"light\"}, \"paper_bgcolor\": \"white\", \"plot_bgcolor\": \"#E5ECF6\", \"polar\": {\"angularaxis\": {\"gridcolor\": \"white\", \"linecolor\": \"white\", \"ticks\": \"\"}, \"bgcolor\": \"#E5ECF6\", \"radialaxis\": {\"gridcolor\": \"white\", \"linecolor\": \"white\", \"ticks\": \"\"}}, \"scene\": {\"xaxis\": {\"backgroundcolor\": \"#E5ECF6\", \"gridcolor\": \"white\", \"gridwidth\": 2, \"linecolor\": \"white\", \"showbackground\": true, \"ticks\": \"\", \"zerolinecolor\": \"white\"}, \"yaxis\": {\"backgroundcolor\": \"#E5ECF6\", \"gridcolor\": \"white\", \"gridwidth\": 2, \"linecolor\": \"white\", \"showbackground\": true, \"ticks\": \"\", \"zerolinecolor\": \"white\"}, \"zaxis\": {\"backgroundcolor\": \"#E5ECF6\", \"gridcolor\": \"white\", \"gridwidth\": 2, \"linecolor\": \"white\", \"showbackground\": true, \"ticks\": \"\", \"zerolinecolor\": \"white\"}}, \"shapedefaults\": {\"line\": {\"color\": \"#2a3f5f\"}}, \"ternary\": {\"aaxis\": {\"gridcolor\": \"white\", \"linecolor\": \"white\", \"ticks\": \"\"}, \"baxis\": {\"gridcolor\": \"white\", \"linecolor\": \"white\", \"ticks\": \"\"}, \"bgcolor\": \"#E5ECF6\", \"caxis\": {\"gridcolor\": \"white\", \"linecolor\": \"white\", \"ticks\": \"\"}}, \"title\": {\"x\": 0.05}, \"xaxis\": {\"automargin\": true, \"gridcolor\": \"white\", \"linecolor\": \"white\", \"ticks\": \"\", \"title\": {\"standoff\": 15}, \"zerolinecolor\": \"white\", \"zerolinewidth\": 2}, \"yaxis\": {\"automargin\": true, \"gridcolor\": \"white\", \"linecolor\": \"white\", \"ticks\": \"\", \"title\": {\"standoff\": 15}, \"zerolinecolor\": \"white\", \"zerolinewidth\": 2}}}, \"title\": {\"text\": \"Animal Types at the Facility Euthanized\"}, \"width\": 600},\n",
              "                        {\"responsive\": true}\n",
              "                    ).then(function(){\n",
              "                            \n",
              "var gd = document.getElementById('7bbd67c0-41d1-435b-b3e5-5e682afd2e44');\n",
              "var x = new MutationObserver(function (mutations, observer) {{\n",
              "        var display = window.getComputedStyle(gd).display;\n",
              "        if (!display || display === 'none') {{\n",
              "            console.log([gd, 'removed!']);\n",
              "            Plotly.purge(gd);\n",
              "            observer.disconnect();\n",
              "        }}\n",
              "}});\n",
              "\n",
              "// Listen for the removal of the full notebook cells\n",
              "var notebookContainer = gd.closest('#notebook-container');\n",
              "if (notebookContainer) {{\n",
              "    x.observe(notebookContainer, {childList: true});\n",
              "}}\n",
              "\n",
              "// Listen for the clearing of the current output cell\n",
              "var outputEl = gd.closest('.output');\n",
              "if (outputEl) {{\n",
              "    x.observe(outputEl, {childList: true});\n",
              "}}\n",
              "\n",
              "                        })\n",
              "                };\n",
              "                \n",
              "            </script>\n",
              "        </div>\n",
              "</body>\n",
              "</html>"
            ]
          },
          "metadata": {
            "tags": []
          }
        }
      ]
    },
    {
      "cell_type": "code",
      "metadata": {
        "colab": {
          "base_uri": "https://localhost:8080/",
          "height": 347
        },
        "id": "osl6UHN9QUZs",
        "outputId": "26147b69-1046-4505-f2b5-abb861f543a8"
      },
      "source": [
        "fig, ax = plt.subplots()\n",
        "\n",
        "plt.bar(x=['Bird', 'Livestock'], height=[117, 1])\n",
        "\n",
        "ax.set_xlabel('Type of Animal', fontweight=\"bold\", fontsize=14, labelpad=15)\n",
        "ax.set_ylabel('Number of Animals', fontweight='bold', fontsize=14, labelpad=10)\n",
        "ax.set_title('Animal Types at AAC\\nEuthanized', fontweight='bold', fontsize=18, pad=15)\n",
        "ax.set_xticklabels(labels=['Bird', 'Livestock'], fontsize=12)\n",
        "ax.set_yticklabels(labels=[0, 20, 40, 60, 80, 100, 120], fontsize=12)\n",
        "\n",
        "plt.show()"
      ],
      "execution_count": 40,
      "outputs": [
        {
          "output_type": "display_data",
          "data": {
            "image/png": "[encoded data removed]",
            "text/plain": [
              "<Figure size 432x288 with 1 Axes>"
            ]
          },
          "metadata": {
            "tags": [],
            "needs_background": "light"
          }
        }
      ]
    },
    {
      "cell_type": "markdown",
      "metadata": {
        "id": "mVFmuUoSPSkm"
      },
      "source": [
        "##Euthanization Timeline Dataframe"
      ]
    },
    {
      "cell_type": "code",
      "metadata": {
        "colab": {
          "base_uri": "https://localhost:8080/",
          "height": 428
        },
        "id": "FjMjuaQJPZpC",
        "outputId": "52b629e1-40e6-48dc-a3a6-6fc7aa72a0ab"
      },
      "source": [
        "animal_shelter.head()"
      ],
      "execution_count": 41,
      "outputs": [
        {
          "output_type": "execute_result",
          "data": {
            "text/html": [
              "<div>\n",
              "<style scoped>\n",
              "    .dataframe tbody tr th:only-of-type {\n",
              "        vertical-align: middle;\n",
              "    }\n",
              "\n",
              "    .dataframe tbody tr th {\n",
              "        vertical-align: top;\n",
              "    }\n",
              "\n",
              "    .dataframe thead th {\n",
              "        text-align: right;\n",
              "    }\n",
              "</style>\n",
              "<table border=\"1\" class=\"dataframe\">\n",
              "  <thead>\n",
              "    <tr style=\"text-align: right;\">\n",
              "      <th></th>\n",
              "      <th>Animal ID</th>\n",
              "      <th>Name Intake</th>\n",
              "      <th>Intake DateTime</th>\n",
              "      <th>Intake Type</th>\n",
              "      <th>Intake Condition</th>\n",
              "      <th>Animal Type_x</th>\n",
              "      <th>Sex Upon Intake</th>\n",
              "      <th>Age Upon Intake</th>\n",
              "      <th>Breed_x</th>\n",
              "      <th>Color_x</th>\n",
              "      <th>Name Outcome</th>\n",
              "      <th>Outcome DateTime</th>\n",
              "      <th>Date of Birth</th>\n",
              "      <th>Outcome Type</th>\n",
              "      <th>Outcome Subtype</th>\n",
              "      <th>Sex Upon Outcome</th>\n",
              "      <th>Age Upon Outcome</th>\n",
              "    </tr>\n",
              "  </thead>\n",
              "  <tbody>\n",
              "    <tr>\n",
              "      <th>0</th>\n",
              "      <td>A706918</td>\n",
              "      <td>Belle</td>\n",
              "      <td>07/05/2015 12:59:00 PM</td>\n",
              "      <td>Stray</td>\n",
              "      <td>Normal</td>\n",
              "      <td>Dog</td>\n",
              "      <td>Spayed Female</td>\n",
              "      <td>8 years</td>\n",
              "      <td>English Springer Spaniel</td>\n",
              "      <td>White/Liver</td>\n",
              "      <td>Belle</td>\n",
              "      <td>07/05/2015 03:13:00 PM</td>\n",
              "      <td>07/05/2007</td>\n",
              "      <td>Return to Owner</td>\n",
              "      <td>NaN</td>\n",
              "      <td>Spayed Female</td>\n",
              "      <td>8 years</td>\n",
              "    </tr>\n",
              "    <tr>\n",
              "      <th>1</th>\n",
              "      <td>A724273</td>\n",
              "      <td>Runster</td>\n",
              "      <td>04/14/2016 06:43:00 PM</td>\n",
              "      <td>Stray</td>\n",
              "      <td>Normal</td>\n",
              "      <td>Dog</td>\n",
              "      <td>Intact Male</td>\n",
              "      <td>11 months</td>\n",
              "      <td>Basenji Mix</td>\n",
              "      <td>Sable/White</td>\n",
              "      <td>Runster</td>\n",
              "      <td>04/21/2016 05:17:00 PM</td>\n",
              "      <td>04/17/2015</td>\n",
              "      <td>Return to Owner</td>\n",
              "      <td>NaN</td>\n",
              "      <td>Neutered Male</td>\n",
              "      <td>1 year</td>\n",
              "    </tr>\n",
              "    <tr>\n",
              "      <th>2</th>\n",
              "      <td>A665644</td>\n",
              "      <td>NaN</td>\n",
              "      <td>10/21/2013 07:59:00 AM</td>\n",
              "      <td>Stray</td>\n",
              "      <td>Sick</td>\n",
              "      <td>Cat</td>\n",
              "      <td>Intact Female</td>\n",
              "      <td>4 weeks</td>\n",
              "      <td>Domestic Shorthair Mix</td>\n",
              "      <td>Calico</td>\n",
              "      <td>NaN</td>\n",
              "      <td>10/21/2013 11:39:00 AM</td>\n",
              "      <td>09/21/2013</td>\n",
              "      <td>Transfer</td>\n",
              "      <td>Partner</td>\n",
              "      <td>Intact Female</td>\n",
              "      <td>4 weeks</td>\n",
              "    </tr>\n",
              "    <tr>\n",
              "      <th>3</th>\n",
              "      <td>A682524</td>\n",
              "      <td>Rio</td>\n",
              "      <td>06/29/2014 10:38:00 AM</td>\n",
              "      <td>Stray</td>\n",
              "      <td>Normal</td>\n",
              "      <td>Dog</td>\n",
              "      <td>Neutered Male</td>\n",
              "      <td>4 years</td>\n",
              "      <td>Doberman Pinsch/Australian Cattle Dog</td>\n",
              "      <td>Tan/Gray</td>\n",
              "      <td>Rio</td>\n",
              "      <td>07/02/2014 02:16:00 PM</td>\n",
              "      <td>06/29/2010</td>\n",
              "      <td>Return to Owner</td>\n",
              "      <td>NaN</td>\n",
              "      <td>Neutered Male</td>\n",
              "      <td>4 years</td>\n",
              "    </tr>\n",
              "    <tr>\n",
              "      <th>4</th>\n",
              "      <td>A743852</td>\n",
              "      <td>Odin</td>\n",
              "      <td>02/18/2017 12:46:00 PM</td>\n",
              "      <td>Owner Surrender</td>\n",
              "      <td>Normal</td>\n",
              "      <td>Dog</td>\n",
              "      <td>Neutered Male</td>\n",
              "      <td>2 years</td>\n",
              "      <td>Labrador Retriever Mix</td>\n",
              "      <td>Chocolate</td>\n",
              "      <td>Odin</td>\n",
              "      <td>02/21/2017 05:44:00 PM</td>\n",
              "      <td>02/18/2015</td>\n",
              "      <td>Return to Owner</td>\n",
              "      <td>NaN</td>\n",
              "      <td>Neutered Male</td>\n",
              "      <td>2 years</td>\n",
              "    </tr>\n",
              "  </tbody>\n",
              "</table>\n",
              "</div>"
            ],
            "text/plain": [
              "  Animal ID Name Intake  ... Sex Upon Outcome Age Upon Outcome\n",
              "0   A706918       Belle  ...    Spayed Female          8 years\n",
              "1   A724273     Runster  ...    Neutered Male           1 year\n",
              "2   A665644         NaN  ...    Intact Female          4 weeks\n",
              "3   A682524         Rio  ...    Neutered Male          4 years\n",
              "4   A743852        Odin  ...    Neutered Male          2 years\n",
              "\n",
              "[5 rows x 17 columns]"
            ]
          },
          "metadata": {
            "tags": []
          },
          "execution_count": 41
        }
      ]
    },
    {
      "cell_type": "code",
      "metadata": {
        "colab": {
          "base_uri": "https://localhost:8080/",
          "height": 204
        },
        "id": "fBvCwLH-U9V-",
        "outputId": "05cca92d-1bf0-4364-d4ac-c973b86d7a58"
      },
      "source": [
        "animal_timeline = animal_shelter.drop(['Animal ID', 'Name Intake', 'Intake Type', 'Intake Condition', \t\n",
        "                                      'Sex Upon Intake', 'Age Upon Intake', 'Name Outcome',\t\n",
        "                                      'Date of Birth', 'Sex Upon Outcome', 'Age Upon Outcome'], axis=1)\n",
        "animal_timeline.head()"
      ],
      "execution_count": 42,
      "outputs": [
        {
          "output_type": "execute_result",
          "data": {
            "text/html": [
              "<div>\n",
              "<style scoped>\n",
              "    .dataframe tbody tr th:only-of-type {\n",
              "        vertical-align: middle;\n",
              "    }\n",
              "\n",
              "    .dataframe tbody tr th {\n",
              "        vertical-align: top;\n",
              "    }\n",
              "\n",
              "    .dataframe thead th {\n",
              "        text-align: right;\n",
              "    }\n",
              "</style>\n",
              "<table border=\"1\" class=\"dataframe\">\n",
              "  <thead>\n",
              "    <tr style=\"text-align: right;\">\n",
              "      <th></th>\n",
              "      <th>Intake DateTime</th>\n",
              "      <th>Animal Type_x</th>\n",
              "      <th>Breed_x</th>\n",
              "      <th>Color_x</th>\n",
              "      <th>Outcome DateTime</th>\n",
              "      <th>Outcome Type</th>\n",
              "      <th>Outcome Subtype</th>\n",
              "    </tr>\n",
              "  </thead>\n",
              "  <tbody>\n",
              "    <tr>\n",
              "      <th>0</th>\n",
              "      <td>07/05/2015 12:59:00 PM</td>\n",
              "      <td>Dog</td>\n",
              "      <td>English Springer Spaniel</td>\n",
              "      <td>White/Liver</td>\n",
              "      <td>07/05/2015 03:13:00 PM</td>\n",
              "      <td>Return to Owner</td>\n",
              "      <td>NaN</td>\n",
              "    </tr>\n",
              "    <tr>\n",
              "      <th>1</th>\n",
              "      <td>04/14/2016 06:43:00 PM</td>\n",
              "      <td>Dog</td>\n",
              "      <td>Basenji Mix</td>\n",
              "      <td>Sable/White</td>\n",
              "      <td>04/21/2016 05:17:00 PM</td>\n",
              "      <td>Return to Owner</td>\n",
              "      <td>NaN</td>\n",
              "    </tr>\n",
              "    <tr>\n",
              "      <th>2</th>\n",
              "      <td>10/21/2013 07:59:00 AM</td>\n",
              "      <td>Cat</td>\n",
              "      <td>Domestic Shorthair Mix</td>\n",
              "      <td>Calico</td>\n",
              "      <td>10/21/2013 11:39:00 AM</td>\n",
              "      <td>Transfer</td>\n",
              "      <td>Partner</td>\n",
              "    </tr>\n",
              "    <tr>\n",
              "      <th>3</th>\n",
              "      <td>06/29/2014 10:38:00 AM</td>\n",
              "      <td>Dog</td>\n",
              "      <td>Doberman Pinsch/Australian Cattle Dog</td>\n",
              "      <td>Tan/Gray</td>\n",
              "      <td>07/02/2014 02:16:00 PM</td>\n",
              "      <td>Return to Owner</td>\n",
              "      <td>NaN</td>\n",
              "    </tr>\n",
              "    <tr>\n",
              "      <th>4</th>\n",
              "      <td>02/18/2017 12:46:00 PM</td>\n",
              "      <td>Dog</td>\n",
              "      <td>Labrador Retriever Mix</td>\n",
              "      <td>Chocolate</td>\n",
              "      <td>02/21/2017 05:44:00 PM</td>\n",
              "      <td>Return to Owner</td>\n",
              "      <td>NaN</td>\n",
              "    </tr>\n",
              "  </tbody>\n",
              "</table>\n",
              "</div>"
            ],
            "text/plain": [
              "          Intake DateTime Animal Type_x  ...     Outcome Type Outcome Subtype\n",
              "0  07/05/2015 12:59:00 PM           Dog  ...  Return to Owner             NaN\n",
              "1  04/14/2016 06:43:00 PM           Dog  ...  Return to Owner             NaN\n",
              "2  10/21/2013 07:59:00 AM           Cat  ...         Transfer         Partner\n",
              "3  06/29/2014 10:38:00 AM           Dog  ...  Return to Owner             NaN\n",
              "4  02/18/2017 12:46:00 PM           Dog  ...  Return to Owner             NaN\n",
              "\n",
              "[5 rows x 7 columns]"
            ]
          },
          "metadata": {
            "tags": []
          },
          "execution_count": 42
        }
      ]
    },
    {
      "cell_type": "code",
      "metadata": {
        "colab": {
          "base_uri": "https://localhost:8080/",
          "height": 204
        },
        "id": "5Ke42wlpWmKg",
        "outputId": "0be74ab9-f02b-4c0c-d2b3-95b21db2973c"
      },
      "source": [
        "euth_datetime = animal_timeline[(animal_timeline['Outcome Type'] == 'Euthanasia')].reset_index()\n",
        "euth_datetime = euth_datetime.drop('index', axis=1)\n",
        "euth_datetime.head()"
      ],
      "execution_count": 43,
      "outputs": [
        {
          "output_type": "execute_result",
          "data": {
            "text/html": [
              "<div>\n",
              "<style scoped>\n",
              "    .dataframe tbody tr th:only-of-type {\n",
              "        vertical-align: middle;\n",
              "    }\n",
              "\n",
              "    .dataframe tbody tr th {\n",
              "        vertical-align: top;\n",
              "    }\n",
              "\n",
              "    .dataframe thead th {\n",
              "        text-align: right;\n",
              "    }\n",
              "</style>\n",
              "<table border=\"1\" class=\"dataframe\">\n",
              "  <thead>\n",
              "    <tr style=\"text-align: right;\">\n",
              "      <th></th>\n",
              "      <th>Intake DateTime</th>\n",
              "      <th>Animal Type_x</th>\n",
              "      <th>Breed_x</th>\n",
              "      <th>Color_x</th>\n",
              "      <th>Outcome DateTime</th>\n",
              "      <th>Outcome Type</th>\n",
              "      <th>Outcome Subtype</th>\n",
              "    </tr>\n",
              "  </thead>\n",
              "  <tbody>\n",
              "    <tr>\n",
              "      <th>0</th>\n",
              "      <td>02/04/2017 10:10:00 AM</td>\n",
              "      <td>Cat</td>\n",
              "      <td>Domestic Shorthair Mix</td>\n",
              "      <td>Black/White</td>\n",
              "      <td>02/04/2017 10:48:00 AM</td>\n",
              "      <td>Euthanasia</td>\n",
              "      <td>Suffering</td>\n",
              "    </tr>\n",
              "    <tr>\n",
              "      <th>1</th>\n",
              "      <td>03/24/2016 04:39:00 PM</td>\n",
              "      <td>Other</td>\n",
              "      <td>Bat Mix</td>\n",
              "      <td>Brown</td>\n",
              "      <td>03/24/2016 05:17:00 PM</td>\n",
              "      <td>Euthanasia</td>\n",
              "      <td>Rabies Risk</td>\n",
              "    </tr>\n",
              "    <tr>\n",
              "      <th>2</th>\n",
              "      <td>09/02/2019 11:52:00 AM</td>\n",
              "      <td>Dog</td>\n",
              "      <td>Boxer Mix</td>\n",
              "      <td>White</td>\n",
              "      <td>09/02/2019 01:12:00 PM</td>\n",
              "      <td>Euthanasia</td>\n",
              "      <td>Suffering</td>\n",
              "    </tr>\n",
              "    <tr>\n",
              "      <th>3</th>\n",
              "      <td>05/06/2019 09:30:00 PM</td>\n",
              "      <td>Dog</td>\n",
              "      <td>Boxer Mix</td>\n",
              "      <td>White</td>\n",
              "      <td>09/02/2019 01:12:00 PM</td>\n",
              "      <td>Euthanasia</td>\n",
              "      <td>Suffering</td>\n",
              "    </tr>\n",
              "    <tr>\n",
              "      <th>4</th>\n",
              "      <td>07/16/2019 10:35:00 AM</td>\n",
              "      <td>Dog</td>\n",
              "      <td>Boxer Mix</td>\n",
              "      <td>White</td>\n",
              "      <td>09/02/2019 01:12:00 PM</td>\n",
              "      <td>Euthanasia</td>\n",
              "      <td>Suffering</td>\n",
              "    </tr>\n",
              "  </tbody>\n",
              "</table>\n",
              "</div>"
            ],
            "text/plain": [
              "          Intake DateTime Animal Type_x  ... Outcome Type Outcome Subtype\n",
              "0  02/04/2017 10:10:00 AM           Cat  ...   Euthanasia       Suffering\n",
              "1  03/24/2016 04:39:00 PM         Other  ...   Euthanasia     Rabies Risk\n",
              "2  09/02/2019 11:52:00 AM           Dog  ...   Euthanasia       Suffering\n",
              "3  05/06/2019 09:30:00 PM           Dog  ...   Euthanasia       Suffering\n",
              "4  07/16/2019 10:35:00 AM           Dog  ...   Euthanasia       Suffering\n",
              "\n",
              "[5 rows x 7 columns]"
            ]
          },
          "metadata": {
            "tags": []
          },
          "execution_count": 43
        }
      ]
    },
    {
      "cell_type": "code",
      "metadata": {
        "colab": {
          "base_uri": "https://localhost:8080/",
          "height": 204
        },
        "id": "9EYQ63jlUUeS",
        "outputId": "08ec62fb-0ae9-4455-89e3-ae3ea3ca08e2"
      },
      "source": [
        "euth_datetime = euth_datetime.reset_index()\n",
        "euth_datetime.head()"
      ],
      "execution_count": 44,
      "outputs": [
        {
          "output_type": "execute_result",
          "data": {
            "text/html": [
              "<div>\n",
              "<style scoped>\n",
              "    .dataframe tbody tr th:only-of-type {\n",
              "        vertical-align: middle;\n",
              "    }\n",
              "\n",
              "    .dataframe tbody tr th {\n",
              "        vertical-align: top;\n",
              "    }\n",
              "\n",
              "    .dataframe thead th {\n",
              "        text-align: right;\n",
              "    }\n",
              "</style>\n",
              "<table border=\"1\" class=\"dataframe\">\n",
              "  <thead>\n",
              "    <tr style=\"text-align: right;\">\n",
              "      <th></th>\n",
              "      <th>index</th>\n",
              "      <th>Intake DateTime</th>\n",
              "      <th>Animal Type_x</th>\n",
              "      <th>Breed_x</th>\n",
              "      <th>Color_x</th>\n",
              "      <th>Outcome DateTime</th>\n",
              "      <th>Outcome Type</th>\n",
              "      <th>Outcome Subtype</th>\n",
              "    </tr>\n",
              "  </thead>\n",
              "  <tbody>\n",
              "    <tr>\n",
              "      <th>0</th>\n",
              "      <td>0</td>\n",
              "      <td>02/04/2017 10:10:00 AM</td>\n",
              "      <td>Cat</td>\n",
              "      <td>Domestic Shorthair Mix</td>\n",
              "      <td>Black/White</td>\n",
              "      <td>02/04/2017 10:48:00 AM</td>\n",
              "      <td>Euthanasia</td>\n",
              "      <td>Suffering</td>\n",
              "    </tr>\n",
              "    <tr>\n",
              "      <th>1</th>\n",
              "      <td>1</td>\n",
              "      <td>03/24/2016 04:39:00 PM</td>\n",
              "      <td>Other</td>\n",
              "      <td>Bat Mix</td>\n",
              "      <td>Brown</td>\n",
              "      <td>03/24/2016 05:17:00 PM</td>\n",
              "      <td>Euthanasia</td>\n",
              "      <td>Rabies Risk</td>\n",
              "    </tr>\n",
              "    <tr>\n",
              "      <th>2</th>\n",
              "      <td>2</td>\n",
              "      <td>09/02/2019 11:52:00 AM</td>\n",
              "      <td>Dog</td>\n",
              "      <td>Boxer Mix</td>\n",
              "      <td>White</td>\n",
              "      <td>09/02/2019 01:12:00 PM</td>\n",
              "      <td>Euthanasia</td>\n",
              "      <td>Suffering</td>\n",
              "    </tr>\n",
              "    <tr>\n",
              "      <th>3</th>\n",
              "      <td>3</td>\n",
              "      <td>05/06/2019 09:30:00 PM</td>\n",
              "      <td>Dog</td>\n",
              "      <td>Boxer Mix</td>\n",
              "      <td>White</td>\n",
              "      <td>09/02/2019 01:12:00 PM</td>\n",
              "      <td>Euthanasia</td>\n",
              "      <td>Suffering</td>\n",
              "    </tr>\n",
              "    <tr>\n",
              "      <th>4</th>\n",
              "      <td>4</td>\n",
              "      <td>07/16/2019 10:35:00 AM</td>\n",
              "      <td>Dog</td>\n",
              "      <td>Boxer Mix</td>\n",
              "      <td>White</td>\n",
              "      <td>09/02/2019 01:12:00 PM</td>\n",
              "      <td>Euthanasia</td>\n",
              "      <td>Suffering</td>\n",
              "    </tr>\n",
              "  </tbody>\n",
              "</table>\n",
              "</div>"
            ],
            "text/plain": [
              "   index         Intake DateTime  ... Outcome Type Outcome Subtype\n",
              "0      0  02/04/2017 10:10:00 AM  ...   Euthanasia       Suffering\n",
              "1      1  03/24/2016 04:39:00 PM  ...   Euthanasia     Rabies Risk\n",
              "2      2  09/02/2019 11:52:00 AM  ...   Euthanasia       Suffering\n",
              "3      3  05/06/2019 09:30:00 PM  ...   Euthanasia       Suffering\n",
              "4      4  07/16/2019 10:35:00 AM  ...   Euthanasia       Suffering\n",
              "\n",
              "[5 rows x 8 columns]"
            ]
          },
          "metadata": {
            "tags": []
          },
          "execution_count": 44
        }
      ]
    },
    {
      "cell_type": "code",
      "metadata": {
        "id": "OrOfnxYagD_U"
      },
      "source": [
        "euth_datetime['Intake DateTime'] = pd.to_datetime(euth_datetime['Intake DateTime'])\n",
        "euth_datetime['Outcome DateTime'] =  pd.to_datetime(euth_datetime['Outcome DateTime'])"
      ],
      "execution_count": 45,
      "outputs": []
    },
    {
      "cell_type": "code",
      "metadata": {
        "colab": {
          "base_uri": "https://localhost:8080/",
          "height": 204
        },
        "id": "FinrTaHgjU1S",
        "outputId": "c055e5c1-b324-4db9-e701-27a20fc22bef"
      },
      "source": [
        "euth_in_date = euth_datetime['Intake DateTime'].dt.date.reset_index()\n",
        "euth_in_time = euth_datetime['Intake DateTime'].dt.time.reset_index()\n",
        "euth_out_date = euth_datetime['Outcome DateTime'].dt.date.reset_index()\n",
        "euth_out_time = euth_datetime['Outcome DateTime'].dt.time.reset_index()\n",
        "\n",
        "euth_in_date.head()"
      ],
      "execution_count": 46,
      "outputs": [
        {
          "output_type": "execute_result",
          "data": {
            "text/html": [
              "<div>\n",
              "<style scoped>\n",
              "    .dataframe tbody tr th:only-of-type {\n",
              "        vertical-align: middle;\n",
              "    }\n",
              "\n",
              "    .dataframe tbody tr th {\n",
              "        vertical-align: top;\n",
              "    }\n",
              "\n",
              "    .dataframe thead th {\n",
              "        text-align: right;\n",
              "    }\n",
              "</style>\n",
              "<table border=\"1\" class=\"dataframe\">\n",
              "  <thead>\n",
              "    <tr style=\"text-align: right;\">\n",
              "      <th></th>\n",
              "      <th>index</th>\n",
              "      <th>Intake DateTime</th>\n",
              "    </tr>\n",
              "  </thead>\n",
              "  <tbody>\n",
              "    <tr>\n",
              "      <th>0</th>\n",
              "      <td>0</td>\n",
              "      <td>2017-02-04</td>\n",
              "    </tr>\n",
              "    <tr>\n",
              "      <th>1</th>\n",
              "      <td>1</td>\n",
              "      <td>2016-03-24</td>\n",
              "    </tr>\n",
              "    <tr>\n",
              "      <th>2</th>\n",
              "      <td>2</td>\n",
              "      <td>2019-09-02</td>\n",
              "    </tr>\n",
              "    <tr>\n",
              "      <th>3</th>\n",
              "      <td>3</td>\n",
              "      <td>2019-05-06</td>\n",
              "    </tr>\n",
              "    <tr>\n",
              "      <th>4</th>\n",
              "      <td>4</td>\n",
              "      <td>2019-07-16</td>\n",
              "    </tr>\n",
              "  </tbody>\n",
              "</table>\n",
              "</div>"
            ],
            "text/plain": [
              "   index Intake DateTime\n",
              "0      0      2017-02-04\n",
              "1      1      2016-03-24\n",
              "2      2      2019-09-02\n",
              "3      3      2019-05-06\n",
              "4      4      2019-07-16"
            ]
          },
          "metadata": {
            "tags": []
          },
          "execution_count": 46
        }
      ]
    },
    {
      "cell_type": "code",
      "metadata": {
        "colab": {
          "base_uri": "https://localhost:8080/",
          "height": 204
        },
        "id": "KVaRIzb6kyUB",
        "outputId": "f3aa7298-d177-4b1f-ed06-43ee994555a7"
      },
      "source": [
        "euth_in_datetime = pd.merge(euth_in_date, euth_in_time, on='index')\n",
        "euth_in_datetime.head()"
      ],
      "execution_count": 47,
      "outputs": [
        {
          "output_type": "execute_result",
          "data": {
            "text/html": [
              "<div>\n",
              "<style scoped>\n",
              "    .dataframe tbody tr th:only-of-type {\n",
              "        vertical-align: middle;\n",
              "    }\n",
              "\n",
              "    .dataframe tbody tr th {\n",
              "        vertical-align: top;\n",
              "    }\n",
              "\n",
              "    .dataframe thead th {\n",
              "        text-align: right;\n",
              "    }\n",
              "</style>\n",
              "<table border=\"1\" class=\"dataframe\">\n",
              "  <thead>\n",
              "    <tr style=\"text-align: right;\">\n",
              "      <th></th>\n",
              "      <th>index</th>\n",
              "      <th>Intake DateTime_x</th>\n",
              "      <th>Intake DateTime_y</th>\n",
              "    </tr>\n",
              "  </thead>\n",
              "  <tbody>\n",
              "    <tr>\n",
              "      <th>0</th>\n",
              "      <td>0</td>\n",
              "      <td>2017-02-04</td>\n",
              "      <td>10:10:00</td>\n",
              "    </tr>\n",
              "    <tr>\n",
              "      <th>1</th>\n",
              "      <td>1</td>\n",
              "      <td>2016-03-24</td>\n",
              "      <td>16:39:00</td>\n",
              "    </tr>\n",
              "    <tr>\n",
              "      <th>2</th>\n",
              "      <td>2</td>\n",
              "      <td>2019-09-02</td>\n",
              "      <td>11:52:00</td>\n",
              "    </tr>\n",
              "    <tr>\n",
              "      <th>3</th>\n",
              "      <td>3</td>\n",
              "      <td>2019-05-06</td>\n",
              "      <td>21:30:00</td>\n",
              "    </tr>\n",
              "    <tr>\n",
              "      <th>4</th>\n",
              "      <td>4</td>\n",
              "      <td>2019-07-16</td>\n",
              "      <td>10:35:00</td>\n",
              "    </tr>\n",
              "  </tbody>\n",
              "</table>\n",
              "</div>"
            ],
            "text/plain": [
              "   index Intake DateTime_x Intake DateTime_y\n",
              "0      0        2017-02-04          10:10:00\n",
              "1      1        2016-03-24          16:39:00\n",
              "2      2        2019-09-02          11:52:00\n",
              "3      3        2019-05-06          21:30:00\n",
              "4      4        2019-07-16          10:35:00"
            ]
          },
          "metadata": {
            "tags": []
          },
          "execution_count": 47
        }
      ]
    },
    {
      "cell_type": "code",
      "metadata": {
        "colab": {
          "base_uri": "https://localhost:8080/",
          "height": 204
        },
        "id": "ymkAOfm3lcKd",
        "outputId": "2227b6bb-f85d-4670-a6b3-1fdda6b12107"
      },
      "source": [
        "euth_out_datetime = pd.merge(euth_out_date, euth_out_time, on='index')\n",
        "euth_out_datetime.head()"
      ],
      "execution_count": 48,
      "outputs": [
        {
          "output_type": "execute_result",
          "data": {
            "text/html": [
              "<div>\n",
              "<style scoped>\n",
              "    .dataframe tbody tr th:only-of-type {\n",
              "        vertical-align: middle;\n",
              "    }\n",
              "\n",
              "    .dataframe tbody tr th {\n",
              "        vertical-align: top;\n",
              "    }\n",
              "\n",
              "    .dataframe thead th {\n",
              "        text-align: right;\n",
              "    }\n",
              "</style>\n",
              "<table border=\"1\" class=\"dataframe\">\n",
              "  <thead>\n",
              "    <tr style=\"text-align: right;\">\n",
              "      <th></th>\n",
              "      <th>index</th>\n",
              "      <th>Outcome DateTime_x</th>\n",
              "      <th>Outcome DateTime_y</th>\n",
              "    </tr>\n",
              "  </thead>\n",
              "  <tbody>\n",
              "    <tr>\n",
              "      <th>0</th>\n",
              "      <td>0</td>\n",
              "      <td>2017-02-04</td>\n",
              "      <td>10:48:00</td>\n",
              "    </tr>\n",
              "    <tr>\n",
              "      <th>1</th>\n",
              "      <td>1</td>\n",
              "      <td>2016-03-24</td>\n",
              "      <td>17:17:00</td>\n",
              "    </tr>\n",
              "    <tr>\n",
              "      <th>2</th>\n",
              "      <td>2</td>\n",
              "      <td>2019-09-02</td>\n",
              "      <td>13:12:00</td>\n",
              "    </tr>\n",
              "    <tr>\n",
              "      <th>3</th>\n",
              "      <td>3</td>\n",
              "      <td>2019-09-02</td>\n",
              "      <td>13:12:00</td>\n",
              "    </tr>\n",
              "    <tr>\n",
              "      <th>4</th>\n",
              "      <td>4</td>\n",
              "      <td>2019-09-02</td>\n",
              "      <td>13:12:00</td>\n",
              "    </tr>\n",
              "  </tbody>\n",
              "</table>\n",
              "</div>"
            ],
            "text/plain": [
              "   index Outcome DateTime_x Outcome DateTime_y\n",
              "0      0         2017-02-04           10:48:00\n",
              "1      1         2016-03-24           17:17:00\n",
              "2      2         2019-09-02           13:12:00\n",
              "3      3         2019-09-02           13:12:00\n",
              "4      4         2019-09-02           13:12:00"
            ]
          },
          "metadata": {
            "tags": []
          },
          "execution_count": 48
        }
      ]
    },
    {
      "cell_type": "code",
      "metadata": {
        "colab": {
          "base_uri": "https://localhost:8080/",
          "height": 204
        },
        "id": "faEkfRrmlsm0",
        "outputId": "5d7a42d0-bbad-4599-cdd0-a1dce1786715"
      },
      "source": [
        "euth_time = pd.merge(euth_in_datetime, euth_out_datetime, on='index')\n",
        "euth_time.head()"
      ],
      "execution_count": 49,
      "outputs": [
        {
          "output_type": "execute_result",
          "data": {
            "text/html": [
              "<div>\n",
              "<style scoped>\n",
              "    .dataframe tbody tr th:only-of-type {\n",
              "        vertical-align: middle;\n",
              "    }\n",
              "\n",
              "    .dataframe tbody tr th {\n",
              "        vertical-align: top;\n",
              "    }\n",
              "\n",
              "    .dataframe thead th {\n",
              "        text-align: right;\n",
              "    }\n",
              "</style>\n",
              "<table border=\"1\" class=\"dataframe\">\n",
              "  <thead>\n",
              "    <tr style=\"text-align: right;\">\n",
              "      <th></th>\n",
              "      <th>index</th>\n",
              "      <th>Intake DateTime_x</th>\n",
              "      <th>Intake DateTime_y</th>\n",
              "      <th>Outcome DateTime_x</th>\n",
              "      <th>Outcome DateTime_y</th>\n",
              "    </tr>\n",
              "  </thead>\n",
              "  <tbody>\n",
              "    <tr>\n",
              "      <th>0</th>\n",
              "      <td>0</td>\n",
              "      <td>2017-02-04</td>\n",
              "      <td>10:10:00</td>\n",
              "      <td>2017-02-04</td>\n",
              "      <td>10:48:00</td>\n",
              "    </tr>\n",
              "    <tr>\n",
              "      <th>1</th>\n",
              "      <td>1</td>\n",
              "      <td>2016-03-24</td>\n",
              "      <td>16:39:00</td>\n",
              "      <td>2016-03-24</td>\n",
              "      <td>17:17:00</td>\n",
              "    </tr>\n",
              "    <tr>\n",
              "      <th>2</th>\n",
              "      <td>2</td>\n",
              "      <td>2019-09-02</td>\n",
              "      <td>11:52:00</td>\n",
              "      <td>2019-09-02</td>\n",
              "      <td>13:12:00</td>\n",
              "    </tr>\n",
              "    <tr>\n",
              "      <th>3</th>\n",
              "      <td>3</td>\n",
              "      <td>2019-05-06</td>\n",
              "      <td>21:30:00</td>\n",
              "      <td>2019-09-02</td>\n",
              "      <td>13:12:00</td>\n",
              "    </tr>\n",
              "    <tr>\n",
              "      <th>4</th>\n",
              "      <td>4</td>\n",
              "      <td>2019-07-16</td>\n",
              "      <td>10:35:00</td>\n",
              "      <td>2019-09-02</td>\n",
              "      <td>13:12:00</td>\n",
              "    </tr>\n",
              "  </tbody>\n",
              "</table>\n",
              "</div>"
            ],
            "text/plain": [
              "   index Intake DateTime_x  ... Outcome DateTime_x Outcome DateTime_y\n",
              "0      0        2017-02-04  ...         2017-02-04           10:48:00\n",
              "1      1        2016-03-24  ...         2016-03-24           17:17:00\n",
              "2      2        2019-09-02  ...         2019-09-02           13:12:00\n",
              "3      3        2019-05-06  ...         2019-09-02           13:12:00\n",
              "4      4        2019-07-16  ...         2019-09-02           13:12:00\n",
              "\n",
              "[5 rows x 5 columns]"
            ]
          },
          "metadata": {
            "tags": []
          },
          "execution_count": 49
        }
      ]
    },
    {
      "cell_type": "code",
      "metadata": {
        "colab": {
          "base_uri": "https://localhost:8080/",
          "height": 204
        },
        "id": "yv07Hfiiatmk",
        "outputId": "530a0eef-9c3d-4086-b4ff-811756df124d"
      },
      "source": [
        "euth_time.columns = ['index','Intake Date','Intake Time', 'Outcome Date','Outcome Time']\n",
        "euth_time.head()"
      ],
      "execution_count": 50,
      "outputs": [
        {
          "output_type": "execute_result",
          "data": {
            "text/html": [
              "<div>\n",
              "<style scoped>\n",
              "    .dataframe tbody tr th:only-of-type {\n",
              "        vertical-align: middle;\n",
              "    }\n",
              "\n",
              "    .dataframe tbody tr th {\n",
              "        vertical-align: top;\n",
              "    }\n",
              "\n",
              "    .dataframe thead th {\n",
              "        text-align: right;\n",
              "    }\n",
              "</style>\n",
              "<table border=\"1\" class=\"dataframe\">\n",
              "  <thead>\n",
              "    <tr style=\"text-align: right;\">\n",
              "      <th></th>\n",
              "      <th>index</th>\n",
              "      <th>Intake Date</th>\n",
              "      <th>Intake Time</th>\n",
              "      <th>Outcome Date</th>\n",
              "      <th>Outcome Time</th>\n",
              "    </tr>\n",
              "  </thead>\n",
              "  <tbody>\n",
              "    <tr>\n",
              "      <th>0</th>\n",
              "      <td>0</td>\n",
              "      <td>2017-02-04</td>\n",
              "      <td>10:10:00</td>\n",
              "      <td>2017-02-04</td>\n",
              "      <td>10:48:00</td>\n",
              "    </tr>\n",
              "    <tr>\n",
              "      <th>1</th>\n",
              "      <td>1</td>\n",
              "      <td>2016-03-24</td>\n",
              "      <td>16:39:00</td>\n",
              "      <td>2016-03-24</td>\n",
              "      <td>17:17:00</td>\n",
              "    </tr>\n",
              "    <tr>\n",
              "      <th>2</th>\n",
              "      <td>2</td>\n",
              "      <td>2019-09-02</td>\n",
              "      <td>11:52:00</td>\n",
              "      <td>2019-09-02</td>\n",
              "      <td>13:12:00</td>\n",
              "    </tr>\n",
              "    <tr>\n",
              "      <th>3</th>\n",
              "      <td>3</td>\n",
              "      <td>2019-05-06</td>\n",
              "      <td>21:30:00</td>\n",
              "      <td>2019-09-02</td>\n",
              "      <td>13:12:00</td>\n",
              "    </tr>\n",
              "    <tr>\n",
              "      <th>4</th>\n",
              "      <td>4</td>\n",
              "      <td>2019-07-16</td>\n",
              "      <td>10:35:00</td>\n",
              "      <td>2019-09-02</td>\n",
              "      <td>13:12:00</td>\n",
              "    </tr>\n",
              "  </tbody>\n",
              "</table>\n",
              "</div>"
            ],
            "text/plain": [
              "   index Intake Date Intake Time Outcome Date Outcome Time\n",
              "0      0  2017-02-04    10:10:00   2017-02-04     10:48:00\n",
              "1      1  2016-03-24    16:39:00   2016-03-24     17:17:00\n",
              "2      2  2019-09-02    11:52:00   2019-09-02     13:12:00\n",
              "3      3  2019-05-06    21:30:00   2019-09-02     13:12:00\n",
              "4      4  2019-07-16    10:35:00   2019-09-02     13:12:00"
            ]
          },
          "metadata": {
            "tags": []
          },
          "execution_count": 50
        }
      ]
    },
    {
      "cell_type": "code",
      "metadata": {
        "colab": {
          "base_uri": "https://localhost:8080/",
          "height": 306
        },
        "id": "KQStATqZdywu",
        "outputId": "83fe6372-eeb7-46bc-c8d5-6e35253ccee5"
      },
      "source": [
        "euth_timeline = pd.merge(euth_datetime, euth_time, on='index')\n",
        "euth_timeline = euth_timeline.drop('index', axis=1)\n",
        "euth_timeline.head()"
      ],
      "execution_count": 51,
      "outputs": [
        {
          "output_type": "execute_result",
          "data": {
            "text/html": [
              "<div>\n",
              "<style scoped>\n",
              "    .dataframe tbody tr th:only-of-type {\n",
              "        vertical-align: middle;\n",
              "    }\n",
              "\n",
              "    .dataframe tbody tr th {\n",
              "        vertical-align: top;\n",
              "    }\n",
              "\n",
              "    .dataframe thead th {\n",
              "        text-align: right;\n",
              "    }\n",
              "</style>\n",
              "<table border=\"1\" class=\"dataframe\">\n",
              "  <thead>\n",
              "    <tr style=\"text-align: right;\">\n",
              "      <th></th>\n",
              "      <th>Intake DateTime</th>\n",
              "      <th>Animal Type_x</th>\n",
              "      <th>Breed_x</th>\n",
              "      <th>Color_x</th>\n",
              "      <th>Outcome DateTime</th>\n",
              "      <th>Outcome Type</th>\n",
              "      <th>Outcome Subtype</th>\n",
              "      <th>Intake Date</th>\n",
              "      <th>Intake Time</th>\n",
              "      <th>Outcome Date</th>\n",
              "      <th>Outcome Time</th>\n",
              "    </tr>\n",
              "  </thead>\n",
              "  <tbody>\n",
              "    <tr>\n",
              "      <th>0</th>\n",
              "      <td>2017-02-04 10:10:00</td>\n",
              "      <td>Cat</td>\n",
              "      <td>Domestic Shorthair Mix</td>\n",
              "      <td>Black/White</td>\n",
              "      <td>2017-02-04 10:48:00</td>\n",
              "      <td>Euthanasia</td>\n",
              "      <td>Suffering</td>\n",
              "      <td>2017-02-04</td>\n",
              "      <td>10:10:00</td>\n",
              "      <td>2017-02-04</td>\n",
              "      <td>10:48:00</td>\n",
              "    </tr>\n",
              "    <tr>\n",
              "      <th>1</th>\n",
              "      <td>2016-03-24 16:39:00</td>\n",
              "      <td>Other</td>\n",
              "      <td>Bat Mix</td>\n",
              "      <td>Brown</td>\n",
              "      <td>2016-03-24 17:17:00</td>\n",
              "      <td>Euthanasia</td>\n",
              "      <td>Rabies Risk</td>\n",
              "      <td>2016-03-24</td>\n",
              "      <td>16:39:00</td>\n",
              "      <td>2016-03-24</td>\n",
              "      <td>17:17:00</td>\n",
              "    </tr>\n",
              "    <tr>\n",
              "      <th>2</th>\n",
              "      <td>2019-09-02 11:52:00</td>\n",
              "      <td>Dog</td>\n",
              "      <td>Boxer Mix</td>\n",
              "      <td>White</td>\n",
              "      <td>2019-09-02 13:12:00</td>\n",
              "      <td>Euthanasia</td>\n",
              "      <td>Suffering</td>\n",
              "      <td>2019-09-02</td>\n",
              "      <td>11:52:00</td>\n",
              "      <td>2019-09-02</td>\n",
              "      <td>13:12:00</td>\n",
              "    </tr>\n",
              "    <tr>\n",
              "      <th>3</th>\n",
              "      <td>2019-05-06 21:30:00</td>\n",
              "      <td>Dog</td>\n",
              "      <td>Boxer Mix</td>\n",
              "      <td>White</td>\n",
              "      <td>2019-09-02 13:12:00</td>\n",
              "      <td>Euthanasia</td>\n",
              "      <td>Suffering</td>\n",
              "      <td>2019-05-06</td>\n",
              "      <td>21:30:00</td>\n",
              "      <td>2019-09-02</td>\n",
              "      <td>13:12:00</td>\n",
              "    </tr>\n",
              "    <tr>\n",
              "      <th>4</th>\n",
              "      <td>2019-07-16 10:35:00</td>\n",
              "      <td>Dog</td>\n",
              "      <td>Boxer Mix</td>\n",
              "      <td>White</td>\n",
              "      <td>2019-09-02 13:12:00</td>\n",
              "      <td>Euthanasia</td>\n",
              "      <td>Suffering</td>\n",
              "      <td>2019-07-16</td>\n",
              "      <td>10:35:00</td>\n",
              "      <td>2019-09-02</td>\n",
              "      <td>13:12:00</td>\n",
              "    </tr>\n",
              "  </tbody>\n",
              "</table>\n",
              "</div>"
            ],
            "text/plain": [
              "      Intake DateTime Animal Type_x  ... Outcome Date Outcome Time\n",
              "0 2017-02-04 10:10:00           Cat  ...   2017-02-04     10:48:00\n",
              "1 2016-03-24 16:39:00         Other  ...   2016-03-24     17:17:00\n",
              "2 2019-09-02 11:52:00           Dog  ...   2019-09-02     13:12:00\n",
              "3 2019-05-06 21:30:00           Dog  ...   2019-09-02     13:12:00\n",
              "4 2019-07-16 10:35:00           Dog  ...   2019-09-02     13:12:00\n",
              "\n",
              "[5 rows x 11 columns]"
            ]
          },
          "metadata": {
            "tags": []
          },
          "execution_count": 51
        }
      ]
    },
    {
      "cell_type": "code",
      "metadata": {
        "colab": {
          "base_uri": "https://localhost:8080/",
          "height": 210
        },
        "id": "xTUBQ9I5YusS",
        "outputId": "090d2f09-d39f-4b2f-9e93-20a8ddc38e08"
      },
      "source": [
        "euth_timeline['Days to Euth'] = (euth_timeline['Outcome Date'] - euth_timeline['Intake Date']).dt.days\n",
        "euth_timeline.head(3)"
      ],
      "execution_count": 52,
      "outputs": [
        {
          "output_type": "execute_result",
          "data": {
            "text/html": [
              "<div>\n",
              "<style scoped>\n",
              "    .dataframe tbody tr th:only-of-type {\n",
              "        vertical-align: middle;\n",
              "    }\n",
              "\n",
              "    .dataframe tbody tr th {\n",
              "        vertical-align: top;\n",
              "    }\n",
              "\n",
              "    .dataframe thead th {\n",
              "        text-align: right;\n",
              "    }\n",
              "</style>\n",
              "<table border=\"1\" class=\"dataframe\">\n",
              "  <thead>\n",
              "    <tr style=\"text-align: right;\">\n",
              "      <th></th>\n",
              "      <th>Intake DateTime</th>\n",
              "      <th>Animal Type_x</th>\n",
              "      <th>Breed_x</th>\n",
              "      <th>Color_x</th>\n",
              "      <th>Outcome DateTime</th>\n",
              "      <th>Outcome Type</th>\n",
              "      <th>Outcome Subtype</th>\n",
              "      <th>Intake Date</th>\n",
              "      <th>Intake Time</th>\n",
              "      <th>Outcome Date</th>\n",
              "      <th>Outcome Time</th>\n",
              "      <th>Days to Euth</th>\n",
              "    </tr>\n",
              "  </thead>\n",
              "  <tbody>\n",
              "    <tr>\n",
              "      <th>0</th>\n",
              "      <td>2017-02-04 10:10:00</td>\n",
              "      <td>Cat</td>\n",
              "      <td>Domestic Shorthair Mix</td>\n",
              "      <td>Black/White</td>\n",
              "      <td>2017-02-04 10:48:00</td>\n",
              "      <td>Euthanasia</td>\n",
              "      <td>Suffering</td>\n",
              "      <td>2017-02-04</td>\n",
              "      <td>10:10:00</td>\n",
              "      <td>2017-02-04</td>\n",
              "      <td>10:48:00</td>\n",
              "      <td>0</td>\n",
              "    </tr>\n",
              "    <tr>\n",
              "      <th>1</th>\n",
              "      <td>2016-03-24 16:39:00</td>\n",
              "      <td>Other</td>\n",
              "      <td>Bat Mix</td>\n",
              "      <td>Brown</td>\n",
              "      <td>2016-03-24 17:17:00</td>\n",
              "      <td>Euthanasia</td>\n",
              "      <td>Rabies Risk</td>\n",
              "      <td>2016-03-24</td>\n",
              "      <td>16:39:00</td>\n",
              "      <td>2016-03-24</td>\n",
              "      <td>17:17:00</td>\n",
              "      <td>0</td>\n",
              "    </tr>\n",
              "    <tr>\n",
              "      <th>2</th>\n",
              "      <td>2019-09-02 11:52:00</td>\n",
              "      <td>Dog</td>\n",
              "      <td>Boxer Mix</td>\n",
              "      <td>White</td>\n",
              "      <td>2019-09-02 13:12:00</td>\n",
              "      <td>Euthanasia</td>\n",
              "      <td>Suffering</td>\n",
              "      <td>2019-09-02</td>\n",
              "      <td>11:52:00</td>\n",
              "      <td>2019-09-02</td>\n",
              "      <td>13:12:00</td>\n",
              "      <td>0</td>\n",
              "    </tr>\n",
              "  </tbody>\n",
              "</table>\n",
              "</div>"
            ],
            "text/plain": [
              "      Intake DateTime Animal Type_x  ... Outcome Time Days to Euth\n",
              "0 2017-02-04 10:10:00           Cat  ...     10:48:00            0\n",
              "1 2016-03-24 16:39:00         Other  ...     17:17:00            0\n",
              "2 2019-09-02 11:52:00           Dog  ...     13:12:00            0\n",
              "\n",
              "[3 rows x 12 columns]"
            ]
          },
          "metadata": {
            "tags": []
          },
          "execution_count": 52
        }
      ]
    },
    {
      "cell_type": "markdown",
      "metadata": {
        "id": "3T23aEhCjJdX"
      },
      "source": [
        "##Euthanization Graph Based on Intake to Outcome Days for Dogs"
      ]
    },
    {
      "cell_type": "code",
      "metadata": {
        "colab": {
          "base_uri": "https://localhost:8080/",
          "height": 306
        },
        "id": "lLHxxfVQ8508",
        "outputId": "07ff7efd-33d8-43ef-d9d6-de8503f57c25"
      },
      "source": [
        "euth_dogs = euth_timeline[(euth_timeline['Animal Type_x'] == 'Dog')].reset_index()\n",
        "euth_dogs = euth_dogs.drop('index', axis=1)\n",
        "euth_dogs.head()"
      ],
      "execution_count": 53,
      "outputs": [
        {
          "output_type": "execute_result",
          "data": {
            "text/html": [
              "<div>\n",
              "<style scoped>\n",
              "    .dataframe tbody tr th:only-of-type {\n",
              "        vertical-align: middle;\n",
              "    }\n",
              "\n",
              "    .dataframe tbody tr th {\n",
              "        vertical-align: top;\n",
              "    }\n",
              "\n",
              "    .dataframe thead th {\n",
              "        text-align: right;\n",
              "    }\n",
              "</style>\n",
              "<table border=\"1\" class=\"dataframe\">\n",
              "  <thead>\n",
              "    <tr style=\"text-align: right;\">\n",
              "      <th></th>\n",
              "      <th>Intake DateTime</th>\n",
              "      <th>Animal Type_x</th>\n",
              "      <th>Breed_x</th>\n",
              "      <th>Color_x</th>\n",
              "      <th>Outcome DateTime</th>\n",
              "      <th>Outcome Type</th>\n",
              "      <th>Outcome Subtype</th>\n",
              "      <th>Intake Date</th>\n",
              "      <th>Intake Time</th>\n",
              "      <th>Outcome Date</th>\n",
              "      <th>Outcome Time</th>\n",
              "      <th>Days to Euth</th>\n",
              "    </tr>\n",
              "  </thead>\n",
              "  <tbody>\n",
              "    <tr>\n",
              "      <th>0</th>\n",
              "      <td>2019-09-02 11:52:00</td>\n",
              "      <td>Dog</td>\n",
              "      <td>Boxer Mix</td>\n",
              "      <td>White</td>\n",
              "      <td>2019-09-02 13:12:00</td>\n",
              "      <td>Euthanasia</td>\n",
              "      <td>Suffering</td>\n",
              "      <td>2019-09-02</td>\n",
              "      <td>11:52:00</td>\n",
              "      <td>2019-09-02</td>\n",
              "      <td>13:12:00</td>\n",
              "      <td>0</td>\n",
              "    </tr>\n",
              "    <tr>\n",
              "      <th>1</th>\n",
              "      <td>2019-05-06 21:30:00</td>\n",
              "      <td>Dog</td>\n",
              "      <td>Boxer Mix</td>\n",
              "      <td>White</td>\n",
              "      <td>2019-09-02 13:12:00</td>\n",
              "      <td>Euthanasia</td>\n",
              "      <td>Suffering</td>\n",
              "      <td>2019-05-06</td>\n",
              "      <td>21:30:00</td>\n",
              "      <td>2019-09-02</td>\n",
              "      <td>13:12:00</td>\n",
              "      <td>119</td>\n",
              "    </tr>\n",
              "    <tr>\n",
              "      <th>2</th>\n",
              "      <td>2019-07-16 10:35:00</td>\n",
              "      <td>Dog</td>\n",
              "      <td>Boxer Mix</td>\n",
              "      <td>White</td>\n",
              "      <td>2019-09-02 13:12:00</td>\n",
              "      <td>Euthanasia</td>\n",
              "      <td>Suffering</td>\n",
              "      <td>2019-07-16</td>\n",
              "      <td>10:35:00</td>\n",
              "      <td>2019-09-02</td>\n",
              "      <td>13:12:00</td>\n",
              "      <td>48</td>\n",
              "    </tr>\n",
              "    <tr>\n",
              "      <th>3</th>\n",
              "      <td>2016-06-07 17:51:00</td>\n",
              "      <td>Dog</td>\n",
              "      <td>Wire Hair Fox Terrier Mix</td>\n",
              "      <td>White/Brown</td>\n",
              "      <td>2016-06-07 18:00:00</td>\n",
              "      <td>Euthanasia</td>\n",
              "      <td>Suffering</td>\n",
              "      <td>2016-06-07</td>\n",
              "      <td>17:51:00</td>\n",
              "      <td>2016-06-07</td>\n",
              "      <td>18:00:00</td>\n",
              "      <td>0</td>\n",
              "    </tr>\n",
              "    <tr>\n",
              "      <th>4</th>\n",
              "      <td>2015-01-23 12:13:00</td>\n",
              "      <td>Dog</td>\n",
              "      <td>Pit Bull Mix</td>\n",
              "      <td>White/Brown Brindle</td>\n",
              "      <td>2015-01-24 08:46:00</td>\n",
              "      <td>Euthanasia</td>\n",
              "      <td>Aggressive</td>\n",
              "      <td>2015-01-23</td>\n",
              "      <td>12:13:00</td>\n",
              "      <td>2015-01-24</td>\n",
              "      <td>08:46:00</td>\n",
              "      <td>1</td>\n",
              "    </tr>\n",
              "  </tbody>\n",
              "</table>\n",
              "</div>"
            ],
            "text/plain": [
              "      Intake DateTime Animal Type_x  ... Outcome Time Days to Euth\n",
              "0 2019-09-02 11:52:00           Dog  ...     13:12:00            0\n",
              "1 2019-05-06 21:30:00           Dog  ...     13:12:00          119\n",
              "2 2019-07-16 10:35:00           Dog  ...     13:12:00           48\n",
              "3 2016-06-07 17:51:00           Dog  ...     18:00:00            0\n",
              "4 2015-01-23 12:13:00           Dog  ...     08:46:00            1\n",
              "\n",
              "[5 rows x 12 columns]"
            ]
          },
          "metadata": {
            "tags": []
          },
          "execution_count": 53
        }
      ]
    },
    {
      "cell_type": "code",
      "metadata": {
        "colab": {
          "base_uri": "https://localhost:8080/"
        },
        "id": "dLEBaStKGW1R",
        "outputId": "222eae9e-f57a-4463-a556-de7642c7cb5a"
      },
      "source": [
        "euth_dogs['Days to Euth'].value_counts().sort_index()"
      ],
      "execution_count": 54,
      "outputs": [
        {
          "output_type": "execute_result",
          "data": {
            "text/plain": [
              "-506       1\n",
              " 0       543\n",
              " 1       189\n",
              " 2        96\n",
              " 3        86\n",
              "        ... \n",
              " 1894      1\n",
              " 1971      1\n",
              " 2055      1\n",
              " 2061      1\n",
              " 2123      1\n",
              "Name: Days to Euth, Length: 283, dtype: int64"
            ]
          },
          "metadata": {
            "tags": []
          },
          "execution_count": 54
        }
      ]
    },
    {
      "cell_type": "code",
      "metadata": {
        "colab": {
          "base_uri": "https://localhost:8080/"
        },
        "id": "rS9z_3LWPlrU",
        "outputId": "a3668475-47c0-4b72-ffef-9f9bb76a5b34"
      },
      "source": [
        "days_to_euth = (euth_dogs['Outcome Date'] - euth_dogs['Intake Date']).dt.days.tolist()\n",
        "days_to_euth.index(-506)"
      ],
      "execution_count": 55,
      "outputs": [
        {
          "output_type": "execute_result",
          "data": {
            "text/plain": [
              "1032"
            ]
          },
          "metadata": {
            "tags": []
          },
          "execution_count": 55
        }
      ]
    },
    {
      "cell_type": "code",
      "metadata": {
        "colab": {
          "base_uri": "https://localhost:8080/",
          "height": 306
        },
        "id": "M_GUwS-gRW1m",
        "outputId": "ef389977-98b5-4721-ce02-12806269d238"
      },
      "source": [
        "euth_dogs = euth_dogs.drop(labels=[1032], axis=0)\n",
        "euth_dogs.head()"
      ],
      "execution_count": 56,
      "outputs": [
        {
          "output_type": "execute_result",
          "data": {
            "text/html": [
              "<div>\n",
              "<style scoped>\n",
              "    .dataframe tbody tr th:only-of-type {\n",
              "        vertical-align: middle;\n",
              "    }\n",
              "\n",
              "    .dataframe tbody tr th {\n",
              "        vertical-align: top;\n",
              "    }\n",
              "\n",
              "    .dataframe thead th {\n",
              "        text-align: right;\n",
              "    }\n",
              "</style>\n",
              "<table border=\"1\" class=\"dataframe\">\n",
              "  <thead>\n",
              "    <tr style=\"text-align: right;\">\n",
              "      <th></th>\n",
              "      <th>Intake DateTime</th>\n",
              "      <th>Animal Type_x</th>\n",
              "      <th>Breed_x</th>\n",
              "      <th>Color_x</th>\n",
              "      <th>Outcome DateTime</th>\n",
              "      <th>Outcome Type</th>\n",
              "      <th>Outcome Subtype</th>\n",
              "      <th>Intake Date</th>\n",
              "      <th>Intake Time</th>\n",
              "      <th>Outcome Date</th>\n",
              "      <th>Outcome Time</th>\n",
              "      <th>Days to Euth</th>\n",
              "    </tr>\n",
              "  </thead>\n",
              "  <tbody>\n",
              "    <tr>\n",
              "      <th>0</th>\n",
              "      <td>2019-09-02 11:52:00</td>\n",
              "      <td>Dog</td>\n",
              "      <td>Boxer Mix</td>\n",
              "      <td>White</td>\n",
              "      <td>2019-09-02 13:12:00</td>\n",
              "      <td>Euthanasia</td>\n",
              "      <td>Suffering</td>\n",
              "      <td>2019-09-02</td>\n",
              "      <td>11:52:00</td>\n",
              "      <td>2019-09-02</td>\n",
              "      <td>13:12:00</td>\n",
              "      <td>0</td>\n",
              "    </tr>\n",
              "    <tr>\n",
              "      <th>1</th>\n",
              "      <td>2019-05-06 21:30:00</td>\n",
              "      <td>Dog</td>\n",
              "      <td>Boxer Mix</td>\n",
              "      <td>White</td>\n",
              "      <td>2019-09-02 13:12:00</td>\n",
              "      <td>Euthanasia</td>\n",
              "      <td>Suffering</td>\n",
              "      <td>2019-05-06</td>\n",
              "      <td>21:30:00</td>\n",
              "      <td>2019-09-02</td>\n",
              "      <td>13:12:00</td>\n",
              "      <td>119</td>\n",
              "    </tr>\n",
              "    <tr>\n",
              "      <th>2</th>\n",
              "      <td>2019-07-16 10:35:00</td>\n",
              "      <td>Dog</td>\n",
              "      <td>Boxer Mix</td>\n",
              "      <td>White</td>\n",
              "      <td>2019-09-02 13:12:00</td>\n",
              "      <td>Euthanasia</td>\n",
              "      <td>Suffering</td>\n",
              "      <td>2019-07-16</td>\n",
              "      <td>10:35:00</td>\n",
              "      <td>2019-09-02</td>\n",
              "      <td>13:12:00</td>\n",
              "      <td>48</td>\n",
              "    </tr>\n",
              "    <tr>\n",
              "      <th>3</th>\n",
              "      <td>2016-06-07 17:51:00</td>\n",
              "      <td>Dog</td>\n",
              "      <td>Wire Hair Fox Terrier Mix</td>\n",
              "      <td>White/Brown</td>\n",
              "      <td>2016-06-07 18:00:00</td>\n",
              "      <td>Euthanasia</td>\n",
              "      <td>Suffering</td>\n",
              "      <td>2016-06-07</td>\n",
              "      <td>17:51:00</td>\n",
              "      <td>2016-06-07</td>\n",
              "      <td>18:00:00</td>\n",
              "      <td>0</td>\n",
              "    </tr>\n",
              "    <tr>\n",
              "      <th>4</th>\n",
              "      <td>2015-01-23 12:13:00</td>\n",
              "      <td>Dog</td>\n",
              "      <td>Pit Bull Mix</td>\n",
              "      <td>White/Brown Brindle</td>\n",
              "      <td>2015-01-24 08:46:00</td>\n",
              "      <td>Euthanasia</td>\n",
              "      <td>Aggressive</td>\n",
              "      <td>2015-01-23</td>\n",
              "      <td>12:13:00</td>\n",
              "      <td>2015-01-24</td>\n",
              "      <td>08:46:00</td>\n",
              "      <td>1</td>\n",
              "    </tr>\n",
              "  </tbody>\n",
              "</table>\n",
              "</div>"
            ],
            "text/plain": [
              "      Intake DateTime Animal Type_x  ... Outcome Time Days to Euth\n",
              "0 2019-09-02 11:52:00           Dog  ...     13:12:00            0\n",
              "1 2019-05-06 21:30:00           Dog  ...     13:12:00          119\n",
              "2 2019-07-16 10:35:00           Dog  ...     13:12:00           48\n",
              "3 2016-06-07 17:51:00           Dog  ...     18:00:00            0\n",
              "4 2015-01-23 12:13:00           Dog  ...     08:46:00            1\n",
              "\n",
              "[5 rows x 12 columns]"
            ]
          },
          "metadata": {
            "tags": []
          },
          "execution_count": 56
        }
      ]
    },
    {
      "cell_type": "code",
      "metadata": {
        "colab": {
          "base_uri": "https://localhost:8080/"
        },
        "id": "GNlNzUZgRjl3",
        "outputId": "0ee01457-ee7c-4652-ce48-1731466eb113"
      },
      "source": [
        "euth_dogs['Days to Euth'].value_counts().sort_index()"
      ],
      "execution_count": 57,
      "outputs": [
        {
          "output_type": "execute_result",
          "data": {
            "text/plain": [
              "0       543\n",
              "1       189\n",
              "2        96\n",
              "3        86\n",
              "4       125\n",
              "       ... \n",
              "1894      1\n",
              "1971      1\n",
              "2055      1\n",
              "2061      1\n",
              "2123      1\n",
              "Name: Days to Euth, Length: 282, dtype: int64"
            ]
          },
          "metadata": {
            "tags": []
          },
          "execution_count": 57
        }
      ]
    },
    {
      "cell_type": "code",
      "metadata": {
        "colab": {
          "base_uri": "https://localhost:8080/",
          "height": 442
        },
        "id": "I-XdeAZrqsLv",
        "outputId": "535e2d45-b5ad-46dd-fe57-cdaaa5b97572"
      },
      "source": [
        "fig, ax = plt.subplots(figsize=(2, 6))\n",
        "\n",
        "ax.boxplot(x=euth_dogs['Days to Euth'])\n",
        "\n",
        "ax.set_title('Days at Facility Before\\nEuthenization', fontweight='bold', fontsize=16, pad=15)\n",
        "ax.set_ylabel('Day', fontweight='bold', fontsize=14, labelpad=10)\n",
        "ax.set_xlabel('Dogs', fontweight='bold', fontsize=14, labelpad=10)\n",
        "ax.set_yticks([0, 250, 500, 750, 1000, 1250, 1500, 1750, 2000, 2250])\n",
        "ax.set_yticklabels(labels=[0, 250, 500, 750, 1000, 1250, 1500, 1750, 2000, 2250], fontsize=12)\n",
        "\n",
        "\n",
        "plt.grid(True)\n",
        "plt.show()"
      ],
      "execution_count": 58,
      "outputs": [
        {
          "output_type": "display_data",
          "data": {
            "image/png": "[encoded data removed]",
            "text/plain": [
              "<Figure size 144x432 with 1 Axes>"
            ]
          },
          "metadata": {
            "tags": [],
            "needs_background": "light"
          }
        }
      ]
    },
    {
      "cell_type": "code",
      "metadata": {
        "colab": {
          "base_uri": "https://localhost:8080/",
          "height": 442
        },
        "id": "fLxDuHKmTCFV",
        "outputId": "f05065d8-5dff-4ae3-873d-ed0a10c677f2"
      },
      "source": [
        "fig, ax = plt.subplots(figsize=(2, 6))\n",
        "\n",
        "ax.boxplot(x=euth_dogs['Days to Euth'])\n",
        "\n",
        "ax.set_title('Days at Facility Before\\nEuthenization', fontweight='bold', fontsize=16, pad=15)\n",
        "ax.set_ylabel('Day', fontweight='bold', fontsize=14, labelpad=10)\n",
        "ax.set_xlabel('Dogs', fontweight='bold', fontsize=14, labelpad=10)\n",
        "ax.set_yticks([0, 5, 10, 15, 20, 25, 30, 35, 40, 45, 50, 55, 60])\n",
        "ax.set_yticklabels(labels=[0, 5, 10, 15, 20, 25, 30, 35, 40, 45, 50, 55, 60], fontsize=12)\n",
        "ax.set_ylim(-5,60)\n",
        "\n",
        "plt.grid(True)\n",
        "plt.show()"
      ],
      "execution_count": 59,
      "outputs": [
        {
          "output_type": "display_data",
          "data": {
            "image/png": "[encoded data removed]",
            "text/plain": [
              "<Figure size 144x432 with 1 Axes>"
            ]
          },
          "metadata": {
            "tags": [],
            "needs_background": "light"
          }
        }
      ]
    },
    {
      "cell_type": "markdown",
      "metadata": {
        "id": "wmmac6Gt8fmw"
      },
      "source": [
        "##Euthanization Graph Based on Intake to Outcome Days for Cats"
      ]
    },
    {
      "cell_type": "code",
      "metadata": {
        "colab": {
          "base_uri": "https://localhost:8080/",
          "height": 306
        },
        "id": "zbmY4Y5-8ppn",
        "outputId": "80a8ac39-fc0b-4229-f9cc-d19aeac57f05"
      },
      "source": [
        "euth_cats = euth_timeline[(euth_timeline['Animal Type_x'] == 'Cat')].reset_index()\n",
        "euth_cats = euth_cats.drop('index', axis=1)\n",
        "euth_cats.head()"
      ],
      "execution_count": 60,
      "outputs": [
        {
          "output_type": "execute_result",
          "data": {
            "text/html": [
              "<div>\n",
              "<style scoped>\n",
              "    .dataframe tbody tr th:only-of-type {\n",
              "        vertical-align: middle;\n",
              "    }\n",
              "\n",
              "    .dataframe tbody tr th {\n",
              "        vertical-align: top;\n",
              "    }\n",
              "\n",
              "    .dataframe thead th {\n",
              "        text-align: right;\n",
              "    }\n",
              "</style>\n",
              "<table border=\"1\" class=\"dataframe\">\n",
              "  <thead>\n",
              "    <tr style=\"text-align: right;\">\n",
              "      <th></th>\n",
              "      <th>Intake DateTime</th>\n",
              "      <th>Animal Type_x</th>\n",
              "      <th>Breed_x</th>\n",
              "      <th>Color_x</th>\n",
              "      <th>Outcome DateTime</th>\n",
              "      <th>Outcome Type</th>\n",
              "      <th>Outcome Subtype</th>\n",
              "      <th>Intake Date</th>\n",
              "      <th>Intake Time</th>\n",
              "      <th>Outcome Date</th>\n",
              "      <th>Outcome Time</th>\n",
              "      <th>Days to Euth</th>\n",
              "    </tr>\n",
              "  </thead>\n",
              "  <tbody>\n",
              "    <tr>\n",
              "      <th>0</th>\n",
              "      <td>2017-02-04 10:10:00</td>\n",
              "      <td>Cat</td>\n",
              "      <td>Domestic Shorthair Mix</td>\n",
              "      <td>Black/White</td>\n",
              "      <td>2017-02-04 10:48:00</td>\n",
              "      <td>Euthanasia</td>\n",
              "      <td>Suffering</td>\n",
              "      <td>2017-02-04</td>\n",
              "      <td>10:10:00</td>\n",
              "      <td>2017-02-04</td>\n",
              "      <td>10:48:00</td>\n",
              "      <td>0</td>\n",
              "    </tr>\n",
              "    <tr>\n",
              "      <th>1</th>\n",
              "      <td>2019-04-02 07:16:00</td>\n",
              "      <td>Cat</td>\n",
              "      <td>Domestic Shorthair Mix</td>\n",
              "      <td>Brown Tabby</td>\n",
              "      <td>2019-04-02 08:52:00</td>\n",
              "      <td>Euthanasia</td>\n",
              "      <td>At Vet</td>\n",
              "      <td>2019-04-02</td>\n",
              "      <td>07:16:00</td>\n",
              "      <td>2019-04-02</td>\n",
              "      <td>08:52:00</td>\n",
              "      <td>0</td>\n",
              "    </tr>\n",
              "    <tr>\n",
              "      <th>2</th>\n",
              "      <td>2016-06-19 16:13:00</td>\n",
              "      <td>Cat</td>\n",
              "      <td>Domestic Shorthair Mix</td>\n",
              "      <td>Black</td>\n",
              "      <td>2016-06-19 16:30:00</td>\n",
              "      <td>Euthanasia</td>\n",
              "      <td>Suffering</td>\n",
              "      <td>2016-06-19</td>\n",
              "      <td>16:13:00</td>\n",
              "      <td>2016-06-19</td>\n",
              "      <td>16:30:00</td>\n",
              "      <td>0</td>\n",
              "    </tr>\n",
              "    <tr>\n",
              "      <th>3</th>\n",
              "      <td>2020-01-16 12:08:00</td>\n",
              "      <td>Cat</td>\n",
              "      <td>Domestic Longhair</td>\n",
              "      <td>Black/White</td>\n",
              "      <td>2020-01-25 11:57:00</td>\n",
              "      <td>Euthanasia</td>\n",
              "      <td>Suffering</td>\n",
              "      <td>2020-01-16</td>\n",
              "      <td>12:08:00</td>\n",
              "      <td>2020-01-25</td>\n",
              "      <td>11:57:00</td>\n",
              "      <td>9</td>\n",
              "    </tr>\n",
              "    <tr>\n",
              "      <th>4</th>\n",
              "      <td>2014-12-26 11:39:00</td>\n",
              "      <td>Cat</td>\n",
              "      <td>Domestic Shorthair Mix</td>\n",
              "      <td>Black/White</td>\n",
              "      <td>2014-12-26 13:59:00</td>\n",
              "      <td>Euthanasia</td>\n",
              "      <td>Suffering</td>\n",
              "      <td>2014-12-26</td>\n",
              "      <td>11:39:00</td>\n",
              "      <td>2014-12-26</td>\n",
              "      <td>13:59:00</td>\n",
              "      <td>0</td>\n",
              "    </tr>\n",
              "  </tbody>\n",
              "</table>\n",
              "</div>"
            ],
            "text/plain": [
              "      Intake DateTime Animal Type_x  ... Outcome Time Days to Euth\n",
              "0 2017-02-04 10:10:00           Cat  ...     10:48:00            0\n",
              "1 2019-04-02 07:16:00           Cat  ...     08:52:00            0\n",
              "2 2016-06-19 16:13:00           Cat  ...     16:30:00            0\n",
              "3 2020-01-16 12:08:00           Cat  ...     11:57:00            9\n",
              "4 2014-12-26 11:39:00           Cat  ...     13:59:00            0\n",
              "\n",
              "[5 rows x 12 columns]"
            ]
          },
          "metadata": {
            "tags": []
          },
          "execution_count": 60
        }
      ]
    },
    {
      "cell_type": "code",
      "metadata": {
        "colab": {
          "base_uri": "https://localhost:8080/"
        },
        "id": "dhrcIhCcupJ0",
        "outputId": "a6fc0ca7-d031-4f11-f5ce-20082f1233ad"
      },
      "source": [
        "euth_cats['Days to Euth'].value_counts().sort_index()"
      ],
      "execution_count": 61,
      "outputs": [
        {
          "output_type": "execute_result",
          "data": {
            "text/plain": [
              "0       1053\n",
              "1        231\n",
              "2         83\n",
              "3         68\n",
              "4        138\n",
              "        ... \n",
              "1433       1\n",
              "1685       1\n",
              "1724       1\n",
              "1935       1\n",
              "2020       1\n",
              "Name: Days to Euth, Length: 126, dtype: int64"
            ]
          },
          "metadata": {
            "tags": []
          },
          "execution_count": 61
        }
      ]
    },
    {
      "cell_type": "code",
      "metadata": {
        "colab": {
          "base_uri": "https://localhost:8080/",
          "height": 447
        },
        "id": "LyqD-qmguop_",
        "outputId": "7ffd3ebc-8bec-468e-fbb4-56206420b61c"
      },
      "source": [
        "fig, ax = plt.subplots(figsize=(2, 6))\n",
        "\n",
        "ax.boxplot(x=euth_cats['Days to Euth'])\n",
        "\n",
        "ax.set_title('Days at Facility Before\\nEuthenization', fontweight='bold', fontsize=16, pad=15)\n",
        "ax.set_ylabel('Day', fontweight='bold', fontsize=14, labelpad=10)\n",
        "ax.set_xlabel('Cats', fontweight='bold', fontsize=14, labelpad=15)\n",
        "ax.set_yticks([0, 250, 500, 750, 1000, 1250, 1500, 1750, 2000, 2250])\n",
        "ax.set_yticklabels(labels=[0, 250, 500, 750, 1000, 1250, 1500, 1750, 2000, 2250], fontsize=12)\n",
        "\n",
        "plt.grid(True)\n",
        "plt.show()"
      ],
      "execution_count": 62,
      "outputs": [
        {
          "output_type": "display_data",
          "data": {
            "image/png": "[encoded data removed]",
            "text/plain": [
              "<Figure size 144x432 with 1 Axes>"
            ]
          },
          "metadata": {
            "tags": [],
            "needs_background": "light"
          }
        }
      ]
    },
    {
      "cell_type": "code",
      "metadata": {
        "colab": {
          "base_uri": "https://localhost:8080/",
          "height": 447
        },
        "id": "a9wJGz5Huo8L",
        "outputId": "be8b36bb-a8e8-4ea1-b7ce-3343ea181439"
      },
      "source": [
        "fig, ax = plt.subplots(figsize=(2, 6))\n",
        "\n",
        "ax.boxplot(x=euth_cats['Days to Euth'])\n",
        "\n",
        "ax.set_title('Days at Facility Before\\nEuthenization', fontweight='bold', fontsize=16, pad=15)\n",
        "ax.set_ylabel('Day', fontweight='bold', fontsize=14, labelpad=10)\n",
        "ax.set_xlabel('Cats', fontweight='bold', fontsize=14, labelpad=15)\n",
        "ax.set_ylim(-2, 20)\n",
        "ax.set_yticklabels(labels=[(),0, 2.5, 5, 7.5, 10, 12.5, 15, 17.5, 20], fontsize=12)\n",
        "\n",
        "plt.grid(True)\n",
        "plt.show()"
      ],
      "execution_count": 63,
      "outputs": [
        {
          "output_type": "display_data",
          "data": {
            "image/png": "[encoded data removed]",
            "text/plain": [
              "<Figure size 144x432 with 1 Axes>"
            ]
          },
          "metadata": {
            "tags": [],
            "needs_background": "light"
          }
        }
      ]
    },
    {
      "cell_type": "markdown",
      "metadata": {
        "id": "WppAm0L48Alw"
      },
      "source": [
        "##Euthanization Boxplot Graph for Cats and Dogs Comparing Intake to Outcome Days"
      ]
    },
    {
      "cell_type": "code",
      "metadata": {
        "colab": {
          "base_uri": "https://localhost:8080/",
          "height": 297
        },
        "id": "FL9Q7HEGjci6",
        "outputId": "e86a7699-43c0-4eeb-db52-5970a1cd222d"
      },
      "source": [
        "fig, (ax1, ax2) = plt.subplots(1, 2)\n",
        "\n",
        "ax1.boxplot(x=euth_dogs['Days to Euth'])\n",
        "\n",
        "ax1.set_title('Days at Facility Before\\nEuthenization', fontweight='bold', fontsize=16, pad=15)\n",
        "ax1.set_ylabel('Day', fontweight='bold', fontsize=14, labelpad=10)\n",
        "ax1.set_xlabel('Dogs', fontweight='bold', fontsize=14, labelpad=10)\n",
        "ax1.set_yticks([0, 250, 500, 750, 1000, 1250, 1500, 1750, 2000, 2250])\n",
        "ax1.set_yticklabels(labels=[0, 250, 500, 750, 1000, 1250, 1500, 1750, 2000, 2250], fontsize=12)\n",
        "\n",
        "\n",
        "ax2.boxplot(x=euth_cats['Days to Euth'])\n",
        "\n",
        "ax2.set_title('Days at Facility Before\\nEuthenization', fontweight='bold', fontsize=16, pad=15)\n",
        "ax2.set_ylabel('Day', fontweight='bold', fontsize=14, labelpad=10)\n",
        "ax2.set_xlabel('Cats', fontweight='bold', fontsize=14, labelpad=15)\n",
        "ax2.set_yticks([0, 250, 500, 750, 1000, 1250, 1500, 1750, 2000, 2250])\n",
        "ax2.set_yticklabels(labels=[0, 250, 500, 750, 1000, 1250, 1500, 1750, 2000, 2250], fontsize=12)\n",
        "\n",
        "plt.grid(True)\n",
        "plt.tight_layout()\n",
        "plt.show()"
      ],
      "execution_count": 212,
      "outputs": [
        {
          "output_type": "display_data",
          "data": {
            "image/png": "[encoded data removed]",
            "text/plain": [
              "<Figure size 432x288 with 2 Axes>"
            ]
          },
          "metadata": {
            "tags": [],
            "needs_background": "light"
          }
        }
      ]
    },
    {
      "cell_type": "code",
      "metadata": {
        "colab": {
          "base_uri": "https://localhost:8080/",
          "height": 297
        },
        "id": "ZYT1pNkU8EuE",
        "outputId": "b602ea04-0af6-4286-e939-517766383388"
      },
      "source": [
        "fig, (ax1, ax2) = plt.subplots(1, 2)\n",
        "\n",
        "ax1.boxplot(x=euth_dogs['Days to Euth'])\n",
        "\n",
        "ax1.set_title('Days at Facility\\nBefore Euthenization', fontweight='bold', fontsize=16, pad=15)\n",
        "ax1.set_ylabel('Day', fontweight='bold', fontsize=14, labelpad=10)\n",
        "ax1.set_xlabel('Dogs', fontweight='bold', fontsize=14, labelpad=15)\n",
        "ax1.set_yticks([0, 5, 10, 15, 20, 25, 30, 35, 40, 45, 50, 55, 60])\n",
        "ax1.set_yticklabels(labels=[0, 5, 10, 15, 20, 25, 30, 35, 40, 45, 50, 55, 60], fontsize=12)\n",
        "ax1.set_ylim(-2,60)\n",
        "ax1.grid()\n",
        "\n",
        "ax2.boxplot(x=euth_cats['Days to Euth'])\n",
        "\n",
        "ax2.set_title('Days at Facility\\nBefore Euthenization', fontweight='bold', fontsize=16, pad=15)\n",
        "ax2.set_xlabel('Cats', fontweight='bold', fontsize=14, labelpad=15)\n",
        "ax2.set_ylim(-1, 20)\n",
        "ax2.set_yticklabels(labels=[(),0, 5, 10, 15, 20], fontsize=12)\n",
        "ax2.grid()\n",
        "\n",
        "plt.tight_layout()\n",
        "plt.show()"
      ],
      "execution_count": 210,
      "outputs": [
        {
          "output_type": "display_data",
          "data": {
            "image/png": "[encoded data removed]",
            "text/plain": [
              "<Figure size 432x288 with 2 Axes>"
            ]
          },
          "metadata": {
            "tags": [],
            "needs_background": "light"
          }
        }
      ]
    },
    {
      "cell_type": "code",
      "metadata": {
        "colab": {
          "base_uri": "https://localhost:8080/",
          "height": 297
        },
        "id": "f3K8kZ7bgSTm",
        "outputId": "e04ce7fc-667f-45ef-c8e4-d646639d1a27"
      },
      "source": [
        "euth_dogs.describe()"
      ],
      "execution_count": 65,
      "outputs": [
        {
          "output_type": "execute_result",
          "data": {
            "text/html": [
              "<div>\n",
              "<style scoped>\n",
              "    .dataframe tbody tr th:only-of-type {\n",
              "        vertical-align: middle;\n",
              "    }\n",
              "\n",
              "    .dataframe tbody tr th {\n",
              "        vertical-align: top;\n",
              "    }\n",
              "\n",
              "    .dataframe thead th {\n",
              "        text-align: right;\n",
              "    }\n",
              "</style>\n",
              "<table border=\"1\" class=\"dataframe\">\n",
              "  <thead>\n",
              "    <tr style=\"text-align: right;\">\n",
              "      <th></th>\n",
              "      <th>Days to Euth</th>\n",
              "    </tr>\n",
              "  </thead>\n",
              "  <tbody>\n",
              "    <tr>\n",
              "      <th>count</th>\n",
              "      <td>2078.000000</td>\n",
              "    </tr>\n",
              "    <tr>\n",
              "      <th>mean</th>\n",
              "      <td>60.288739</td>\n",
              "    </tr>\n",
              "    <tr>\n",
              "      <th>std</th>\n",
              "      <td>197.638892</td>\n",
              "    </tr>\n",
              "    <tr>\n",
              "      <th>min</th>\n",
              "      <td>0.000000</td>\n",
              "    </tr>\n",
              "    <tr>\n",
              "      <th>25%</th>\n",
              "      <td>0.000000</td>\n",
              "    </tr>\n",
              "    <tr>\n",
              "      <th>50%</th>\n",
              "      <td>4.500000</td>\n",
              "    </tr>\n",
              "    <tr>\n",
              "      <th>75%</th>\n",
              "      <td>23.000000</td>\n",
              "    </tr>\n",
              "    <tr>\n",
              "      <th>max</th>\n",
              "      <td>2123.000000</td>\n",
              "    </tr>\n",
              "  </tbody>\n",
              "</table>\n",
              "</div>"
            ],
            "text/plain": [
              "       Days to Euth\n",
              "count   2078.000000\n",
              "mean      60.288739\n",
              "std      197.638892\n",
              "min        0.000000\n",
              "25%        0.000000\n",
              "50%        4.500000\n",
              "75%       23.000000\n",
              "max     2123.000000"
            ]
          },
          "metadata": {
            "tags": []
          },
          "execution_count": 65
        }
      ]
    },
    {
      "cell_type": "code",
      "metadata": {
        "colab": {
          "base_uri": "https://localhost:8080/",
          "height": 297
        },
        "id": "HtEHEB1agX_g",
        "outputId": "253671fc-c7d5-4bc9-b30b-84528af9a349"
      },
      "source": [
        "euth_cats.describe()"
      ],
      "execution_count": 66,
      "outputs": [
        {
          "output_type": "execute_result",
          "data": {
            "text/html": [
              "<div>\n",
              "<style scoped>\n",
              "    .dataframe tbody tr th:only-of-type {\n",
              "        vertical-align: middle;\n",
              "    }\n",
              "\n",
              "    .dataframe tbody tr th {\n",
              "        vertical-align: top;\n",
              "    }\n",
              "\n",
              "    .dataframe thead th {\n",
              "        text-align: right;\n",
              "    }\n",
              "</style>\n",
              "<table border=\"1\" class=\"dataframe\">\n",
              "  <thead>\n",
              "    <tr style=\"text-align: right;\">\n",
              "      <th></th>\n",
              "      <th>Days to Euth</th>\n",
              "    </tr>\n",
              "  </thead>\n",
              "  <tbody>\n",
              "    <tr>\n",
              "      <th>count</th>\n",
              "      <td>1978.000000</td>\n",
              "    </tr>\n",
              "    <tr>\n",
              "      <th>mean</th>\n",
              "      <td>16.512133</td>\n",
              "    </tr>\n",
              "    <tr>\n",
              "      <th>std</th>\n",
              "      <td>108.308347</td>\n",
              "    </tr>\n",
              "    <tr>\n",
              "      <th>min</th>\n",
              "      <td>0.000000</td>\n",
              "    </tr>\n",
              "    <tr>\n",
              "      <th>25%</th>\n",
              "      <td>0.000000</td>\n",
              "    </tr>\n",
              "    <tr>\n",
              "      <th>50%</th>\n",
              "      <td>0.000000</td>\n",
              "    </tr>\n",
              "    <tr>\n",
              "      <th>75%</th>\n",
              "      <td>4.000000</td>\n",
              "    </tr>\n",
              "    <tr>\n",
              "      <th>max</th>\n",
              "      <td>2020.000000</td>\n",
              "    </tr>\n",
              "  </tbody>\n",
              "</table>\n",
              "</div>"
            ],
            "text/plain": [
              "       Days to Euth\n",
              "count   1978.000000\n",
              "mean      16.512133\n",
              "std      108.308347\n",
              "min        0.000000\n",
              "25%        0.000000\n",
              "50%        0.000000\n",
              "75%        4.000000\n",
              "max     2020.000000"
            ]
          },
          "metadata": {
            "tags": []
          },
          "execution_count": 66
        }
      ]
    },
    {
      "cell_type": "markdown",
      "metadata": {
        "id": "MwTeHd5sNcs8"
      },
      "source": [
        "##Euthanization Timeline Boxplot Graph for All Animals"
      ]
    },
    {
      "cell_type": "code",
      "metadata": {
        "colab": {
          "base_uri": "https://localhost:8080/"
        },
        "id": "6thY1qpWPbZF",
        "outputId": "16918767-afe7-4a17-b206-423d3507c797"
      },
      "source": [
        "euth_timeline['Days to Euth'].value_counts().sort_index()"
      ],
      "execution_count": 67,
      "outputs": [
        {
          "output_type": "execute_result",
          "data": {
            "text/plain": [
              "-506        1\n",
              " 0       4370\n",
              " 1       1753\n",
              " 2        422\n",
              " 3        240\n",
              "         ... \n",
              " 1971       1\n",
              " 2020       1\n",
              " 2055       1\n",
              " 2061       1\n",
              " 2123       1\n",
              "Name: Days to Euth, Length: 325, dtype: int64"
            ]
          },
          "metadata": {
            "tags": []
          },
          "execution_count": 67
        }
      ]
    },
    {
      "cell_type": "code",
      "metadata": {
        "colab": {
          "base_uri": "https://localhost:8080/"
        },
        "id": "3LUV2QOZOr_2",
        "outputId": "230245be-a3dc-4af5-b1df-213d03e95134"
      },
      "source": [
        "days_to_euth2 = (euth_timeline['Outcome Date'] - euth_timeline['Intake Date']).dt.days.tolist()\n",
        "days_to_euth2.index(-506)"
      ],
      "execution_count": 68,
      "outputs": [
        {
          "output_type": "execute_result",
          "data": {
            "text/plain": [
              "3845"
            ]
          },
          "metadata": {
            "tags": []
          },
          "execution_count": 68
        }
      ]
    },
    {
      "cell_type": "code",
      "metadata": {
        "colab": {
          "base_uri": "https://localhost:8080/"
        },
        "id": "o_kr2SopOkGr",
        "outputId": "6d0606f0-dae9-4f85-d0de-d2164eb09f42"
      },
      "source": [
        "euth_timeline = euth_timeline.drop(labels=[3845], axis=0)\n",
        "euth_timeline['Days to Euth'].value_counts().sort_index()"
      ],
      "execution_count": 69,
      "outputs": [
        {
          "output_type": "execute_result",
          "data": {
            "text/plain": [
              "0       4370\n",
              "1       1753\n",
              "2        422\n",
              "3        240\n",
              "4        352\n",
              "        ... \n",
              "1971       1\n",
              "2020       1\n",
              "2055       1\n",
              "2061       1\n",
              "2123       1\n",
              "Name: Days to Euth, Length: 324, dtype: int64"
            ]
          },
          "metadata": {
            "tags": []
          },
          "execution_count": 69
        }
      ]
    },
    {
      "cell_type": "code",
      "metadata": {
        "colab": {
          "base_uri": "https://localhost:8080/",
          "height": 447
        },
        "id": "WL2pHKU9NbRT",
        "outputId": "c4c2c666-1053-4487-a3b1-b8fde735eb9a"
      },
      "source": [
        "fig, ax = plt.subplots(figsize=(2, 6))\n",
        "\n",
        "ax.boxplot(x=euth_timeline['Days to Euth'])\n",
        "\n",
        "ax.set_title('Days at Facility Before\\nEuthenization', fontweight='bold', fontsize=16, pad=15)\n",
        "ax.set_ylabel('Day', fontweight='bold', fontsize=14, labelpad=10)\n",
        "ax.set_xlabel('All Animals', fontweight='bold', fontsize=14, labelpad=15)\n",
        "ax.set_yticks([0, 250, 500, 750, 1000, 1250, 1500, 1750, 2000, 2250])\n",
        "ax.set_yticklabels(labels=[0, 250, 500, 750, 1000, 1250, 1500, 1750, 2000, 2250], fontsize=12)\n",
        "\n",
        "plt.grid(True)\n",
        "plt.show()"
      ],
      "execution_count": 70,
      "outputs": [
        {
          "output_type": "display_data",
          "data": {
            "image/png": "[encoded data removed]",
            "text/plain": [
              "<Figure size 144x432 with 1 Axes>"
            ]
          },
          "metadata": {
            "tags": [],
            "needs_background": "light"
          }
        }
      ]
    },
    {
      "cell_type": "code",
      "metadata": {
        "colab": {
          "base_uri": "https://localhost:8080/",
          "height": 447
        },
        "id": "XZa1lVjaQvNa",
        "outputId": "74ae073c-4d27-46a2-8569-ea3f9f0a8973"
      },
      "source": [
        "fig, ax = plt.subplots(figsize=(2, 6))\n",
        "\n",
        "ax.boxplot(x=euth_timeline['Days to Euth'])\n",
        "\n",
        "ax.set_title('Days at Facility Before\\nEuthenization', fontweight='bold', fontsize=16, pad=15)\n",
        "ax.set_ylabel('Day', fontweight='bold', fontsize=14, labelpad=10)\n",
        "ax.set_xlabel('All Animals', fontweight='bold', fontsize=14, labelpad=15)\n",
        "ax.set_ylim(-1, 20)\n",
        "ax.set_yticklabels(labels=[(),0, 2.5, 5, 7.5, 10, 12.5, 15, 17.5, 20], fontsize=12)\n",
        "\n",
        "ax.grid()\n",
        "\n",
        "plt.show()"
      ],
      "execution_count": 71,
      "outputs": [
        {
          "output_type": "display_data",
          "data": {
            "image/png": "[encoded data removed]",
            "text/plain": [
              "<Figure size 144x432 with 1 Axes>"
            ]
          },
          "metadata": {
            "tags": [],
            "needs_background": "light"
          }
        }
      ]
    },
    {
      "cell_type": "markdown",
      "metadata": {
        "id": "Rg6bKrKiXRRH"
      },
      "source": [
        "###Euthanization Timeline Boxplot for \"Other\" Animals"
      ]
    },
    {
      "cell_type": "code",
      "metadata": {
        "colab": {
          "base_uri": "https://localhost:8080/",
          "height": 306
        },
        "id": "Spw-OYIIXVSE",
        "outputId": "64fefd26-7803-4044-ab18-b34bb3fd619d"
      },
      "source": [
        "euth_other = euth_timeline[(euth_timeline['Animal Type_x'] == 'Other')].reset_index()\n",
        "euth_other = euth_other.drop('index', axis=1)\n",
        "euth_other.head()"
      ],
      "execution_count": 72,
      "outputs": [
        {
          "output_type": "execute_result",
          "data": {
            "text/html": [
              "<div>\n",
              "<style scoped>\n",
              "    .dataframe tbody tr th:only-of-type {\n",
              "        vertical-align: middle;\n",
              "    }\n",
              "\n",
              "    .dataframe tbody tr th {\n",
              "        vertical-align: top;\n",
              "    }\n",
              "\n",
              "    .dataframe thead th {\n",
              "        text-align: right;\n",
              "    }\n",
              "</style>\n",
              "<table border=\"1\" class=\"dataframe\">\n",
              "  <thead>\n",
              "    <tr style=\"text-align: right;\">\n",
              "      <th></th>\n",
              "      <th>Intake DateTime</th>\n",
              "      <th>Animal Type_x</th>\n",
              "      <th>Breed_x</th>\n",
              "      <th>Color_x</th>\n",
              "      <th>Outcome DateTime</th>\n",
              "      <th>Outcome Type</th>\n",
              "      <th>Outcome Subtype</th>\n",
              "      <th>Intake Date</th>\n",
              "      <th>Intake Time</th>\n",
              "      <th>Outcome Date</th>\n",
              "      <th>Outcome Time</th>\n",
              "      <th>Days to Euth</th>\n",
              "    </tr>\n",
              "  </thead>\n",
              "  <tbody>\n",
              "    <tr>\n",
              "      <th>0</th>\n",
              "      <td>2016-03-24 16:39:00</td>\n",
              "      <td>Other</td>\n",
              "      <td>Bat Mix</td>\n",
              "      <td>Brown</td>\n",
              "      <td>2016-03-24 17:17:00</td>\n",
              "      <td>Euthanasia</td>\n",
              "      <td>Rabies Risk</td>\n",
              "      <td>2016-03-24</td>\n",
              "      <td>16:39:00</td>\n",
              "      <td>2016-03-24</td>\n",
              "      <td>17:17:00</td>\n",
              "      <td>0</td>\n",
              "    </tr>\n",
              "    <tr>\n",
              "      <th>1</th>\n",
              "      <td>2015-05-19 13:23:00</td>\n",
              "      <td>Other</td>\n",
              "      <td>Hamster Mix</td>\n",
              "      <td>White/Gray</td>\n",
              "      <td>2015-05-19 15:56:00</td>\n",
              "      <td>Euthanasia</td>\n",
              "      <td>Suffering</td>\n",
              "      <td>2015-05-19</td>\n",
              "      <td>13:23:00</td>\n",
              "      <td>2015-05-19</td>\n",
              "      <td>15:56:00</td>\n",
              "      <td>0</td>\n",
              "    </tr>\n",
              "    <tr>\n",
              "      <th>2</th>\n",
              "      <td>2018-08-30 11:21:00</td>\n",
              "      <td>Other</td>\n",
              "      <td>Raccoon</td>\n",
              "      <td>Gray/Black</td>\n",
              "      <td>2018-08-30 14:09:00</td>\n",
              "      <td>Euthanasia</td>\n",
              "      <td>Suffering</td>\n",
              "      <td>2018-08-30</td>\n",
              "      <td>11:21:00</td>\n",
              "      <td>2018-08-30</td>\n",
              "      <td>14:09:00</td>\n",
              "      <td>0</td>\n",
              "    </tr>\n",
              "    <tr>\n",
              "      <th>3</th>\n",
              "      <td>2014-05-09 09:05:00</td>\n",
              "      <td>Other</td>\n",
              "      <td>Raccoon Mix</td>\n",
              "      <td>Gray/Black</td>\n",
              "      <td>2014-05-09 09:53:00</td>\n",
              "      <td>Euthanasia</td>\n",
              "      <td>Suffering</td>\n",
              "      <td>2014-05-09</td>\n",
              "      <td>09:05:00</td>\n",
              "      <td>2014-05-09</td>\n",
              "      <td>09:53:00</td>\n",
              "      <td>0</td>\n",
              "    </tr>\n",
              "    <tr>\n",
              "      <th>4</th>\n",
              "      <td>2015-01-16 16:11:00</td>\n",
              "      <td>Other</td>\n",
              "      <td>Bat Mix</td>\n",
              "      <td>Brown</td>\n",
              "      <td>2015-01-18 09:05:00</td>\n",
              "      <td>Euthanasia</td>\n",
              "      <td>Rabies Risk</td>\n",
              "      <td>2015-01-16</td>\n",
              "      <td>16:11:00</td>\n",
              "      <td>2015-01-18</td>\n",
              "      <td>09:05:00</td>\n",
              "      <td>2</td>\n",
              "    </tr>\n",
              "  </tbody>\n",
              "</table>\n",
              "</div>"
            ],
            "text/plain": [
              "      Intake DateTime Animal Type_x  ... Outcome Time Days to Euth\n",
              "0 2016-03-24 16:39:00         Other  ...     17:17:00            0\n",
              "1 2015-05-19 13:23:00         Other  ...     15:56:00            0\n",
              "2 2018-08-30 11:21:00         Other  ...     14:09:00            0\n",
              "3 2014-05-09 09:05:00         Other  ...     09:53:00            0\n",
              "4 2015-01-16 16:11:00         Other  ...     09:05:00            2\n",
              "\n",
              "[5 rows x 12 columns]"
            ]
          },
          "metadata": {
            "tags": []
          },
          "execution_count": 72
        }
      ]
    },
    {
      "cell_type": "code",
      "metadata": {
        "colab": {
          "base_uri": "https://localhost:8080/"
        },
        "id": "D8wSLK6iYFCT",
        "outputId": "f31de6e9-dadb-446b-f9dc-e186afe1ecd4"
      },
      "source": [
        "euth_other['Days to Euth'].value_counts().sort_index().head(5)"
      ],
      "execution_count": 73,
      "outputs": [
        {
          "output_type": "execute_result",
          "data": {
            "text/plain": [
              "0    2680\n",
              "1    1332\n",
              "2     240\n",
              "3      84\n",
              "4      84\n",
              "Name: Days to Euth, dtype: int64"
            ]
          },
          "metadata": {
            "tags": []
          },
          "execution_count": 73
        }
      ]
    },
    {
      "cell_type": "code",
      "metadata": {
        "colab": {
          "base_uri": "https://localhost:8080/",
          "height": 447
        },
        "id": "lVP1qlpvYEQX",
        "outputId": "9ea5b2f8-477f-450c-cf09-e2136f023943"
      },
      "source": [
        "fig, ax = plt.subplots(figsize=(2, 6))\n",
        "\n",
        "ax.boxplot(x=euth_other['Days to Euth'])\n",
        "\n",
        "ax.set_title('Days at Facility Before\\nEuthenization', fontweight='bold', fontsize=16, pad=15)\n",
        "ax.set_ylabel('Day', fontweight='bold', fontsize=14, labelpad=10)\n",
        "ax.set_xlabel('Other Animals', fontweight='bold', fontsize=14, labelpad=15)\n",
        "ax.set_yticks([0, 50, 100, 150, 200, 250, 300, 350, 400])\n",
        "ax.set_yticklabels(labels=[0, 50, 100, 150, 200, 250, 300, 350, 400], fontsize=12)\n",
        "\n",
        "plt.grid(True)\n",
        "plt.show()"
      ],
      "execution_count": 74,
      "outputs": [
        {
          "output_type": "display_data",
          "data": {
            "image/png": "[encoded data removed]",
            "text/plain": [
              "<Figure size 144x432 with 1 Axes>"
            ]
          },
          "metadata": {
            "tags": [],
            "needs_background": "light"
          }
        }
      ]
    },
    {
      "cell_type": "code",
      "metadata": {
        "colab": {
          "base_uri": "https://localhost:8080/",
          "height": 447
        },
        "id": "pH2BJ4efYj1r",
        "outputId": "53869848-5933-4b42-bc99-6fca708acc07"
      },
      "source": [
        "fig, ax = plt.subplots(figsize=(2, 6))\n",
        "\n",
        "ax.boxplot(x=euth_other['Days to Euth'])\n",
        "\n",
        "ax.set_title('Days at Facility Before\\nEuthenization', fontweight='bold', fontsize=16, pad=15)\n",
        "ax.set_ylabel('Day', fontweight='bold', fontsize=14, labelpad=10)\n",
        "ax.set_xlabel('Other Animals', fontweight='bold', fontsize=14, labelpad=15)\n",
        "ax.set_yticks([0, 2, 4, 6, 8, 10, 12, 14, 16, 18, 20])\n",
        "\n",
        "ax.set_ylim(-1,20)\n",
        "\n",
        "plt.grid(True)\n",
        "plt.show()"
      ],
      "execution_count": 75,
      "outputs": [
        {
          "output_type": "display_data",
          "data": {
            "image/png": "[encoded data removed]",
            "text/plain": [
              "<Figure size 144x432 with 1 Axes>"
            ]
          },
          "metadata": {
            "tags": [],
            "needs_background": "light"
          }
        }
      ]
    },
    {
      "cell_type": "code",
      "metadata": {
        "colab": {
          "base_uri": "https://localhost:8080/",
          "height": 297
        },
        "id": "C6wFLJSTggRo",
        "outputId": "188ba5d3-a3c3-40fe-8c1e-ad2d4b24cbce"
      },
      "source": [
        "euth_other.describe()"
      ],
      "execution_count": 76,
      "outputs": [
        {
          "output_type": "execute_result",
          "data": {
            "text/html": [
              "<div>\n",
              "<style scoped>\n",
              "    .dataframe tbody tr th:only-of-type {\n",
              "        vertical-align: middle;\n",
              "    }\n",
              "\n",
              "    .dataframe tbody tr th {\n",
              "        vertical-align: top;\n",
              "    }\n",
              "\n",
              "    .dataframe thead th {\n",
              "        text-align: right;\n",
              "    }\n",
              "</style>\n",
              "<table border=\"1\" class=\"dataframe\">\n",
              "  <thead>\n",
              "    <tr style=\"text-align: right;\">\n",
              "      <th></th>\n",
              "      <th>Days to Euth</th>\n",
              "    </tr>\n",
              "  </thead>\n",
              "  <tbody>\n",
              "    <tr>\n",
              "      <th>count</th>\n",
              "      <td>4493.000000</td>\n",
              "    </tr>\n",
              "    <tr>\n",
              "      <th>mean</th>\n",
              "      <td>0.896283</td>\n",
              "    </tr>\n",
              "    <tr>\n",
              "      <th>std</th>\n",
              "      <td>8.162307</td>\n",
              "    </tr>\n",
              "    <tr>\n",
              "      <th>min</th>\n",
              "      <td>0.000000</td>\n",
              "    </tr>\n",
              "    <tr>\n",
              "      <th>25%</th>\n",
              "      <td>0.000000</td>\n",
              "    </tr>\n",
              "    <tr>\n",
              "      <th>50%</th>\n",
              "      <td>0.000000</td>\n",
              "    </tr>\n",
              "    <tr>\n",
              "      <th>75%</th>\n",
              "      <td>1.000000</td>\n",
              "    </tr>\n",
              "    <tr>\n",
              "      <th>max</th>\n",
              "      <td>386.000000</td>\n",
              "    </tr>\n",
              "  </tbody>\n",
              "</table>\n",
              "</div>"
            ],
            "text/plain": [
              "       Days to Euth\n",
              "count   4493.000000\n",
              "mean       0.896283\n",
              "std        8.162307\n",
              "min        0.000000\n",
              "25%        0.000000\n",
              "50%        0.000000\n",
              "75%        1.000000\n",
              "max      386.000000"
            ]
          },
          "metadata": {
            "tags": []
          },
          "execution_count": 76
        }
      ]
    },
    {
      "cell_type": "markdown",
      "metadata": {
        "id": "6y4-b9VQaccQ"
      },
      "source": [
        "##Euthanization Comparison Graph Based on Subtypes for \"Other\" Animals"
      ]
    },
    {
      "cell_type": "code",
      "metadata": {
        "colab": {
          "base_uri": "https://localhost:8080/"
        },
        "id": "qeOZ3Xy2aipH",
        "outputId": "79d72d49-66ed-45af-aad1-32cd14715965"
      },
      "source": [
        "euth_other['Outcome Subtype'].value_counts()"
      ],
      "execution_count": 77,
      "outputs": [
        {
          "output_type": "execute_result",
          "data": {
            "text/plain": [
              "Rabies Risk    3482\n",
              "Suffering       623\n",
              "Medical         149\n",
              "Underage         34\n",
              "At Vet           10\n",
              "Aggressive        1\n",
              "Name: Outcome Subtype, dtype: int64"
            ]
          },
          "metadata": {
            "tags": []
          },
          "execution_count": 77
        }
      ]
    },
    {
      "cell_type": "code",
      "metadata": {
        "colab": {
          "base_uri": "https://localhost:8080/"
        },
        "id": "p95lUmn2anZT",
        "outputId": "f58f835f-ca3f-46dd-9d23-0419e286ccd5"
      },
      "source": [
        "euth_other['Outcome Subtype'].isnull().sum()"
      ],
      "execution_count": 78,
      "outputs": [
        {
          "output_type": "execute_result",
          "data": {
            "text/plain": [
              "194"
            ]
          },
          "metadata": {
            "tags": []
          },
          "execution_count": 78
        }
      ]
    },
    {
      "cell_type": "code",
      "metadata": {
        "colab": {
          "base_uri": "https://localhost:8080/",
          "height": 431
        },
        "id": "Ln1NVo9marx-",
        "outputId": "481782b2-14c5-47fa-d1d2-8a6bee6c2a47"
      },
      "source": [
        "other_labels = ['Rabies Risk', 'Suffering', 'At Vet', 'Medical', 'Underage', 'No Subtype', 'Aggressive']\n",
        "other_sizes = (3482, 623, 10, 149, 34, 194, 1)\n",
        "\n",
        "fig, ax = plt.subplots()\n",
        "\n",
        "ax.pie(x=other_sizes, labels=other_labels, radius=2, autopct='%1.1f%%', explode=[0.05, 0, 0, 0, 0, 0, 0], startangle=25,\n",
        "       colors=['royalblue', 'darkorange', 'slateblue', 'limegreen', 'teal', 'grey', 'red'], textprops={'fontsize': 13})\n",
        "      \n",
        "ax.set_title('\"Other\" Animal Euthanization Subtypes', fontweight='bold', y=1.45, loc='center', fontsize=18)\n",
        "\n",
        "plt.show()"
      ],
      "execution_count": 214,
      "outputs": [
        {
          "output_type": "display_data",
          "data": {
            "image/png": "[encoded data removed]",
            "text/plain": [
              "<Figure size 432x288 with 1 Axes>"
            ]
          },
          "metadata": {
            "tags": []
          }
        }
      ]
    },
    {
      "cell_type": "markdown",
      "metadata": {
        "id": "fTVOmV5Aj3ml"
      },
      "source": [
        "##Euthanization Comparison Graph Based on Subtype for Dogs"
      ]
    },
    {
      "cell_type": "code",
      "metadata": {
        "colab": {
          "base_uri": "https://localhost:8080/"
        },
        "id": "IZGr0JjGj7hY",
        "outputId": "9372c7d3-ded8-410e-ab19-3cb5235b9dc6"
      },
      "source": [
        "euth_dogs['Outcome Subtype'].value_counts()"
      ],
      "execution_count": 80,
      "outputs": [
        {
          "output_type": "execute_result",
          "data": {
            "text/plain": [
              "Suffering              889\n",
              "Aggressive             683\n",
              "Behavior               183\n",
              "Rabies Risk            114\n",
              "Medical                 79\n",
              "At Vet                  65\n",
              "Court/Investigation     52\n",
              "Name: Outcome Subtype, dtype: int64"
            ]
          },
          "metadata": {
            "tags": []
          },
          "execution_count": 80
        }
      ]
    },
    {
      "cell_type": "code",
      "metadata": {
        "colab": {
          "base_uri": "https://localhost:8080/"
        },
        "id": "zumDt08rV_jZ",
        "outputId": "23a3c1ca-e8a4-4a1e-c75e-7dafaf3aac32"
      },
      "source": [
        "euth_dogs['Outcome Subtype'].isnull().sum()"
      ],
      "execution_count": 81,
      "outputs": [
        {
          "output_type": "execute_result",
          "data": {
            "text/plain": [
              "13"
            ]
          },
          "metadata": {
            "tags": []
          },
          "execution_count": 81
        }
      ]
    },
    {
      "cell_type": "code",
      "metadata": {
        "colab": {
          "base_uri": "https://localhost:8080/",
          "height": 436
        },
        "id": "BBwUIQqaWF50",
        "outputId": "8990a7c7-caa4-4984-8195-96595c1206ab"
      },
      "source": [
        "dog_labels = ['Suffering', 'Aggressive', 'No Subtype', 'Behavior', 'Rabies Risk', 'Medical', 'At Vet', 'Court/Investigation']\n",
        "dog_sizes = (890, 683, 13, 183, 114, 79, 65, 52)\n",
        "\n",
        "fig, ax = plt.subplots()\n",
        "\n",
        "ax.pie(x=dog_sizes, labels=dog_labels, radius=2, autopct='%1.1f%%', explode=[0.05, 0.05, 0, 0, 0, 0, 0, 0], startangle=25, \n",
        "       colors=['darkorange', 'red', 'grey', 'gold', 'royalblue', 'limegreen', 'slateblue', 'hotpink'], textprops={'fontsize': 13})\n",
        "ax.set_title('Dog Euthanization Subtypes', fontweight='bold', y=1.45, loc='center', fontsize=18)\n",
        "\n",
        "plt.show()"
      ],
      "execution_count": 217,
      "outputs": [
        {
          "output_type": "display_data",
          "data": {
            "image/png": "[encoded data removed]",
            "text/plain": [
              "<Figure size 432x288 with 1 Axes>"
            ]
          },
          "metadata": {
            "tags": []
          }
        }
      ]
    },
    {
      "cell_type": "markdown",
      "metadata": {
        "id": "5MUpJ3Gh8m3V"
      },
      "source": [
        "##Euthanization Comparison Graph Based on Subtype for Cats"
      ]
    },
    {
      "cell_type": "code",
      "metadata": {
        "colab": {
          "base_uri": "https://localhost:8080/"
        },
        "id": "EGtB3cin8o5Z",
        "outputId": "ac54b4eb-4db3-4d90-cddd-862d5c80b2a4"
      },
      "source": [
        "euth_cats['Outcome Subtype'].value_counts()"
      ],
      "execution_count": 83,
      "outputs": [
        {
          "output_type": "execute_result",
          "data": {
            "text/plain": [
              "Suffering      1693\n",
              "At Vet          103\n",
              "Rabies Risk      87\n",
              "Medical          74\n",
              "Aggressive        4\n",
              "Underage          1\n",
              "Name: Outcome Subtype, dtype: int64"
            ]
          },
          "metadata": {
            "tags": []
          },
          "execution_count": 83
        }
      ]
    },
    {
      "cell_type": "code",
      "metadata": {
        "colab": {
          "base_uri": "https://localhost:8080/"
        },
        "id": "9XYW-mkGZEfF",
        "outputId": "3ffbf86b-821f-4426-9808-b8c7d0ee661f"
      },
      "source": [
        "euth_cats['Outcome Subtype'].isnull().sum()"
      ],
      "execution_count": 84,
      "outputs": [
        {
          "output_type": "execute_result",
          "data": {
            "text/plain": [
              "16"
            ]
          },
          "metadata": {
            "tags": []
          },
          "execution_count": 84
        }
      ]
    },
    {
      "cell_type": "code",
      "metadata": {
        "colab": {
          "base_uri": "https://localhost:8080/",
          "height": 432
        },
        "id": "4dpm-D4OZJCa",
        "outputId": "94a87d70-1cb0-4e9f-a499-9b4bcdf16ce2"
      },
      "source": [
        "cat_labels = ['Suffering', 'Aggressive', 'At Vet', 'Rabies Risk', 'Underage', 'Medical', 'No Subtype']\n",
        "cat_sizes = (1693, 4, 103, 87, 1, 74, 16)\n",
        "\n",
        "fig, ax = plt.subplots()\n",
        "\n",
        "ax.pie(x=cat_sizes, labels=cat_labels, radius=2, autopct='%1.1f%%', explode=[0.05, 0.05, 0, 0, 0, 0, 0], startangle=25,\n",
        "       colors=['darkorange', 'red', 'slateblue', 'royalblue', 'teal', 'limegreen', 'grey'], textprops={'fontsize':13})\n",
        "ax.set_title('Cat Euthanization Subtypes', fontweight='bold', y=1.45, loc='center', fontsize=18)\n",
        "\n",
        "plt.show()"
      ],
      "execution_count": 219,
      "outputs": [
        {
          "output_type": "display_data",
          "data": {
            "image/png": "[encoded data removed]",
            "text/plain": [
              "<Figure size 432x288 with 1 Axes>"
            ]
          },
          "metadata": {
            "tags": []
          }
        }
      ]
    },
    {
      "cell_type": "markdown",
      "metadata": {
        "id": "UIVNbY3y_nuW"
      },
      "source": [
        "##Euthanization Subtype Pie Graph Comparing Dogs and Cats"
      ]
    },
    {
      "cell_type": "code",
      "metadata": {
        "colab": {
          "base_uri": "https://localhost:8080/",
          "height": 426
        },
        "id": "W5Fi_7UH_4MS",
        "outputId": "31f21bb3-1b80-41d7-f546-8537616692d7"
      },
      "source": [
        "dog_labels = ['Suffering', 'Aggressive', 'Behavior', 'Rabies Risk', 'Medical', 'At Vet', 'Court/Investigation', 'No Subtype']\n",
        "dog_sizes = (890, 683, 183, 114, 79, 65, 52, 13)\n",
        "\n",
        "cat_labels = ['Suffering', 'Aggressive', 'At Vet', 'Rabies Risk', 'Underage', 'Medical', 'No Subtype']\n",
        "cat_sizes = (1693, 4, 103, 87, 1, 74, 16)\n",
        "\n",
        "\n",
        "fig, (ax1, ax2) = plt.subplots(1, 2, figsize=(20, 20))\n",
        "\n",
        "ax1.pie(x=dog_sizes, labels=dog_labels, radius=2, autopct='%1.1f%%', explode=[0.05, 0.05, 0, 0, 0, 0, 0, 0], startangle=25, \n",
        "       colors=['darkorange', 'red', 'grey', 'gold', 'royalblue', 'limegreen', 'slateblue', 'hotpink'], textprops={'fontsize': 13})\n",
        "ax1.set_title('Dog Euthanization Subtypes', fontweight='bold', y=1.45, loc='center', fontsize=18)\n",
        "\n",
        "\n",
        "ax2.pie(x=cat_sizes, labels=cat_labels, radius=2, autopct='%1.1f%%', explode=[0.05, 0.05, 0, 0, 0, 0, 0], startangle=25,\n",
        "       colors=['darkorange', 'red', 'slateblue', 'royalblue', 'teal', 'limegreen', 'grey'], textprops={'fontsize':13})\n",
        "ax2.set_title('Cat Euthanization Subtypes', fontweight='bold', y=1.45, loc='center', fontsize=18)\n",
        "\n",
        "\n",
        "plt.tight_layout()\n",
        "plt.show()"
      ],
      "execution_count": 232,
      "outputs": [
        {
          "output_type": "display_data",
          "data": {
            "image/png": "[encoded data removed]",
            "text/plain": [
              "<Figure size 1440x1440 with 2 Axes>"
            ]
          },
          "metadata": {
            "tags": []
          }
        }
      ]
    },
    {
      "cell_type": "markdown",
      "metadata": {
        "id": "BSqP4acVdZeM"
      },
      "source": [
        "##Are 90% of animals not euthanized? Do they go to a home?"
      ]
    },
    {
      "cell_type": "code",
      "metadata": {
        "colab": {
          "base_uri": "https://localhost:8080/",
          "height": 142
        },
        "id": "ktivBrA53qdk",
        "outputId": "4eb29b20-3338-4c26-8680-46b786721891"
      },
      "source": [
        "outcome_no_index = outcome.drop('index', axis=1)\n",
        "outcome_no_index.head(3)"
      ],
      "execution_count": 88,
      "outputs": [
        {
          "output_type": "execute_result",
          "data": {
            "text/html": [
              "<div>\n",
              "<style scoped>\n",
              "    .dataframe tbody tr th:only-of-type {\n",
              "        vertical-align: middle;\n",
              "    }\n",
              "\n",
              "    .dataframe tbody tr th {\n",
              "        vertical-align: top;\n",
              "    }\n",
              "\n",
              "    .dataframe thead th {\n",
              "        text-align: right;\n",
              "    }\n",
              "</style>\n",
              "<table border=\"1\" class=\"dataframe\">\n",
              "  <thead>\n",
              "    <tr style=\"text-align: right;\">\n",
              "      <th></th>\n",
              "      <th>Outcome Type</th>\n",
              "    </tr>\n",
              "  </thead>\n",
              "  <tbody>\n",
              "    <tr>\n",
              "      <th>0</th>\n",
              "      <td>Return to Owner</td>\n",
              "    </tr>\n",
              "    <tr>\n",
              "      <th>1</th>\n",
              "      <td>Return to Owner</td>\n",
              "    </tr>\n",
              "    <tr>\n",
              "      <th>2</th>\n",
              "      <td>Transfer</td>\n",
              "    </tr>\n",
              "  </tbody>\n",
              "</table>\n",
              "</div>"
            ],
            "text/plain": [
              "      Outcome Type\n",
              "0  Return to Owner\n",
              "1  Return to Owner\n",
              "2         Transfer"
            ]
          },
          "metadata": {
            "tags": []
          },
          "execution_count": 88
        }
      ]
    },
    {
      "cell_type": "code",
      "metadata": {
        "colab": {
          "base_uri": "https://localhost:8080/"
        },
        "id": "JSKGUa9V30-A",
        "outputId": "3c8c44aa-9ad8-457a-bef9-f040dfe1cbdd"
      },
      "source": [
        "outcome_no_index.isnull().sum()"
      ],
      "execution_count": 89,
      "outputs": [
        {
          "output_type": "execute_result",
          "data": {
            "text/plain": [
              "Outcome Type    16\n",
              "dtype: int64"
            ]
          },
          "metadata": {
            "tags": []
          },
          "execution_count": 89
        }
      ]
    },
    {
      "cell_type": "code",
      "metadata": {
        "colab": {
          "base_uri": "https://localhost:8080/",
          "height": 373
        },
        "id": "ZfG9-nxE4B-d",
        "outputId": "37b1313e-04b5-4ab9-801f-0b3a1e40701a"
      },
      "source": [
        "fig, ax = plt.subplots()\n",
        "\n",
        "plt.bar(x=['Adoption', 'Transfer', 'Return to Owner', 'Euthanize', 'RTO Adoption', 'Died', 'Disposal', 'Missing', 'Relocate'],\n",
        "        height=animal_shelter['Outcome Type'].value_counts())\n",
        "\n",
        "plt.xlabel('Outcome Type', fontweight=\"bold\", fontsize=14, labelpad=15)\n",
        "plt.ylabel('Number of Animals', fontweight=\"bold\", fontsize=14, labelpad=15)\n",
        "plt.title('AAC Outcomes for Animals\\nthat Entered Facility', fontweight='bold', fontsize=18, pad=15)\n",
        "\n",
        "ax.set_yticks([0, 10000, 20000, 30000, 40000, 50000, 60000, 70000])\n",
        "ax.set_yticks([5000, 15000, 25000, 35000, 45000, 55000, 65000], minor=True)\n",
        "\n",
        "ax.set_xticklabels(labels=['Adoption', 'Transfer', 'Return to Owner', 'Euthanize', 'RTO Adoption', 'Died', 'Disposal', 'Missing', 'Relocate'],\n",
        "                   fontsize=12)\n",
        "ax.set_yticklabels(labels=[0, 10000, 20000, 30000, 40000, 50000, 60000, 70000], fontsize=12)\n",
        "\n",
        "fig.autofmt_xdate()\n",
        "\n",
        "plt.show()"
      ],
      "execution_count": 135,
      "outputs": [
        {
          "output_type": "display_data",
          "data": {
            "image/png": "[encoded data removed]",
            "text/plain": [
              "<Figure size 432x288 with 1 Axes>"
            ]
          },
          "metadata": {
            "tags": [],
            "needs_background": "light"
          }
        }
      ]
    },
    {
      "cell_type": "code",
      "metadata": {
        "colab": {
          "base_uri": "https://localhost:8080/"
        },
        "id": "PcB8M9kcXT5w",
        "outputId": "e40b1da1-8fb9-4a53-acbd-f3b5124cfb91"
      },
      "source": [
        "outcome_no_index.value_counts()"
      ],
      "execution_count": 91,
      "outputs": [
        {
          "output_type": "execute_result",
          "data": {
            "text/plain": [
              "Outcome Type   \n",
              "Adoption           71803\n",
              "Transfer           39824\n",
              "Return to Owner    35793\n",
              "Euthanasia          8668\n",
              "Rto-Adopt           1312\n",
              "Died                1187\n",
              "Disposal             566\n",
              "Missing               91\n",
              "Relocate              20\n",
              "dtype: int64"
            ]
          },
          "metadata": {
            "tags": []
          },
          "execution_count": 91
        }
      ]
    },
    {
      "cell_type": "code",
      "metadata": {
        "colab": {
          "base_uri": "https://localhost:8080/"
        },
        "id": "pFKNHuyw36K3",
        "outputId": "b632e21a-d155-4392-ebf0-4e0e9c0ae139"
      },
      "source": [
        "outcome_no_index.value_counts().sum() + outcome_no_index.isnull().sum()"
      ],
      "execution_count": 92,
      "outputs": [
        {
          "output_type": "execute_result",
          "data": {
            "text/plain": [
              "Outcome Type    159280\n",
              "dtype: int64"
            ]
          },
          "metadata": {
            "tags": []
          },
          "execution_count": 92
        }
      ]
    },
    {
      "cell_type": "code",
      "metadata": {
        "id": "KHnVGaJE4swc"
      },
      "source": [
        "#For comparison purposes, I will find out what percent are not euthenized AND what percent have died in general (euthenization, died at facility, \n",
        "#and disposal)\n",
        "#I will also find out what percent are adopted and returned to their owner."
      ],
      "execution_count": 93,
      "outputs": []
    },
    {
      "cell_type": "code",
      "metadata": {
        "id": "s9Q8VLBDVL1Z"
      },
      "source": [
        "def percentage(a, b):\n",
        "    return round(a / b * 100, 2)"
      ],
      "execution_count": 122,
      "outputs": []
    },
    {
      "cell_type": "code",
      "metadata": {
        "colab": {
          "base_uri": "https://localhost:8080/"
        },
        "id": "AY5fhni5C1Y1",
        "outputId": "edda816d-11c9-478d-e1e8-bb7e157ed07c"
      },
      "source": [
        "#Percentage of all euthanizations\n",
        "percentage(8668, 159280)"
      ],
      "execution_count": 123,
      "outputs": [
        {
          "output_type": "execute_result",
          "data": {
            "text/plain": [
              "5.44"
            ]
          },
          "metadata": {
            "tags": []
          },
          "execution_count": 123
        }
      ]
    },
    {
      "cell_type": "code",
      "metadata": {
        "colab": {
          "base_uri": "https://localhost:8080/"
        },
        "id": "O2tzBzU4Xk9v",
        "outputId": "f71b4349-a5f8-48eb-f77d-8bbd3ff2cdb0"
      },
      "source": [
        "#Percentage of all generalized \"died\" - died, disposal, and euthanized\n",
        "general_died = 1187 + 566 + 8668\n",
        "percentage(general_died, 159280)"
      ],
      "execution_count": 124,
      "outputs": [
        {
          "output_type": "execute_result",
          "data": {
            "text/plain": [
              "6.54"
            ]
          },
          "metadata": {
            "tags": []
          },
          "execution_count": 124
        }
      ]
    },
    {
      "cell_type": "code",
      "metadata": {
        "colab": {
          "base_uri": "https://localhost:8080/"
        },
        "id": "vRqto-b87x1a",
        "outputId": "79f9641d-14ae-4b33-ec51-8bfe7f35b722"
      },
      "source": [
        "#Percent that have not generally died\n",
        "100 - 6.54"
      ],
      "execution_count": 125,
      "outputs": [
        {
          "output_type": "execute_result",
          "data": {
            "text/plain": [
              "93.46"
            ]
          },
          "metadata": {
            "tags": []
          },
          "execution_count": 125
        }
      ]
    },
    {
      "cell_type": "code",
      "metadata": {
        "colab": {
          "base_uri": "https://localhost:8080/"
        },
        "id": "g9L_BzW4XNRO",
        "outputId": "ca797f35-c103-4fe2-cb67-21ea93911fa7"
      },
      "source": [
        "#Percentage of just Adoption + RTO adopt\n",
        "percentage((71803+1312), 159280)"
      ],
      "execution_count": 126,
      "outputs": [
        {
          "output_type": "execute_result",
          "data": {
            "text/plain": [
              "45.9"
            ]
          },
          "metadata": {
            "tags": []
          },
          "execution_count": 126
        }
      ]
    },
    {
      "cell_type": "code",
      "metadata": {
        "colab": {
          "base_uri": "https://localhost:8080/"
        },
        "id": "lDkedqgMY6ve",
        "outputId": "06b8657c-c666-430b-8c9d-a9560af37f18"
      },
      "source": [
        "#Percentage of adoption, return to owner, and rto-adopt\n",
        "any_adoption = 71803 + 35793 + 1312\n",
        "percentage(any_adoption, 159280)"
      ],
      "execution_count": 127,
      "outputs": [
        {
          "output_type": "execute_result",
          "data": {
            "text/plain": [
              "68.38"
            ]
          },
          "metadata": {
            "tags": []
          },
          "execution_count": 127
        }
      ]
    },
    {
      "cell_type": "code",
      "metadata": {
        "colab": {
          "base_uri": "https://localhost:8080/"
        },
        "id": "CaLiBmTfDCt7",
        "outputId": "dff80310-cc18-4bc5-c92d-97028843cccc"
      },
      "source": [
        "#Percent of transfers\n",
        "percentage(39824, 159280)"
      ],
      "execution_count": 128,
      "outputs": [
        {
          "output_type": "execute_result",
          "data": {
            "text/plain": [
              "25.0"
            ]
          },
          "metadata": {
            "tags": []
          },
          "execution_count": 128
        }
      ]
    },
    {
      "cell_type": "code",
      "metadata": {
        "colab": {
          "base_uri": "https://localhost:8080/"
        },
        "id": "k1OG0EHeDp5g",
        "outputId": "9cafcefa-0f7d-4e7e-a101-a4d3a8e27931"
      },
      "source": [
        "#Percent of missing and relocated\n",
        "percentage((20 + 91), 159280)"
      ],
      "execution_count": 129,
      "outputs": [
        {
          "output_type": "execute_result",
          "data": {
            "text/plain": [
              "0.07"
            ]
          },
          "metadata": {
            "tags": []
          },
          "execution_count": 129
        }
      ]
    },
    {
      "cell_type": "code",
      "metadata": {
        "colab": {
          "base_uri": "https://localhost:8080/"
        },
        "id": "pOpjh2SLYtls",
        "outputId": "41e9c4b6-13d9-40f1-c8b6-766a8640c387"
      },
      "source": [
        "#Percentage of all other outcomes besides euthanasia\n",
        "all_not_euth = 159280 - 8668\n",
        "percentage(all_not_euth, 159280)"
      ],
      "execution_count": 133,
      "outputs": [
        {
          "output_type": "execute_result",
          "data": {
            "text/plain": [
              "94.56"
            ]
          },
          "metadata": {
            "tags": []
          },
          "execution_count": 133
        }
      ]
    },
    {
      "cell_type": "code",
      "metadata": {
        "colab": {
          "base_uri": "https://localhost:8080/"
        },
        "id": "-ZVwkOFwmyc5",
        "outputId": "22e95626-89a5-454c-e4eb-0f9d0ef47122"
      },
      "source": [
        "#Animals \"Killed\" as described by Best Friends Animal Society\n",
        "#\"Sum of each shelter's non-live outcomes [(Died in Care) + (Lost in Care) + (Shelter Deaths)] - 10% of total intake\"\n",
        "died = general_died + 91\n",
        "ten_perc_intake = 123365 * .10\n",
        "non_live_outcomes = died - ten_perc_intake\n",
        "non_live_outcomes"
      ],
      "execution_count": 131,
      "outputs": [
        {
          "output_type": "execute_result",
          "data": {
            "text/plain": [
              "-1824.5"
            ]
          },
          "metadata": {
            "tags": []
          },
          "execution_count": 131
        }
      ]
    },
    {
      "cell_type": "code",
      "metadata": {
        "id": "OmrLmMvzFnGz"
      },
      "source": [
        "#Best friends Animal Society, the no-kill gap\n",
        "#(Died in Care + Lost in Care + Shelter Deaths*) – (Live Intakes *10%)\n"
      ],
      "execution_count": null,
      "outputs": []
    },
    {
      "cell_type": "code",
      "metadata": {
        "colab": {
          "base_uri": "https://localhost:8080/"
        },
        "id": "fLWJ7VQWqOlx",
        "outputId": "8080815d-9de0-41e5-e290-fa4cbd7d21e7"
      },
      "source": [
        "#Percent of Animals saves via Best Friends Animal Society\n",
        "#[(Live Intakes) - (Lost in Care) - (Shelter Deaths*)] divided by (Live Intakes)\n",
        "(123365 - died)/123365 * 100"
      ],
      "execution_count": 134,
      "outputs": [
        {
          "output_type": "execute_result",
          "data": {
            "text/plain": [
              "91.47894459530661"
            ]
          },
          "metadata": {
            "tags": []
          },
          "execution_count": 134
        }
      ]
    },
    {
      "cell_type": "code",
      "metadata": {
        "colab": {
          "base_uri": "https://localhost:8080/",
          "height": 277
        },
        "id": "sm7d7gaAmTYC",
        "outputId": "26f13b88-25c9-4dc6-a209-588a16ab1f70"
      },
      "source": [
        "data_matrix = [['Type of Outcome', 'Percent (%)'],\n",
        "               ['All Adoptions', '45.9'],\n",
        "               ['All Adoptions + Returned to Owner', '68.38'],\n",
        "               ['Transfers', '25'],\n",
        "               ['Died', '6.54'],\n",
        "               ['Euthanasia', '5.44'],\n",
        "               ['Missing + Relocated', '0.07']]\n",
        "\n",
        "fig =  ff.create_table(data_matrix )\n",
        "fig.update_layout(width=550)\n",
        "fig = go.Figure(data=[go.Table(header=dict(values=['Dogs', 'Cats', 'Birds', 'Livestock', 'Other']),\n",
        "                               cells=dict(values=[[2079], [1978], [117], [1], [4493]])), \n",
        "                     ])\n",
        "fig.update_layout(width=600, title='Animal Types at the Facility Euthanized')\n",
        "\n",
        "fig.show()fig.show()"
      ],
      "execution_count": 242,
      "outputs": [
        {
          "output_type": "display_data",
          "data": {
            "text/html": [
              "<html>\n",
              "<head><meta charset=\"utf-8\" /></head>\n",
              "<body>\n",
              "    <div>\n",
              "            <script src=\"https://cdnjs.cloudflare.com/ajax/libs/mathjax/2.7.5/MathJax.js?config=TeX-AMS-MML_SVG\"></script><script type=\"text/javascript\">if (window.MathJax) {MathJax.Hub.Config({SVG: {font: \"STIX-Web\"}});}</script>\n",
              "                <script type=\"text/javascript\">window.PlotlyConfig = {MathJaxConfig: 'local'};</script>\n",
              "        <script src=\"https://cdn.plot.ly/plotly-latest.min.js\"></script>    \n",
              "            <div id=\"4ce3254f-3429-49de-a014-dac372743897\" class=\"plotly-graph-div\" style=\"height:260px; width:550px;\"></div>\n",
              "            <script type=\"text/javascript\">\n",
              "                \n",
              "                    window.PLOTLYENV=window.PLOTLYENV || {};\n",
              "                    \n",
              "                if (document.getElementById(\"4ce3254f-3429-49de-a014-dac372743897\")) {\n",
              "                    Plotly.newPlot(\n",
              "                        '4ce3254f-3429-49de-a014-dac372743897',\n",
              "                        [{\"colorscale\": [[0, \"#00083e\"], [0.5, \"#ededee\"], [1, \"#ffffff\"]], \"hoverinfo\": \"none\", \"opacity\": 0.75, \"showscale\": false, \"type\": \"heatmap\", \"z\": [[0, 0], [0.5, 0.5], [1, 1], [0.5, 0.5], [1, 1], [0.5, 0.5], [1, 1]]}],\n",
              "                        {\"annotations\": [{\"align\": \"left\", \"font\": {\"color\": \"#ffffff\"}, \"showarrow\": false, \"text\": \"<b>Type of Outcome</b>\", \"x\": -0.45, \"xanchor\": \"left\", \"xref\": \"x\", \"y\": 0, \"yref\": \"y\"}, {\"align\": \"left\", \"font\": {\"color\": \"#ffffff\"}, \"showarrow\": false, \"text\": \"<b>Percent (%)</b>\", \"x\": 0.55, \"xanchor\": \"left\", \"xref\": \"x\", \"y\": 0, \"yref\": \"y\"}, {\"align\": \"left\", \"font\": {\"color\": \"#000000\"}, \"showarrow\": false, \"text\": \"All Adoptions\", \"x\": -0.45, \"xanchor\": \"left\", \"xref\": \"x\", \"y\": 1, \"yref\": \"y\"}, {\"align\": \"left\", \"font\": {\"color\": \"#000000\"}, \"showarrow\": false, \"text\": \"45.9\", \"x\": 0.55, \"xanchor\": \"left\", \"xref\": \"x\", \"y\": 1, \"yref\": \"y\"}, {\"align\": \"left\", \"font\": {\"color\": \"#000000\"}, \"showarrow\": false, \"text\": \"All Adoptions + Returned to Owner\", \"x\": -0.45, \"xanchor\": \"left\", \"xref\": \"x\", \"y\": 2, \"yref\": \"y\"}, {\"align\": \"left\", \"font\": {\"color\": \"#000000\"}, \"showarrow\": false, \"text\": \"68.38\", \"x\": 0.55, \"xanchor\": \"left\", \"xref\": \"x\", \"y\": 2, \"yref\": \"y\"}, {\"align\": \"left\", \"font\": {\"color\": \"#000000\"}, \"showarrow\": false, \"text\": \"Transfers\", \"x\": -0.45, \"xanchor\": \"left\", \"xref\": \"x\", \"y\": 3, \"yref\": \"y\"}, {\"align\": \"left\", \"font\": {\"color\": \"#000000\"}, \"showarrow\": false, \"text\": \"25\", \"x\": 0.55, \"xanchor\": \"left\", \"xref\": \"x\", \"y\": 3, \"yref\": \"y\"}, {\"align\": \"left\", \"font\": {\"color\": \"#000000\"}, \"showarrow\": false, \"text\": \"Died\", \"x\": -0.45, \"xanchor\": \"left\", \"xref\": \"x\", \"y\": 4, \"yref\": \"y\"}, {\"align\": \"left\", \"font\": {\"color\": \"#000000\"}, \"showarrow\": false, \"text\": \"6.54\", \"x\": 0.55, \"xanchor\": \"left\", \"xref\": \"x\", \"y\": 4, \"yref\": \"y\"}, {\"align\": \"left\", \"font\": {\"color\": \"#000000\"}, \"showarrow\": false, \"text\": \"Euthanasia\", \"x\": -0.45, \"xanchor\": \"left\", \"xref\": \"x\", \"y\": 5, \"yref\": \"y\"}, {\"align\": \"left\", \"font\": {\"color\": \"#000000\"}, \"showarrow\": false, \"text\": \"5.44\", \"x\": 0.55, \"xanchor\": \"left\", \"xref\": \"x\", \"y\": 5, \"yref\": \"y\"}, {\"align\": \"left\", \"font\": {\"color\": \"#000000\"}, \"showarrow\": false, \"text\": \"Missing + Relocated\", \"x\": -0.45, \"xanchor\": \"left\", \"xref\": \"x\", \"y\": 6, \"yref\": \"y\"}, {\"align\": \"left\", \"font\": {\"color\": \"#000000\"}, \"showarrow\": false, \"text\": \"0.07\", \"x\": 0.55, \"xanchor\": \"left\", \"xref\": \"x\", \"y\": 6, \"yref\": \"y\"}], \"height\": 260, \"margin\": {\"b\": 0, \"l\": 0, \"r\": 0, \"t\": 0}, \"template\": {\"data\": {\"bar\": [{\"error_x\": {\"color\": \"#2a3f5f\"}, \"error_y\": {\"color\": \"#2a3f5f\"}, \"marker\": {\"line\": {\"color\": \"#E5ECF6\", \"width\": 0.5}}, \"type\": \"bar\"}], \"barpolar\": [{\"marker\": {\"line\": {\"color\": \"#E5ECF6\", \"width\": 0.5}}, \"type\": \"barpolar\"}], \"carpet\": [{\"aaxis\": {\"endlinecolor\": \"#2a3f5f\", \"gridcolor\": \"white\", \"linecolor\": \"white\", \"minorgridcolor\": \"white\", \"startlinecolor\": \"#2a3f5f\"}, \"baxis\": {\"endlinecolor\": \"#2a3f5f\", \"gridcolor\": \"white\", \"linecolor\": \"white\", \"minorgridcolor\": \"white\", \"startlinecolor\": \"#2a3f5f\"}, \"type\": \"carpet\"}], \"choropleth\": [{\"colorbar\": {\"outlinewidth\": 0, \"ticks\": \"\"}, \"type\": \"choropleth\"}], \"contour\": [{\"colorbar\": {\"outlinewidth\": 0, \"ticks\": \"\"}, \"colorscale\": [[0.0, \"#0d0887\"], [0.1111111111111111, \"#46039f\"], [0.2222222222222222, \"#7201a8\"], [0.3333333333333333, \"#9c179e\"], [0.4444444444444444, \"#bd3786\"], [0.5555555555555556, \"#d8576b\"], [0.6666666666666666, \"#ed7953\"], [0.7777777777777778, \"#fb9f3a\"], [0.8888888888888888, \"#fdca26\"], [1.0, \"#f0f921\"]], \"type\": \"contour\"}], \"contourcarpet\": [{\"colorbar\": {\"outlinewidth\": 0, \"ticks\": \"\"}, \"type\": \"contourcarpet\"}], \"heatmap\": [{\"colorbar\": {\"outlinewidth\": 0, \"ticks\": \"\"}, \"colorscale\": [[0.0, \"#0d0887\"], [0.1111111111111111, \"#46039f\"], [0.2222222222222222, \"#7201a8\"], [0.3333333333333333, \"#9c179e\"], [0.4444444444444444, \"#bd3786\"], [0.5555555555555556, \"#d8576b\"], [0.6666666666666666, \"#ed7953\"], [0.7777777777777778, \"#fb9f3a\"], [0.8888888888888888, \"#fdca26\"], [1.0, \"#f0f921\"]], \"type\": \"heatmap\"}], \"heatmapgl\": [{\"colorbar\": {\"outlinewidth\": 0, \"ticks\": \"\"}, \"colorscale\": [[0.0, \"#0d0887\"], [0.1111111111111111, \"#46039f\"], [0.2222222222222222, \"#7201a8\"], [0.3333333333333333, \"#9c179e\"], [0.4444444444444444, \"#bd3786\"], [0.5555555555555556, \"#d8576b\"], [0.6666666666666666, \"#ed7953\"], [0.7777777777777778, \"#fb9f3a\"], [0.8888888888888888, \"#fdca26\"], [1.0, \"#f0f921\"]], \"type\": \"heatmapgl\"}], \"histogram\": [{\"marker\": {\"colorbar\": {\"outlinewidth\": 0, \"ticks\": \"\"}}, \"type\": \"histogram\"}], \"histogram2d\": [{\"colorbar\": {\"outlinewidth\": 0, \"ticks\": \"\"}, \"colorscale\": [[0.0, \"#0d0887\"], [0.1111111111111111, \"#46039f\"], [0.2222222222222222, \"#7201a8\"], [0.3333333333333333, \"#9c179e\"], [0.4444444444444444, \"#bd3786\"], [0.5555555555555556, \"#d8576b\"], [0.6666666666666666, \"#ed7953\"], [0.7777777777777778, \"#fb9f3a\"], [0.8888888888888888, \"#fdca26\"], [1.0, \"#f0f921\"]], \"type\": \"histogram2d\"}], \"histogram2dcontour\": [{\"colorbar\": {\"outlinewidth\": 0, \"ticks\": \"\"}, \"colorscale\": [[0.0, \"#0d0887\"], [0.1111111111111111, \"#46039f\"], [0.2222222222222222, \"#7201a8\"], [0.3333333333333333, \"#9c179e\"], [0.4444444444444444, \"#bd3786\"], [0.5555555555555556, \"#d8576b\"], [0.6666666666666666, \"#ed7953\"], [0.7777777777777778, \"#fb9f3a\"], [0.8888888888888888, \"#fdca26\"], [1.0, \"#f0f921\"]], \"type\": \"histogram2dcontour\"}], \"mesh3d\": [{\"colorbar\": {\"outlinewidth\": 0, \"ticks\": \"\"}, \"type\": \"mesh3d\"}], \"parcoords\": [{\"line\": {\"colorbar\": {\"outlinewidth\": 0, \"ticks\": \"\"}}, \"type\": \"parcoords\"}], \"pie\": [{\"automargin\": true, \"type\": \"pie\"}], \"scatter\": [{\"marker\": {\"colorbar\": {\"outlinewidth\": 0, \"ticks\": \"\"}}, \"type\": \"scatter\"}], \"scatter3d\": [{\"line\": {\"colorbar\": {\"outlinewidth\": 0, \"ticks\": \"\"}}, \"marker\": {\"colorbar\": {\"outlinewidth\": 0, \"ticks\": \"\"}}, \"type\": \"scatter3d\"}], \"scattercarpet\": [{\"marker\": {\"colorbar\": {\"outlinewidth\": 0, \"ticks\": \"\"}}, \"type\": \"scattercarpet\"}], \"scattergeo\": [{\"marker\": {\"colorbar\": {\"outlinewidth\": 0, \"ticks\": \"\"}}, \"type\": \"scattergeo\"}], \"scattergl\": [{\"marker\": {\"colorbar\": {\"outlinewidth\": 0, \"ticks\": \"\"}}, \"type\": \"scattergl\"}], \"scattermapbox\": [{\"marker\": {\"colorbar\": {\"outlinewidth\": 0, \"ticks\": \"\"}}, \"type\": \"scattermapbox\"}], \"scatterpolar\": [{\"marker\": {\"colorbar\": {\"outlinewidth\": 0, \"ticks\": \"\"}}, \"type\": \"scatterpolar\"}], \"scatterpolargl\": [{\"marker\": {\"colorbar\": {\"outlinewidth\": 0, \"ticks\": \"\"}}, \"type\": \"scatterpolargl\"}], \"scatterternary\": [{\"marker\": {\"colorbar\": {\"outlinewidth\": 0, \"ticks\": \"\"}}, \"type\": \"scatterternary\"}], \"surface\": [{\"colorbar\": {\"outlinewidth\": 0, \"ticks\": \"\"}, \"colorscale\": [[0.0, \"#0d0887\"], [0.1111111111111111, \"#46039f\"], [0.2222222222222222, \"#7201a8\"], [0.3333333333333333, \"#9c179e\"], [0.4444444444444444, \"#bd3786\"], [0.5555555555555556, \"#d8576b\"], [0.6666666666666666, \"#ed7953\"], [0.7777777777777778, \"#fb9f3a\"], [0.8888888888888888, \"#fdca26\"], [1.0, \"#f0f921\"]], \"type\": \"surface\"}], \"table\": [{\"cells\": {\"fill\": {\"color\": \"#EBF0F8\"}, \"line\": {\"color\": \"white\"}}, \"header\": {\"fill\": {\"color\": \"#C8D4E3\"}, \"line\": {\"color\": \"white\"}}, \"type\": \"table\"}]}, \"layout\": {\"annotationdefaults\": {\"arrowcolor\": \"#2a3f5f\", \"arrowhead\": 0, \"arrowwidth\": 1}, \"coloraxis\": {\"colorbar\": {\"outlinewidth\": 0, \"ticks\": \"\"}}, \"colorscale\": {\"diverging\": [[0, \"#8e0152\"], [0.1, \"#c51b7d\"], [0.2, \"#de77ae\"], [0.3, \"#f1b6da\"], [0.4, \"#fde0ef\"], [0.5, \"#f7f7f7\"], [0.6, \"#e6f5d0\"], [0.7, \"#b8e186\"], [0.8, \"#7fbc41\"], [0.9, \"#4d9221\"], [1, \"#276419\"]], \"sequential\": [[0.0, \"#0d0887\"], [0.1111111111111111, \"#46039f\"], [0.2222222222222222, \"#7201a8\"], [0.3333333333333333, \"#9c179e\"], [0.4444444444444444, \"#bd3786\"], [0.5555555555555556, \"#d8576b\"], [0.6666666666666666, \"#ed7953\"], [0.7777777777777778, \"#fb9f3a\"], [0.8888888888888888, \"#fdca26\"], [1.0, \"#f0f921\"]], \"sequentialminus\": [[0.0, \"#0d0887\"], [0.1111111111111111, \"#46039f\"], [0.2222222222222222, \"#7201a8\"], [0.3333333333333333, \"#9c179e\"], [0.4444444444444444, \"#bd3786\"], [0.5555555555555556, \"#d8576b\"], [0.6666666666666666, \"#ed7953\"], [0.7777777777777778, \"#fb9f3a\"], [0.8888888888888888, \"#fdca26\"], [1.0, \"#f0f921\"]]}, \"colorway\": [\"#636efa\", \"#EF553B\", \"#00cc96\", \"#ab63fa\", \"#FFA15A\", \"#19d3f3\", \"#FF6692\", \"#B6E880\", \"#FF97FF\", \"#FECB52\"], \"font\": {\"color\": \"#2a3f5f\"}, \"geo\": {\"bgcolor\": \"white\", \"lakecolor\": \"white\", \"landcolor\": \"#E5ECF6\", \"showlakes\": true, \"showland\": true, \"subunitcolor\": \"white\"}, \"hoverlabel\": {\"align\": \"left\"}, \"hovermode\": \"closest\", \"mapbox\": {\"style\": \"light\"}, \"paper_bgcolor\": \"white\", \"plot_bgcolor\": \"#E5ECF6\", \"polar\": {\"angularaxis\": {\"gridcolor\": \"white\", \"linecolor\": \"white\", \"ticks\": \"\"}, \"bgcolor\": \"#E5ECF6\", \"radialaxis\": {\"gridcolor\": \"white\", \"linecolor\": \"white\", \"ticks\": \"\"}}, \"scene\": {\"xaxis\": {\"backgroundcolor\": \"#E5ECF6\", \"gridcolor\": \"white\", \"gridwidth\": 2, \"linecolor\": \"white\", \"showbackground\": true, \"ticks\": \"\", \"zerolinecolor\": \"white\"}, \"yaxis\": {\"backgroundcolor\": \"#E5ECF6\", \"gridcolor\": \"white\", \"gridwidth\": 2, \"linecolor\": \"white\", \"showbackground\": true, \"ticks\": \"\", \"zerolinecolor\": \"white\"}, \"zaxis\": {\"backgroundcolor\": \"#E5ECF6\", \"gridcolor\": \"white\", \"gridwidth\": 2, \"linecolor\": \"white\", \"showbackground\": true, \"ticks\": \"\", \"zerolinecolor\": \"white\"}}, \"shapedefaults\": {\"line\": {\"color\": \"#2a3f5f\"}}, \"ternary\": {\"aaxis\": {\"gridcolor\": \"white\", \"linecolor\": \"white\", \"ticks\": \"\"}, \"baxis\": {\"gridcolor\": \"white\", \"linecolor\": \"white\", \"ticks\": \"\"}, \"bgcolor\": \"#E5ECF6\", \"caxis\": {\"gridcolor\": \"white\", \"linecolor\": \"white\", \"ticks\": \"\"}}, \"title\": {\"x\": 0.05}, \"xaxis\": {\"automargin\": true, \"gridcolor\": \"white\", \"linecolor\": \"white\", \"ticks\": \"\", \"title\": {\"standoff\": 15}, \"zerolinecolor\": \"white\", \"zerolinewidth\": 2}, \"yaxis\": {\"automargin\": true, \"gridcolor\": \"white\", \"linecolor\": \"white\", \"ticks\": \"\", \"title\": {\"standoff\": 15}, \"zerolinecolor\": \"white\", \"zerolinewidth\": 2}}}, \"width\": 550, \"xaxis\": {\"dtick\": 1, \"gridwidth\": 2, \"showticklabels\": false, \"tick0\": -0.5, \"ticks\": \"\", \"zeroline\": false}, \"yaxis\": {\"autorange\": \"reversed\", \"dtick\": 1, \"gridwidth\": 2, \"showticklabels\": false, \"tick0\": 0.5, \"ticks\": \"\", \"zeroline\": false}},\n",
              "                        {\"responsive\": true}\n",
              "                    ).then(function(){\n",
              "                            \n",
              "var gd = document.getElementById('4ce3254f-3429-49de-a014-dac372743897');\n",
              "var x = new MutationObserver(function (mutations, observer) {{\n",
              "        var display = window.getComputedStyle(gd).display;\n",
              "        if (!display || display === 'none') {{\n",
              "            console.log([gd, 'removed!']);\n",
              "            Plotly.purge(gd);\n",
              "            observer.disconnect();\n",
              "        }}\n",
              "}});\n",
              "\n",
              "// Listen for the removal of the full notebook cells\n",
              "var notebookContainer = gd.closest('#notebook-container');\n",
              "if (notebookContainer) {{\n",
              "    x.observe(notebookContainer, {childList: true});\n",
              "}}\n",
              "\n",
              "// Listen for the clearing of the current output cell\n",
              "var outputEl = gd.closest('.output');\n",
              "if (outputEl) {{\n",
              "    x.observe(outputEl, {childList: true});\n",
              "}}\n",
              "\n",
              "                        })\n",
              "                };\n",
              "                \n",
              "            </script>\n",
              "        </div>\n",
              "</body>\n",
              "</html>"
            ]
          },
          "metadata": {
            "tags": []
          }
        }
      ]
    },
    {
      "cell_type": "code",
      "metadata": {
        "colab": {
          "base_uri": "https://localhost:8080/",
          "height": 542
        },
        "id": "Tx6oJroXqaud",
        "outputId": "96700ad0-3696-4ae9-a5eb-384203451f82"
      },
      "source": [
        "fig = go.Figure(data=[go.Table(header=dict(values=['No-Kill Gap', 'Save Rate (%)']),\n",
        "                               cells=dict(values=[[-1824.5], [91.48]])) \n",
        "                     ])\n",
        "fig.update_layout(width=600)\n",
        "\n",
        "fig.show()"
      ],
      "execution_count": 250,
      "outputs": [
        {
          "output_type": "display_data",
          "data": {
            "text/html": [
              "<html>\n",
              "<head><meta charset=\"utf-8\" /></head>\n",
              "<body>\n",
              "    <div>\n",
              "            <script src=\"https://cdnjs.cloudflare.com/ajax/libs/mathjax/2.7.5/MathJax.js?config=TeX-AMS-MML_SVG\"></script><script type=\"text/javascript\">if (window.MathJax) {MathJax.Hub.Config({SVG: {font: \"STIX-Web\"}});}</script>\n",
              "                <script type=\"text/javascript\">window.PlotlyConfig = {MathJaxConfig: 'local'};</script>\n",
              "        <script src=\"https://cdn.plot.ly/plotly-latest.min.js\"></script>    \n",
              "            <div id=\"1d38788a-01ec-4c3f-9d74-f0d3b5b67b83\" class=\"plotly-graph-div\" style=\"height:525px; width:600px;\"></div>\n",
              "            <script type=\"text/javascript\">\n",
              "                \n",
              "                    window.PLOTLYENV=window.PLOTLYENV || {};\n",
              "                    \n",
              "                if (document.getElementById(\"1d38788a-01ec-4c3f-9d74-f0d3b5b67b83\")) {\n",
              "                    Plotly.newPlot(\n",
              "                        '1d38788a-01ec-4c3f-9d74-f0d3b5b67b83',\n",
              "                        [{\"cells\": {\"values\": [[-1824.5], [91.48]]}, \"header\": {\"values\": [\"No-Kill Gap\", \"Save Rate (%)\"]}, \"type\": \"table\"}],\n",
              "                        {\"template\": {\"data\": {\"bar\": [{\"error_x\": {\"color\": \"#2a3f5f\"}, \"error_y\": {\"color\": \"#2a3f5f\"}, \"marker\": {\"line\": {\"color\": \"#E5ECF6\", \"width\": 0.5}}, \"type\": \"bar\"}], \"barpolar\": [{\"marker\": {\"line\": {\"color\": \"#E5ECF6\", \"width\": 0.5}}, \"type\": \"barpolar\"}], \"carpet\": [{\"aaxis\": {\"endlinecolor\": \"#2a3f5f\", \"gridcolor\": \"white\", \"linecolor\": \"white\", \"minorgridcolor\": \"white\", \"startlinecolor\": \"#2a3f5f\"}, \"baxis\": {\"endlinecolor\": \"#2a3f5f\", \"gridcolor\": \"white\", \"linecolor\": \"white\", \"minorgridcolor\": \"white\", \"startlinecolor\": \"#2a3f5f\"}, \"type\": \"carpet\"}], \"choropleth\": [{\"colorbar\": {\"outlinewidth\": 0, \"ticks\": \"\"}, \"type\": \"choropleth\"}], \"contour\": [{\"colorbar\": {\"outlinewidth\": 0, \"ticks\": \"\"}, \"colorscale\": [[0.0, \"#0d0887\"], [0.1111111111111111, \"#46039f\"], [0.2222222222222222, \"#7201a8\"], [0.3333333333333333, \"#9c179e\"], [0.4444444444444444, \"#bd3786\"], [0.5555555555555556, \"#d8576b\"], [0.6666666666666666, \"#ed7953\"], [0.7777777777777778, \"#fb9f3a\"], [0.8888888888888888, \"#fdca26\"], [1.0, \"#f0f921\"]], \"type\": \"contour\"}], \"contourcarpet\": [{\"colorbar\": {\"outlinewidth\": 0, \"ticks\": \"\"}, \"type\": \"contourcarpet\"}], \"heatmap\": [{\"colorbar\": {\"outlinewidth\": 0, \"ticks\": \"\"}, \"colorscale\": [[0.0, \"#0d0887\"], [0.1111111111111111, \"#46039f\"], [0.2222222222222222, \"#7201a8\"], [0.3333333333333333, \"#9c179e\"], [0.4444444444444444, \"#bd3786\"], [0.5555555555555556, \"#d8576b\"], [0.6666666666666666, \"#ed7953\"], [0.7777777777777778, \"#fb9f3a\"], [0.8888888888888888, \"#fdca26\"], [1.0, \"#f0f921\"]], \"type\": \"heatmap\"}], \"heatmapgl\": [{\"colorbar\": {\"outlinewidth\": 0, \"ticks\": \"\"}, \"colorscale\": [[0.0, \"#0d0887\"], [0.1111111111111111, \"#46039f\"], [0.2222222222222222, \"#7201a8\"], [0.3333333333333333, \"#9c179e\"], [0.4444444444444444, \"#bd3786\"], [0.5555555555555556, \"#d8576b\"], [0.6666666666666666, \"#ed7953\"], [0.7777777777777778, \"#fb9f3a\"], [0.8888888888888888, \"#fdca26\"], [1.0, \"#f0f921\"]], \"type\": \"heatmapgl\"}], \"histogram\": [{\"marker\": {\"colorbar\": {\"outlinewidth\": 0, \"ticks\": \"\"}}, \"type\": \"histogram\"}], \"histogram2d\": [{\"colorbar\": {\"outlinewidth\": 0, \"ticks\": \"\"}, \"colorscale\": [[0.0, \"#0d0887\"], [0.1111111111111111, \"#46039f\"], [0.2222222222222222, \"#7201a8\"], [0.3333333333333333, \"#9c179e\"], [0.4444444444444444, \"#bd3786\"], [0.5555555555555556, \"#d8576b\"], [0.6666666666666666, \"#ed7953\"], [0.7777777777777778, \"#fb9f3a\"], [0.8888888888888888, \"#fdca26\"], [1.0, \"#f0f921\"]], \"type\": \"histogram2d\"}], \"histogram2dcontour\": [{\"colorbar\": {\"outlinewidth\": 0, \"ticks\": \"\"}, \"colorscale\": [[0.0, \"#0d0887\"], [0.1111111111111111, \"#46039f\"], [0.2222222222222222, \"#7201a8\"], [0.3333333333333333, \"#9c179e\"], [0.4444444444444444, \"#bd3786\"], [0.5555555555555556, \"#d8576b\"], [0.6666666666666666, \"#ed7953\"], [0.7777777777777778, \"#fb9f3a\"], [0.8888888888888888, \"#fdca26\"], [1.0, \"#f0f921\"]], \"type\": \"histogram2dcontour\"}], \"mesh3d\": [{\"colorbar\": {\"outlinewidth\": 0, \"ticks\": \"\"}, \"type\": \"mesh3d\"}], \"parcoords\": [{\"line\": {\"colorbar\": {\"outlinewidth\": 0, \"ticks\": \"\"}}, \"type\": \"parcoords\"}], \"pie\": [{\"automargin\": true, \"type\": \"pie\"}], \"scatter\": [{\"marker\": {\"colorbar\": {\"outlinewidth\": 0, \"ticks\": \"\"}}, \"type\": \"scatter\"}], \"scatter3d\": [{\"line\": {\"colorbar\": {\"outlinewidth\": 0, \"ticks\": \"\"}}, \"marker\": {\"colorbar\": {\"outlinewidth\": 0, \"ticks\": \"\"}}, \"type\": \"scatter3d\"}], \"scattercarpet\": [{\"marker\": {\"colorbar\": {\"outlinewidth\": 0, \"ticks\": \"\"}}, \"type\": \"scattercarpet\"}], \"scattergeo\": [{\"marker\": {\"colorbar\": {\"outlinewidth\": 0, \"ticks\": \"\"}}, \"type\": \"scattergeo\"}], \"scattergl\": [{\"marker\": {\"colorbar\": {\"outlinewidth\": 0, \"ticks\": \"\"}}, \"type\": \"scattergl\"}], \"scattermapbox\": [{\"marker\": {\"colorbar\": {\"outlinewidth\": 0, \"ticks\": \"\"}}, \"type\": \"scattermapbox\"}], \"scatterpolar\": [{\"marker\": {\"colorbar\": {\"outlinewidth\": 0, \"ticks\": \"\"}}, \"type\": \"scatterpolar\"}], \"scatterpolargl\": [{\"marker\": {\"colorbar\": {\"outlinewidth\": 0, \"ticks\": \"\"}}, \"type\": \"scatterpolargl\"}], \"scatterternary\": [{\"marker\": {\"colorbar\": {\"outlinewidth\": 0, \"ticks\": \"\"}}, \"type\": \"scatterternary\"}], \"surface\": [{\"colorbar\": {\"outlinewidth\": 0, \"ticks\": \"\"}, \"colorscale\": [[0.0, \"#0d0887\"], [0.1111111111111111, \"#46039f\"], [0.2222222222222222, \"#7201a8\"], [0.3333333333333333, \"#9c179e\"], [0.4444444444444444, \"#bd3786\"], [0.5555555555555556, \"#d8576b\"], [0.6666666666666666, \"#ed7953\"], [0.7777777777777778, \"#fb9f3a\"], [0.8888888888888888, \"#fdca26\"], [1.0, \"#f0f921\"]], \"type\": \"surface\"}], \"table\": [{\"cells\": {\"fill\": {\"color\": \"#EBF0F8\"}, \"line\": {\"color\": \"white\"}}, \"header\": {\"fill\": {\"color\": \"#C8D4E3\"}, \"line\": {\"color\": \"white\"}}, \"type\": \"table\"}]}, \"layout\": {\"annotationdefaults\": {\"arrowcolor\": \"#2a3f5f\", \"arrowhead\": 0, \"arrowwidth\": 1}, \"coloraxis\": {\"colorbar\": {\"outlinewidth\": 0, \"ticks\": \"\"}}, \"colorscale\": {\"diverging\": [[0, \"#8e0152\"], [0.1, \"#c51b7d\"], [0.2, \"#de77ae\"], [0.3, \"#f1b6da\"], [0.4, \"#fde0ef\"], [0.5, \"#f7f7f7\"], [0.6, \"#e6f5d0\"], [0.7, \"#b8e186\"], [0.8, \"#7fbc41\"], [0.9, \"#4d9221\"], [1, \"#276419\"]], \"sequential\": [[0.0, \"#0d0887\"], [0.1111111111111111, \"#46039f\"], [0.2222222222222222, \"#7201a8\"], [0.3333333333333333, \"#9c179e\"], [0.4444444444444444, \"#bd3786\"], [0.5555555555555556, \"#d8576b\"], [0.6666666666666666, \"#ed7953\"], [0.7777777777777778, \"#fb9f3a\"], [0.8888888888888888, \"#fdca26\"], [1.0, \"#f0f921\"]], \"sequentialminus\": [[0.0, \"#0d0887\"], [0.1111111111111111, \"#46039f\"], [0.2222222222222222, \"#7201a8\"], [0.3333333333333333, \"#9c179e\"], [0.4444444444444444, \"#bd3786\"], [0.5555555555555556, \"#d8576b\"], [0.6666666666666666, \"#ed7953\"], [0.7777777777777778, \"#fb9f3a\"], [0.8888888888888888, \"#fdca26\"], [1.0, \"#f0f921\"]]}, \"colorway\": [\"#636efa\", \"#EF553B\", \"#00cc96\", \"#ab63fa\", \"#FFA15A\", \"#19d3f3\", \"#FF6692\", \"#B6E880\", \"#FF97FF\", \"#FECB52\"], \"font\": {\"color\": \"#2a3f5f\"}, \"geo\": {\"bgcolor\": \"white\", \"lakecolor\": \"white\", \"landcolor\": \"#E5ECF6\", \"showlakes\": true, \"showland\": true, \"subunitcolor\": \"white\"}, \"hoverlabel\": {\"align\": \"left\"}, \"hovermode\": \"closest\", \"mapbox\": {\"style\": \"light\"}, \"paper_bgcolor\": \"white\", \"plot_bgcolor\": \"#E5ECF6\", \"polar\": {\"angularaxis\": {\"gridcolor\": \"white\", \"linecolor\": \"white\", \"ticks\": \"\"}, \"bgcolor\": \"#E5ECF6\", \"radialaxis\": {\"gridcolor\": \"white\", \"linecolor\": \"white\", \"ticks\": \"\"}}, \"scene\": {\"xaxis\": {\"backgroundcolor\": \"#E5ECF6\", \"gridcolor\": \"white\", \"gridwidth\": 2, \"linecolor\": \"white\", \"showbackground\": true, \"ticks\": \"\", \"zerolinecolor\": \"white\"}, \"yaxis\": {\"backgroundcolor\": \"#E5ECF6\", \"gridcolor\": \"white\", \"gridwidth\": 2, \"linecolor\": \"white\", \"showbackground\": true, \"ticks\": \"\", \"zerolinecolor\": \"white\"}, \"zaxis\": {\"backgroundcolor\": \"#E5ECF6\", \"gridcolor\": \"white\", \"gridwidth\": 2, \"linecolor\": \"white\", \"showbackground\": true, \"ticks\": \"\", \"zerolinecolor\": \"white\"}}, \"shapedefaults\": {\"line\": {\"color\": \"#2a3f5f\"}}, \"ternary\": {\"aaxis\": {\"gridcolor\": \"white\", \"linecolor\": \"white\", \"ticks\": \"\"}, \"baxis\": {\"gridcolor\": \"white\", \"linecolor\": \"white\", \"ticks\": \"\"}, \"bgcolor\": \"#E5ECF6\", \"caxis\": {\"gridcolor\": \"white\", \"linecolor\": \"white\", \"ticks\": \"\"}}, \"title\": {\"x\": 0.05}, \"xaxis\": {\"automargin\": true, \"gridcolor\": \"white\", \"linecolor\": \"white\", \"ticks\": \"\", \"title\": {\"standoff\": 15}, \"zerolinecolor\": \"white\", \"zerolinewidth\": 2}, \"yaxis\": {\"automargin\": true, \"gridcolor\": \"white\", \"linecolor\": \"white\", \"ticks\": \"\", \"title\": {\"standoff\": 15}, \"zerolinecolor\": \"white\", \"zerolinewidth\": 2}}}, \"width\": 600},\n",
              "                        {\"responsive\": true}\n",
              "                    ).then(function(){\n",
              "                            \n",
              "var gd = document.getElementById('1d38788a-01ec-4c3f-9d74-f0d3b5b67b83');\n",
              "var x = new MutationObserver(function (mutations, observer) {{\n",
              "        var display = window.getComputedStyle(gd).display;\n",
              "        if (!display || display === 'none') {{\n",
              "            console.log([gd, 'removed!']);\n",
              "            Plotly.purge(gd);\n",
              "            observer.disconnect();\n",
              "        }}\n",
              "}});\n",
              "\n",
              "// Listen for the removal of the full notebook cells\n",
              "var notebookContainer = gd.closest('#notebook-container');\n",
              "if (notebookContainer) {{\n",
              "    x.observe(notebookContainer, {childList: true});\n",
              "}}\n",
              "\n",
              "// Listen for the clearing of the current output cell\n",
              "var outputEl = gd.closest('.output');\n",
              "if (outputEl) {{\n",
              "    x.observe(outputEl, {childList: true});\n",
              "}}\n",
              "\n",
              "                        })\n",
              "                };\n",
              "                \n",
              "            </script>\n",
              "        </div>\n",
              "</body>\n",
              "</html>"
            ]
          },
          "metadata": {
            "tags": []
          }
        }
      ]
    }
  ]
}